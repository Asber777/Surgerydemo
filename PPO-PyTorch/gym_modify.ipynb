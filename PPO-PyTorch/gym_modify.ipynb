{
 "cells": [
  {
   "cell_type": "code",
   "execution_count": 17,
   "source": [
    "import gym\n",
    "import numpy as np\n",
    "from gym import spaces\n",
    "\n",
    "class ReduceActionWrapper(gym.ActionWrapper):\n",
    "    def __init__(self, env, action_map):\n",
    "        super().__init__(env)\n",
    "        self.action_map = action_map\n",
    "        self.action_space = spaces.Discrete(len(action_map))\n",
    "\n",
    "    def action(self, act): # modify action\n",
    "        return self.action_map[act]\n",
    "\n",
    "class ReduceObsWrapper(gym.ObservationWrapper):\n",
    "    def __init__(self, env, obs_idx):\n",
    "        super().__init__(env)\n",
    "        self.obs_idx = obs_idx\n",
    "        self.observation_space = spaces.Box(-np.inf, np.inf, shape=(len(obs_idx),), dtype=np.float32)\n",
    "\n",
    "    def observation(self, observation):\n",
    "        return observation[self.obs_idx]\n",
    "\n",
    "env = gym.make(\"LunarLander-v2\",)\n",
    "env = ReduceActionWrapper(env, {0: 0, 1: 1, 2: 3})\n",
    "env = ReduceObsWrapper(env, [0, 1, 3, 4, 5,])"
   ],
   "outputs": [],
   "metadata": {}
  },
  {
   "cell_type": "code",
   "execution_count": 16,
   "source": [
    "env.observation_space.shape[0], env.action_space.n"
   ],
   "outputs": [
    {
     "output_type": "execute_result",
     "data": {
      "text/plain": [
       "(8, 4)"
      ]
     },
     "metadata": {},
     "execution_count": 16
    }
   ],
   "metadata": {}
  },
  {
   "cell_type": "code",
   "execution_count": 12,
   "source": [
    "less_env.reset()"
   ],
   "outputs": [
    {
     "output_type": "execute_result",
     "data": {
      "text/plain": [
       "array([ 0.00721817,  1.4174229 ,  0.2889894 , -0.00835734, -0.16560844],\n",
       "      dtype=float32)"
      ]
     },
     "metadata": {},
     "execution_count": 12
    }
   ],
   "metadata": {}
  },
  {
   "cell_type": "code",
   "execution_count": null,
   "source": [],
   "outputs": [],
   "metadata": {}
  }
 ],
 "metadata": {
  "orig_nbformat": 4,
  "language_info": {
   "name": "python",
   "version": "3.6.13",
   "mimetype": "text/x-python",
   "codemirror_mode": {
    "name": "ipython",
    "version": 3
   },
   "pygments_lexer": "ipython3",
   "nbconvert_exporter": "python",
   "file_extension": ".py"
  },
  "kernelspec": {
   "name": "python3",
   "display_name": "Python 3.6.13 64-bit ('tftorch': conda)"
  },
  "interpreter": {
   "hash": "3242c50314a9a68f934114b03bfda27d4d4439c8399dcbb46cdc3239617c61c1"
  }
 },
 "nbformat": 4,
 "nbformat_minor": 2
}