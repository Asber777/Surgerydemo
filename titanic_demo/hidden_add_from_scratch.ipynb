{
 "cells": [
  {
   "cell_type": "code",
   "execution_count": null,
   "source": [
    "# hidden num remain unchange, training from scratch\n",
    "import os\n",
    "import pandas as pd\n",
    "import numpy as np\n",
    "import torch.nn as nn\n",
    "import matplotlib.pyplot as plt\n",
    "from torch import optim\n",
    "from pretreat import *\n",
    "%matplotlib inline\n",
    "np.random.seed(0)\n",
    "training = get_pretreated_training_data()\n",
    "old_input_dict = ['Pclass', 'Age', 'SibSp', 'Parch', 'Fare', 'cabine_n', 'IsAlone']\n",
    "loader = get_dataloader(training, old_input_dict, bs=32)\n",
    "model = MLP(input_dim = len(old_input_dict), hidden_dims=[40, 50, 100, 100, 100, 100,]).cuda()\n",
    "lr = 0.001\n",
    "epoches = 2000 \n",
    "comment = 'new_network with old input from scratch'\n",
    "model_name = 'newnetwork_oldinput_from_scratch.ckpt'\n",
    "input_dic = old_input_dict\n",
    "acc_cur, loss_cur = train(model, loader, comment, model_name, input_dic, )"
   ],
   "outputs": [],
   "metadata": {}
  },
  {
   "cell_type": "code",
   "execution_count": null,
   "source": [],
   "outputs": [],
   "metadata": {}
  }
 ],
 "metadata": {
  "orig_nbformat": 4,
  "language_info": {
   "name": "python",
   "version": "3.6.13",
   "mimetype": "text/x-python",
   "codemirror_mode": {
    "name": "ipython",
    "version": 3
   },
   "pygments_lexer": "ipython3",
   "nbconvert_exporter": "python",
   "file_extension": ".py"
  },
  "kernelspec": {
   "name": "python3",
   "display_name": "Python 3.6.13 64-bit ('tftorch': conda)"
  },
  "interpreter": {
   "hash": "3242c50314a9a68f934114b03bfda27d4d4439c8399dcbb46cdc3239617c61c1"
  }
 },
 "nbformat": 4,
 "nbformat_minor": 2
}