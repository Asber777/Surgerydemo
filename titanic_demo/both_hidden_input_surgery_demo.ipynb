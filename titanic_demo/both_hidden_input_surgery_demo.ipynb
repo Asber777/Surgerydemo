{
 "cells": [
  {
   "cell_type": "code",
   "execution_count": 1,
   "source": [
    "# hidden num remain unchange"
   ],
   "outputs": [],
   "metadata": {}
  },
  {
   "cell_type": "code",
   "execution_count": 1,
   "source": [
    "import torch\n",
    "old = torch.load('/home/workspace/util/surgery/titanic_demo/runs/May24_08-22-52_1d7a14f7cd78old_network with old input from scratch/oldnetwork_oldinput_from_scratch_bs32.ckpt')"
   ],
   "outputs": [],
   "metadata": {}
  },
  {
   "cell_type": "code",
   "execution_count": 44,
   "source": [
    "# hidden num remain unchange\n",
    "import os\n",
    "import numpy as np\n",
    "from torch import optim\n",
    "from pretreat import *\n",
    "%matplotlib inline\n",
    "np.random.seed(0)\n",
    "training = get_pretreated_training_data()\n",
    "old_input_dict = ['Pclass', 'Age', 'SibSp', 'Parch', 'Fare', 'cabine_n', 'IsAlone']\n",
    "new_input_dict = old_input_dict + ['sp', 'Sex_female', 'Sex_male', 'Embarked_C', 'Embarked_Q', 'Embarked_S']\n",
    "loader = get_dataloader(training, new_input_dict, bs=32)\n",
    "new_net = MLP(input_dim = len(new_input_dict), hidden_dims=[40, 50, 100, 100, 100, 100,]).cuda()"
   ],
   "outputs": [
    {
     "output_type": "stream",
     "name": "stderr",
     "text": [
      "/home/miniconda/envs/tftorch/lib/python3.6/site-packages/pandas/core/indexing.py:670: SettingWithCopyWarning: \n",
      "A value is trying to be set on a copy of a slice from a DataFrame\n",
      "\n",
      "See the caveats in the documentation: https://pandas.pydata.org/pandas-docs/stable/user_guide/indexing.html#returning-a-view-versus-a-copy\n",
      "  iloc._setitem_with_indexer(indexer, value)\n"
     ]
    }
   ],
   "metadata": {}
  },
  {
   "cell_type": "code",
   "execution_count": 45,
   "source": [
    "layer = 0\n",
    "w = \"layers.{}.weight\".format(layer)\n",
    "b = \"layers.{}.bias\".format(layer)\n",
    "w1 = old['para'][w]\n",
    "b1 = old['para'][b]\n",
    "\n",
    "inwmap = {}\n",
    "for i, f in enumerate(old['input']):\n",
    "    inwmap[f] = w1[:, i]\n",
    "\n",
    "inbmap = {} # 和hidden node 相关\n",
    "for i in range(w1.shape[0]):\n",
    "    inbmap[i] = b1[i]"
   ],
   "outputs": [],
   "metadata": {}
  },
  {
   "cell_type": "code",
   "execution_count": 46,
   "source": [
    "# 增加了输入 和中间层, 对于多出来的进行0初始化, 假设所有多出来的node都在原来hidden的下面同一侧\n",
    "for i, (name, g) in enumerate(new_net.named_parameters()):\n",
    "    old_g = old['para'][name].data\n",
    "    if old_g.shape != g.shape:\n",
    "        if i == 1:\n",
    "            new_g = torch.zeros_like(g)\n",
    "            for hidden_n, b in inbmap.items():\n",
    "                new_g[hidden_n] = b\n",
    "        elif i == 0:\n",
    "            new_g = torch.zeros_like(g)\n",
    "            for j, f in enumerate(new_input_dict):\n",
    "                if f in inwmap.keys():\n",
    "                    old_w = inwmap[f]\n",
    "                    new_g[:old_w.shape[0], j] = old_w\n",
    "        elif i == 2:\n",
    "            new_g = g.clone().detach()\n",
    "            new_g[:, :old_g.shape[1]] = old_g\n",
    "        else:\n",
    "            assert False\n",
    "        g.data = new_g\n",
    "    else:\n",
    "        # print(name, g.shape)\n",
    "        g.data = old['para'][name].data\n",
    "    "
   ],
   "outputs": [],
   "metadata": {}
  },
  {
   "cell_type": "code",
   "execution_count": 47,
   "source": [
    "new = new_net.state_dict()"
   ],
   "outputs": [],
   "metadata": {}
  },
  {
   "cell_type": "code",
   "execution_count": 48,
   "source": [
    "new['layers.0.weight']"
   ],
   "outputs": [
    {
     "output_type": "execute_result",
     "data": {
      "text/plain": [
       "tensor([[ 8.5299e-03, -2.2137e-01,  4.2435e-01, -3.4890e-01,  1.6520e-01,\n",
       "          3.0243e-02,  5.2682e-03,  0.0000e+00,  0.0000e+00,  0.0000e+00,\n",
       "          0.0000e+00,  0.0000e+00,  0.0000e+00],\n",
       "        [-9.4769e-01,  2.8481e-02,  3.4451e-01, -6.2756e-01,  1.5863e-01,\n",
       "         -4.7748e-01, -8.3875e-01,  0.0000e+00,  0.0000e+00,  0.0000e+00,\n",
       "          0.0000e+00,  0.0000e+00,  0.0000e+00],\n",
       "        [ 4.3869e-01, -4.8007e-01, -1.1632e-01, -3.6142e-01,  4.2263e-01,\n",
       "          1.9024e-01, -1.9510e-02,  0.0000e+00,  0.0000e+00,  0.0000e+00,\n",
       "          0.0000e+00,  0.0000e+00,  0.0000e+00],\n",
       "        [ 5.6465e-01, -9.9225e-02,  8.4840e-01,  4.3230e-01, -1.4533e-02,\n",
       "         -1.0773e-01,  3.3058e-01,  0.0000e+00,  0.0000e+00,  0.0000e+00,\n",
       "          0.0000e+00,  0.0000e+00,  0.0000e+00],\n",
       "        [ 1.1491e-01,  2.4626e-01, -4.7582e-01, -4.1035e-01, -1.5415e-01,\n",
       "         -1.4015e+00, -4.0408e-01,  0.0000e+00,  0.0000e+00,  0.0000e+00,\n",
       "          0.0000e+00,  0.0000e+00,  0.0000e+00],\n",
       "        [ 5.1008e-01, -1.9821e-01,  4.4321e-01, -3.9610e-01,  3.2601e-01,\n",
       "         -6.8236e-01,  1.0339e+00,  0.0000e+00,  0.0000e+00,  0.0000e+00,\n",
       "          0.0000e+00,  0.0000e+00,  0.0000e+00],\n",
       "        [-1.9987e-02, -2.7648e-02, -3.0490e-03, -1.9092e-03, -2.9005e-02,\n",
       "         -5.6041e-02, -2.5197e-02,  0.0000e+00,  0.0000e+00,  0.0000e+00,\n",
       "          0.0000e+00,  0.0000e+00,  0.0000e+00],\n",
       "        [-8.0068e-31, -2.3602e-08,  8.3063e-30, -5.2860e-30, -2.5990e-26,\n",
       "         -9.7048e-30, -1.6317e-29,  0.0000e+00,  0.0000e+00,  0.0000e+00,\n",
       "          0.0000e+00,  0.0000e+00,  0.0000e+00],\n",
       "        [-6.8594e-17, -3.5678e-04, -2.7722e-41, -5.4855e-41, -8.1415e-05,\n",
       "         -6.2162e-41,  4.8463e-41,  0.0000e+00,  0.0000e+00,  0.0000e+00,\n",
       "          0.0000e+00,  0.0000e+00,  0.0000e+00],\n",
       "        [ 2.5646e-01,  1.9983e-01,  6.1969e-01,  2.3496e-01, -2.8571e-01,\n",
       "         -3.7542e-01, -6.6970e-01,  0.0000e+00,  0.0000e+00,  0.0000e+00,\n",
       "          0.0000e+00,  0.0000e+00,  0.0000e+00],\n",
       "        [-1.6388e-02,  3.3189e-02,  2.9720e-06,  5.4441e-11, -1.5993e-01,\n",
       "          4.3505e-03, -6.5065e-03,  0.0000e+00,  0.0000e+00,  0.0000e+00,\n",
       "          0.0000e+00,  0.0000e+00,  0.0000e+00],\n",
       "        [-3.2827e-01, -1.7487e-01, -1.3046e+00,  2.1439e-01,  2.3684e-01,\n",
       "          4.3381e-01,  6.5156e-01,  0.0000e+00,  0.0000e+00,  0.0000e+00,\n",
       "          0.0000e+00,  0.0000e+00,  0.0000e+00],\n",
       "        [-5.0762e-01, -3.0719e-02, -6.0233e-01,  8.5095e-01,  1.0504e-01,\n",
       "         -5.0462e-01, -4.2618e-01,  0.0000e+00,  0.0000e+00,  0.0000e+00,\n",
       "          0.0000e+00,  0.0000e+00,  0.0000e+00],\n",
       "        [ 2.3468e-01,  6.7296e-02,  3.4324e-01, -1.0015e+00, -9.2895e-02,\n",
       "         -1.0879e+00, -3.0244e-02,  0.0000e+00,  0.0000e+00,  0.0000e+00,\n",
       "          0.0000e+00,  0.0000e+00,  0.0000e+00],\n",
       "        [ 3.0459e-01, -3.1210e-01,  1.4360e+00,  8.4901e-03,  3.1998e-01,\n",
       "         -6.8545e-01, -6.1014e-01,  0.0000e+00,  0.0000e+00,  0.0000e+00,\n",
       "          0.0000e+00,  0.0000e+00,  0.0000e+00],\n",
       "        [ 2.9930e-20, -3.3049e-19, -1.5783e-22,  3.4367e-21, -1.1347e-19,\n",
       "         -1.7291e-23, -2.5238e-20,  0.0000e+00,  0.0000e+00,  0.0000e+00,\n",
       "          0.0000e+00,  0.0000e+00,  0.0000e+00],\n",
       "        [ 2.3056e-01,  1.0642e-02,  1.0798e+00,  2.6495e-01, -9.9039e-03,\n",
       "         -7.9193e-01,  2.5157e-01,  0.0000e+00,  0.0000e+00,  0.0000e+00,\n",
       "          0.0000e+00,  0.0000e+00,  0.0000e+00],\n",
       "        [ 2.8131e-02,  5.1918e-02,  7.3182e-01,  6.4212e-01, -1.4960e-02,\n",
       "         -9.3905e-01, -9.0479e-02,  0.0000e+00,  0.0000e+00,  0.0000e+00,\n",
       "          0.0000e+00,  0.0000e+00,  0.0000e+00],\n",
       "        [-3.9636e-06, -2.1029e-02, -1.5905e-06, -1.9627e-25, -1.7674e-02,\n",
       "         -3.9459e-24,  5.4357e-16,  0.0000e+00,  0.0000e+00,  0.0000e+00,\n",
       "          0.0000e+00,  0.0000e+00,  0.0000e+00],\n",
       "        [-7.2794e-09, -3.2557e-03,  1.9427e-25, -2.0514e-41, -1.3436e-03,\n",
       "         -2.6161e-40,  1.4946e-37,  0.0000e+00,  0.0000e+00,  0.0000e+00,\n",
       "          0.0000e+00,  0.0000e+00,  0.0000e+00],\n",
       "        [-4.5212e-07, -1.1475e-02, -9.8773e-17, -3.9144e-15, -4.7004e-03,\n",
       "          5.5608e-37,  2.1628e-21,  0.0000e+00,  0.0000e+00,  0.0000e+00,\n",
       "          0.0000e+00,  0.0000e+00,  0.0000e+00],\n",
       "        [-7.5477e-01,  2.4377e-02, -1.4100e+00,  6.0631e-01,  2.2472e-01,\n",
       "          8.0888e-01, -7.5718e-01,  0.0000e+00,  0.0000e+00,  0.0000e+00,\n",
       "          0.0000e+00,  0.0000e+00,  0.0000e+00],\n",
       "        [ 7.2729e-41, -2.0507e-10, -2.7107e-41, -8.5872e-42, -6.5605e-16,\n",
       "         -7.6539e-42, -5.4089e-41,  0.0000e+00,  0.0000e+00,  0.0000e+00,\n",
       "          0.0000e+00,  0.0000e+00,  0.0000e+00],\n",
       "        [-8.0097e-01, -1.7311e-01,  3.5557e-01, -1.2267e+00,  3.2368e-01,\n",
       "          8.8772e-01, -4.3511e-01,  0.0000e+00,  0.0000e+00,  0.0000e+00,\n",
       "          0.0000e+00,  0.0000e+00,  0.0000e+00],\n",
       "        [-3.5086e-01, -1.5174e-01, -1.0845e+00,  1.4901e-01,  4.3019e-01,\n",
       "         -1.3258e-01, -2.0958e-02,  0.0000e+00,  0.0000e+00,  0.0000e+00,\n",
       "          0.0000e+00,  0.0000e+00,  0.0000e+00],\n",
       "        [ 0.0000e+00,  0.0000e+00,  0.0000e+00,  0.0000e+00,  0.0000e+00,\n",
       "          0.0000e+00,  0.0000e+00,  0.0000e+00,  0.0000e+00,  0.0000e+00,\n",
       "          0.0000e+00,  0.0000e+00,  0.0000e+00],\n",
       "        [ 0.0000e+00,  0.0000e+00,  0.0000e+00,  0.0000e+00,  0.0000e+00,\n",
       "          0.0000e+00,  0.0000e+00,  0.0000e+00,  0.0000e+00,  0.0000e+00,\n",
       "          0.0000e+00,  0.0000e+00,  0.0000e+00],\n",
       "        [ 0.0000e+00,  0.0000e+00,  0.0000e+00,  0.0000e+00,  0.0000e+00,\n",
       "          0.0000e+00,  0.0000e+00,  0.0000e+00,  0.0000e+00,  0.0000e+00,\n",
       "          0.0000e+00,  0.0000e+00,  0.0000e+00],\n",
       "        [ 0.0000e+00,  0.0000e+00,  0.0000e+00,  0.0000e+00,  0.0000e+00,\n",
       "          0.0000e+00,  0.0000e+00,  0.0000e+00,  0.0000e+00,  0.0000e+00,\n",
       "          0.0000e+00,  0.0000e+00,  0.0000e+00],\n",
       "        [ 0.0000e+00,  0.0000e+00,  0.0000e+00,  0.0000e+00,  0.0000e+00,\n",
       "          0.0000e+00,  0.0000e+00,  0.0000e+00,  0.0000e+00,  0.0000e+00,\n",
       "          0.0000e+00,  0.0000e+00,  0.0000e+00],\n",
       "        [ 0.0000e+00,  0.0000e+00,  0.0000e+00,  0.0000e+00,  0.0000e+00,\n",
       "          0.0000e+00,  0.0000e+00,  0.0000e+00,  0.0000e+00,  0.0000e+00,\n",
       "          0.0000e+00,  0.0000e+00,  0.0000e+00],\n",
       "        [ 0.0000e+00,  0.0000e+00,  0.0000e+00,  0.0000e+00,  0.0000e+00,\n",
       "          0.0000e+00,  0.0000e+00,  0.0000e+00,  0.0000e+00,  0.0000e+00,\n",
       "          0.0000e+00,  0.0000e+00,  0.0000e+00],\n",
       "        [ 0.0000e+00,  0.0000e+00,  0.0000e+00,  0.0000e+00,  0.0000e+00,\n",
       "          0.0000e+00,  0.0000e+00,  0.0000e+00,  0.0000e+00,  0.0000e+00,\n",
       "          0.0000e+00,  0.0000e+00,  0.0000e+00],\n",
       "        [ 0.0000e+00,  0.0000e+00,  0.0000e+00,  0.0000e+00,  0.0000e+00,\n",
       "          0.0000e+00,  0.0000e+00,  0.0000e+00,  0.0000e+00,  0.0000e+00,\n",
       "          0.0000e+00,  0.0000e+00,  0.0000e+00],\n",
       "        [ 0.0000e+00,  0.0000e+00,  0.0000e+00,  0.0000e+00,  0.0000e+00,\n",
       "          0.0000e+00,  0.0000e+00,  0.0000e+00,  0.0000e+00,  0.0000e+00,\n",
       "          0.0000e+00,  0.0000e+00,  0.0000e+00],\n",
       "        [ 0.0000e+00,  0.0000e+00,  0.0000e+00,  0.0000e+00,  0.0000e+00,\n",
       "          0.0000e+00,  0.0000e+00,  0.0000e+00,  0.0000e+00,  0.0000e+00,\n",
       "          0.0000e+00,  0.0000e+00,  0.0000e+00],\n",
       "        [ 0.0000e+00,  0.0000e+00,  0.0000e+00,  0.0000e+00,  0.0000e+00,\n",
       "          0.0000e+00,  0.0000e+00,  0.0000e+00,  0.0000e+00,  0.0000e+00,\n",
       "          0.0000e+00,  0.0000e+00,  0.0000e+00],\n",
       "        [ 0.0000e+00,  0.0000e+00,  0.0000e+00,  0.0000e+00,  0.0000e+00,\n",
       "          0.0000e+00,  0.0000e+00,  0.0000e+00,  0.0000e+00,  0.0000e+00,\n",
       "          0.0000e+00,  0.0000e+00,  0.0000e+00],\n",
       "        [ 0.0000e+00,  0.0000e+00,  0.0000e+00,  0.0000e+00,  0.0000e+00,\n",
       "          0.0000e+00,  0.0000e+00,  0.0000e+00,  0.0000e+00,  0.0000e+00,\n",
       "          0.0000e+00,  0.0000e+00,  0.0000e+00],\n",
       "        [ 0.0000e+00,  0.0000e+00,  0.0000e+00,  0.0000e+00,  0.0000e+00,\n",
       "          0.0000e+00,  0.0000e+00,  0.0000e+00,  0.0000e+00,  0.0000e+00,\n",
       "          0.0000e+00,  0.0000e+00,  0.0000e+00]], device='cuda:0')"
      ]
     },
     "metadata": {},
     "execution_count": 48
    }
   ],
   "metadata": {}
  },
  {
   "cell_type": "code",
   "execution_count": 49,
   "source": [
    "# get surgery之后最初始的acc\n",
    "sum_acc = 0\n",
    "for x, y in loader:\n",
    "    x, y = x.cuda(), y.cuda()\n",
    "    outputs=new_net(x)\n",
    "    _,id=torch.max(outputs.data,1)\n",
    "    acc=torch.sum(id==y.data)\n",
    "    sum_acc += acc.item() \n",
    "print(sum_acc)"
   ],
   "outputs": [
    {
     "output_type": "stream",
     "name": "stdout",
     "text": [
      "752\n"
     ]
    },
    {
     "output_type": "stream",
     "name": "stderr",
     "text": [
      "/home/miniconda/envs/tftorch/lib/python3.6/site-packages/torch/nn/modules/container.py:139: UserWarning: Implicit dimension choice for softmax has been deprecated. Change the call to include dim=X as an argument.\n",
      "  input = module(input)\n"
     ]
    }
   ],
   "metadata": {}
  },
  {
   "cell_type": "code",
   "execution_count": 50,
   "source": [
    "lr = 0.001\n",
    "epoches = 2000 \n",
    "comment = 'hidden_add_new_net with new input Using Surgery'\n",
    "model_name = 'hidden_add_newnetwork_newinput_usingSurgery.ckpt'\n",
    "input_dic = new_input_dict\n",
    "acc_cur, loss_cur = train(new_net, loader, comment, model_name, input_dic, )"
   ],
   "outputs": [],
   "metadata": {}
  },
  {
   "cell_type": "code",
   "execution_count": null,
   "source": [],
   "outputs": [],
   "metadata": {}
  }
 ],
 "metadata": {
  "orig_nbformat": 4,
  "language_info": {
   "name": "python",
   "version": "3.6.13",
   "mimetype": "text/x-python",
   "codemirror_mode": {
    "name": "ipython",
    "version": 3
   },
   "pygments_lexer": "ipython3",
   "nbconvert_exporter": "python",
   "file_extension": ".py"
  },
  "kernelspec": {
   "name": "python3",
   "display_name": "Python 3.6.13 64-bit ('tftorch': conda)"
  },
  "interpreter": {
   "hash": "3242c50314a9a68f934114b03bfda27d4d4439c8399dcbb46cdc3239617c61c1"
  }
 },
 "nbformat": 4,
 "nbformat_minor": 2
}