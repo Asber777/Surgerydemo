{
 "cells": [
  {
   "cell_type": "code",
   "execution_count": 1,
   "source": [
    "# hidden num remain unchange\n",
    "import os\n",
    "import numpy as np\n",
    "from torch import optim\n",
    "from pretreat import *\n",
    "%matplotlib inline\n",
    "np.random.seed(0)\n",
    "training = get_pretreated_training_data()\n",
    "old_input_dict = ['Pclass', 'Age', 'SibSp', 'Parch', 'Fare', 'cabine_n', 'IsAlone']\n",
    "new_input_dict = old_input_dict + ['sp', 'Sex_female', 'Sex_male', 'Embarked_C', 'Embarked_Q', 'Embarked_S']\n",
    "loader = get_dataloader(training, new_input_dict, bs=32)\n",
    "model = MLP(input_dim = len(new_input_dict), hidden_dims=[25, 50, 100, 100, 100, 100,]).cuda()"
   ],
   "outputs": [
    {
     "output_type": "stream",
     "name": "stderr",
     "text": [
      "/home/miniconda/envs/tftorch/lib/python3.6/site-packages/pandas/core/indexing.py:670: SettingWithCopyWarning: \n",
      "A value is trying to be set on a copy of a slice from a DataFrame\n",
      "\n",
      "See the caveats in the documentation: https://pandas.pydata.org/pandas-docs/stable/user_guide/indexing.html#returning-a-view-versus-a-copy\n",
      "  iloc._setitem_with_indexer(indexer, value)\n"
     ]
    }
   ],
   "metadata": {}
  },
  {
   "cell_type": "code",
   "execution_count": 2,
   "source": [
    "import torch\n",
    "old = torch.load('/home/workspace/util/surgery/titanic_demo/runs/May24_08-22-52_1d7a14f7cd78old_network with old input from scratch/oldnetwork_oldinput_from_scratch_bs32.ckpt')"
   ],
   "outputs": [],
   "metadata": {}
  },
  {
   "cell_type": "code",
   "execution_count": 3,
   "source": [
    "layer = 0\n",
    "w = \"layers.{}.weight\".format(layer)\n",
    "b = \"layers.{}.bias\".format(layer)\n",
    "w1 = old['para'][w]\n",
    "b1 = old['para'][b]\n",
    "# 构建input和weight的map\n",
    "inwmap = {}\n",
    "for i, f in enumerate(old['input']):\n",
    "    inwmap[f] = w1[:, i]"
   ],
   "outputs": [],
   "metadata": {}
  },
  {
   "cell_type": "code",
   "execution_count": 4,
   "source": [
    "for i, (name, g) in enumerate(model.named_parameters()):\n",
    "    if i == 0:\n",
    "        print(name, g[:5, :])"
   ],
   "outputs": [
    {
     "output_type": "stream",
     "name": "stdout",
     "text": [
      "layers.0.weight tensor([[ 0.0712,  0.1711,  0.0286,  0.2174,  0.1111, -0.2466,  0.1536, -0.1086,\n",
      "         -0.0978,  0.0979,  0.2072,  0.0763,  0.1197],\n",
      "        [-0.0311, -0.1523, -0.0476, -0.2222,  0.0586, -0.1493, -0.1335,  0.0629,\n",
      "         -0.0462,  0.1925,  0.2646,  0.2376,  0.0336],\n",
      "        [ 0.1049,  0.2172, -0.0644,  0.0820,  0.1205,  0.0026,  0.0719, -0.0132,\n",
      "         -0.1695, -0.2480, -0.0885, -0.0923,  0.1365],\n",
      "        [-0.0027,  0.2314, -0.2693,  0.2409,  0.2123, -0.2610,  0.2544, -0.2194,\n",
      "         -0.0261,  0.0026,  0.2054,  0.2336,  0.1701],\n",
      "        [-0.1354,  0.0457,  0.0080,  0.2072,  0.2220,  0.2319,  0.0463,  0.0219,\n",
      "         -0.0730,  0.2766, -0.1118,  0.1385,  0.0391]], device='cuda:0',\n",
      "       grad_fn=<SliceBackward>)\n"
     ]
    }
   ],
   "metadata": {}
  },
  {
   "cell_type": "code",
   "execution_count": 5,
   "source": [
    "# 因为只增加了输入 所以只用对w1进行初始化特殊处理. \n",
    "for i, (name, g) in enumerate(model.named_parameters()):\n",
    "    if i == 0:\n",
    "        new_g = torch.zeros_like(g)\n",
    "        for j, f in enumerate(new_input_dict):\n",
    "            if f in inwmap.keys():\n",
    "                new_g[:, j] = inwmap[f]\n",
    "        g.data = new_g\n",
    "    else:\n",
    "        g.data = old['para'][name].data"
   ],
   "outputs": [],
   "metadata": {}
  },
  {
   "cell_type": "code",
   "execution_count": 6,
   "source": [
    "for i, (name, g) in enumerate(model.named_parameters()):\n",
    "    if i == 0:\n",
    "        print(name, g[:5, :])"
   ],
   "outputs": [
    {
     "output_type": "stream",
     "name": "stdout",
     "text": [
      "layers.0.weight tensor([[ 0.0085, -0.2214,  0.4244, -0.3489,  0.1652,  0.0302,  0.0053,  0.0000,\n",
      "          0.0000,  0.0000,  0.0000,  0.0000,  0.0000],\n",
      "        [-0.9477,  0.0285,  0.3445, -0.6276,  0.1586, -0.4775, -0.8388,  0.0000,\n",
      "          0.0000,  0.0000,  0.0000,  0.0000,  0.0000],\n",
      "        [ 0.4387, -0.4801, -0.1163, -0.3614,  0.4226,  0.1902, -0.0195,  0.0000,\n",
      "          0.0000,  0.0000,  0.0000,  0.0000,  0.0000],\n",
      "        [ 0.5647, -0.0992,  0.8484,  0.4323, -0.0145, -0.1077,  0.3306,  0.0000,\n",
      "          0.0000,  0.0000,  0.0000,  0.0000,  0.0000],\n",
      "        [ 0.1149,  0.2463, -0.4758, -0.4103, -0.1542, -1.4015, -0.4041,  0.0000,\n",
      "          0.0000,  0.0000,  0.0000,  0.0000,  0.0000]], device='cuda:0',\n",
      "       grad_fn=<SliceBackward>)\n"
     ]
    }
   ],
   "metadata": {}
  },
  {
   "cell_type": "code",
   "execution_count": 7,
   "source": [
    "# get surgery之后最初始的acc\n",
    "sum_acc = 0\n",
    "for x, y in loader:\n",
    "    x, y = x.cuda(), y.cuda()\n",
    "    outputs=model(x)\n",
    "    _,id=torch.max(outputs.data,1)\n",
    "    acc=torch.sum(id==y.data)\n",
    "    sum_acc += acc.item()    \n",
    "print(sum_acc)"
   ],
   "outputs": [
    {
     "output_type": "stream",
     "name": "stdout",
     "text": [
      "752\n"
     ]
    },
    {
     "output_type": "stream",
     "name": "stderr",
     "text": [
      "/home/miniconda/envs/tftorch/lib/python3.6/site-packages/torch/nn/modules/container.py:139: UserWarning: Implicit dimension choice for softmax has been deprecated. Change the call to include dim=X as an argument.\n",
      "  input = module(input)\n"
     ]
    }
   ],
   "metadata": {}
  },
  {
   "cell_type": "code",
   "execution_count": 8,
   "source": [
    "lr = 0.001\n",
    "epoches = 2000 \n",
    "comment = 'new_network with new input using Surgery'\n",
    "model_name = 'newnet_newinput_using_surgery_bs32.ckpt'\n",
    "input_dic = new_input_dict\n",
    "acc_cur, loss_cur = train(model, loader, comment, model_name, input_dic, )"
   ],
   "outputs": [],
   "metadata": {}
  },
  {
   "cell_type": "code",
   "execution_count": null,
   "source": [],
   "outputs": [],
   "metadata": {}
  }
 ],
 "metadata": {
  "orig_nbformat": 4,
  "language_info": {
   "name": "python",
   "version": "3.6.13",
   "mimetype": "text/x-python",
   "codemirror_mode": {
    "name": "ipython",
    "version": 3
   },
   "pygments_lexer": "ipython3",
   "nbconvert_exporter": "python",
   "file_extension": ".py"
  },
  "kernelspec": {
   "name": "python3",
   "display_name": "Python 3.6.13 64-bit ('tftorch': conda)"
  },
  "interpreter": {
   "hash": "3242c50314a9a68f934114b03bfda27d4d4439c8399dcbb46cdc3239617c61c1"
  }
 },
 "nbformat": 4,
 "nbformat_minor": 2
}