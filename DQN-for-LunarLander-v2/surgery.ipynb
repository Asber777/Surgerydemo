{
 "cells": [
  {
   "cell_type": "markdown",
   "source": [
    "# Deep Q-Network (DQN)\n",
    "---\n",
    "This notebook contains an implementation of a DQN Agent that solves OpenAI Gym's LunarLander-v2 environment.\n"
   ],
   "metadata": {}
  },
  {
   "cell_type": "markdown",
   "source": [
    "### 1. Import Necessary Packages:"
   ],
   "metadata": {}
  },
  {
   "cell_type": "code",
   "execution_count": 1,
   "source": [
    "import gym\n",
    "import random\n",
    "import torch\n",
    "import numpy as np\n",
    "from collections import namedtuple, deque\n",
    "import matplotlib.pyplot as plt\n",
    "%matplotlib inline\n",
    "\n",
    "# pytorch imports\n",
    "import torch\n",
    "import torch.nn as nn\n",
    "import torch.nn.functional as F\n",
    "import torch.optim as optim"
   ],
   "outputs": [],
   "metadata": {}
  },
  {
   "cell_type": "markdown",
   "source": [
    "### 2. Instantiate the Environment and Agent"
   ],
   "metadata": {}
  },
  {
   "cell_type": "code",
   "execution_count": 2,
   "source": [
    "env = gym.make('LunarLander-v2')\n",
    "env.seed(0)\n",
    "print('State shape: ', env.observation_space.shape)\n",
    "print('Number of Actions: ', env.action_space.n)"
   ],
   "outputs": [
    {
     "output_type": "stream",
     "name": "stdout",
     "text": [
      "State shape:  (8,)\n",
      "Number of Actions:  4\n"
     ]
    }
   ],
   "metadata": {}
  },
  {
   "cell_type": "markdown",
   "source": [
    "#### Set up the QNetwork:\n",
    "\n",
    "This neural network is going to consist of three sets of fully connected layers (hidden layers have 64 nodes) with a relu activation function applied between three layers."
   ],
   "metadata": {}
  },
  {
   "cell_type": "code",
   "execution_count": 3,
   "source": [
    "class QNetwork(nn.Module):\n",
    "    \"\"\"Actor (Policy) Model.\"\"\"\n",
    "\n",
    "    def __init__(self, state_size, action_size, seed, fc1_units=64, fc2_units=64):\n",
    "        \"\"\"Initialize parameters and build model.\n",
    "        Params\n",
    "        ======\n",
    "            state_size (int): Dimension of each state\n",
    "            action_size (int): Dimension of each action\n",
    "            seed (int): Random seed\n",
    "            fc1_units (int): Number of nodes in first hidden layer\n",
    "            fc2_units (int): Number of nodes in second hidden layer\n",
    "        \"\"\"\n",
    "        super(QNetwork, self).__init__()\n",
    "        self.seed = torch.manual_seed(seed)\n",
    "        self.fc1 = nn.Linear(state_size, fc1_units)\n",
    "        self.fc2 = nn.Linear(fc1_units, fc2_units)\n",
    "        self.fc3 = nn.Linear(fc2_units, action_size)\n",
    "\n",
    "    def forward(self, state):\n",
    "        \"\"\"Build a network that maps state -> action values.\"\"\"\n",
    "        x = F.relu(self.fc1(state))\n",
    "        x = F.relu(self.fc2(x))\n",
    "        return self.fc3(x)"
   ],
   "outputs": [],
   "metadata": {}
  },
  {
   "cell_type": "markdown",
   "source": [
    "#### Set up the Agent:"
   ],
   "metadata": {}
  },
  {
   "cell_type": "code",
   "execution_count": 4,
   "source": [
    "# Define the DQN hyperparameters\n",
    "\n",
    "BUFFER_SIZE = int(1e5)  # replay buffer size\n",
    "BATCH_SIZE = 64         # minibatch size\n",
    "GAMMA = 0.99            # discount factor\n",
    "TAU = 1e-3              # for soft update of target parameters\n",
    "LR = 5e-4               # learning rate \n",
    "UPDATE_EVERY = 4        # how often to update the network\n",
    "\n",
    "# Use GPU is possible else use CPU\n",
    "device = torch.device(\"cuda:0\" if torch.cuda.is_available() else \"cpu\")\n",
    "\n",
    "class Agent():\n",
    "    \"\"\"Interacts with and learns from the environment.\"\"\"\n",
    "\n",
    "    def __init__(self, state_size, action_size, seed):\n",
    "        \"\"\"Initialize an Agent object.\n",
    "        \n",
    "        Params\n",
    "        ======\n",
    "            state_size (int): dimension of each state\n",
    "            action_size (int): dimension of each action\n",
    "            seed (int): random seed\n",
    "        \"\"\"\n",
    "        self.state_size = state_size\n",
    "        self.action_size = action_size\n",
    "        self.seed = random.seed(seed)\n",
    "\n",
    "        # Q-Network\n",
    "        self.qnetwork_local = QNetwork(state_size, action_size, seed).to(device)\n",
    "        self.qnetwork_target = QNetwork(state_size, action_size, seed).to(device)\n",
    "        self.optimizer = optim.Adam(self.qnetwork_local.parameters(), lr=LR)\n",
    "\n",
    "        # Replay memory\n",
    "        self.memory = ReplayBuffer(action_size, BUFFER_SIZE, BATCH_SIZE, seed)\n",
    "        # Initialize time step (for updating every UPDATE_EVERY steps)\n",
    "        self.t_step = 0\n",
    "    \n",
    "    def step(self, state, action, reward, next_state, done):\n",
    "        # Save experience in replay memory\n",
    "        self.memory.add(state, action, reward, next_state, done)\n",
    "        \n",
    "        # Learn every UPDATE_EVERY time steps.\n",
    "        self.t_step = (self.t_step + 1) % UPDATE_EVERY\n",
    "        if self.t_step == 0:\n",
    "            # If enough samples are available in memory, get random subset and learn\n",
    "            if len(self.memory) > BATCH_SIZE:\n",
    "                experiences = self.memory.sample()\n",
    "                self.learn(experiences, GAMMA)\n",
    "\n",
    "    def act(self, state, eps=0.):\n",
    "        \"\"\"Returns actions for given state as per current policy.\n",
    "        \n",
    "        Params\n",
    "        ======\n",
    "            state (array_like): current state\n",
    "            eps (float): epsilon, for epsilon-greedy action selection\n",
    "        \"\"\"\n",
    "        state = torch.from_numpy(state).float().unsqueeze(0).to(device)\n",
    "        self.qnetwork_local.eval()\n",
    "        with torch.no_grad():\n",
    "            action_values = self.qnetwork_local(state)\n",
    "        self.qnetwork_local.train()\n",
    "\n",
    "        # Epsilon-greedy action selection\n",
    "        if random.random() > eps:\n",
    "            return np.argmax(action_values.cpu().data.numpy())\n",
    "        else:\n",
    "            return random.choice(np.arange(self.action_size))\n",
    "\n",
    "    def learn(self, experiences, gamma):\n",
    "        \"\"\"Update value parameters using given batch of experience tuples.\n",
    "\n",
    "        Params\n",
    "        ======\n",
    "            experiences (Tuple[torch.Tensor]): tuple of (s, a, r, s', done) tuples \n",
    "            gamma (float): discount factor\n",
    "        \"\"\"\n",
    "        states, actions, rewards, next_states, dones = experiences\n",
    "\n",
    "        # Get max predicted Q values (for next states) from target model\n",
    "        Q_targets_next = self.qnetwork_target(next_states).detach().max(1)[0].unsqueeze(1)\n",
    "        # Compute Q targets for current states \n",
    "        Q_targets = rewards + (gamma * Q_targets_next * (1 - dones))\n",
    "\n",
    "        # Get expected Q values from local model\n",
    "        Q_expected = self.qnetwork_local(states).gather(1, actions)\n",
    "\n",
    "        # Compute loss\n",
    "        loss = F.mse_loss(Q_expected, Q_targets)\n",
    "        # Minimize the loss\n",
    "        self.optimizer.zero_grad()\n",
    "        loss.backward()\n",
    "        self.optimizer.step()\n",
    "\n",
    "        # ------------------- update target network ------------------- #\n",
    "        self.soft_update(self.qnetwork_local, self.qnetwork_target, TAU)                     \n",
    "\n",
    "    def soft_update(self, local_model, target_model, tau):\n",
    "        \"\"\"Soft update model parameters.\n",
    "        θ_target = τ*θ_local + (1 - τ)*θ_target\n",
    "\n",
    "        Params\n",
    "        ======\n",
    "            local_model (PyTorch model): weights will be copied from\n",
    "            target_model (PyTorch model): weights will be copied to\n",
    "            tau (float): interpolation parameter \n",
    "        \"\"\"\n",
    "        for target_param, local_param in zip(target_model.parameters(), local_model.parameters()):\n",
    "            target_param.data.copy_(tau*local_param.data + (1.0-tau)*target_param.data)"
   ],
   "outputs": [],
   "metadata": {}
  },
  {
   "cell_type": "code",
   "execution_count": 5,
   "source": [
    "class ReplayBuffer:\n",
    "    \"\"\"Fixed-size buffer to store experience tuples.\"\"\"\n",
    "\n",
    "    def __init__(self, action_size, buffer_size, batch_size, seed):\n",
    "        \"\"\"Initialize a ReplayBuffer object.\n",
    "\n",
    "        Params\n",
    "        ======\n",
    "            action_size (int): dimension of each action\n",
    "            buffer_size (int): maximum size of buffer\n",
    "            batch_size (int): size of each training batch\n",
    "            seed (int): random seed\n",
    "        \"\"\"\n",
    "        self.action_size = action_size\n",
    "        self.memory = deque(maxlen=buffer_size)  \n",
    "        self.batch_size = batch_size\n",
    "        self.experience = namedtuple(\"Experience\", field_names=[\"state\", \"action\", \"reward\", \"next_state\", \"done\"])\n",
    "        self.seed = random.seed(seed)\n",
    "    \n",
    "    def add(self, state, action, reward, next_state, done):\n",
    "        \"\"\"Add a new experience to memory.\"\"\"\n",
    "        e = self.experience(state, action, reward, next_state, done)\n",
    "        self.memory.append(e)\n",
    "    \n",
    "    def sample(self):\n",
    "        \"\"\"Randomly sample a batch of experiences from memory.\"\"\"\n",
    "        experiences = random.sample(self.memory, k=self.batch_size)\n",
    "\n",
    "        states = torch.from_numpy(np.vstack([e.state for e in experiences if e is not None])).float().to(device)\n",
    "        actions = torch.from_numpy(np.vstack([e.action for e in experiences if e is not None])).long().to(device)\n",
    "        rewards = torch.from_numpy(np.vstack([e.reward for e in experiences if e is not None])).float().to(device)\n",
    "        next_states = torch.from_numpy(np.vstack([e.next_state for e in experiences if e is not None])).float().to(device)\n",
    "        dones = torch.from_numpy(np.vstack([e.done for e in experiences if e is not None]).astype(np.uint8)).float().to(device)\n",
    "  \n",
    "        return (states, actions, rewards, next_states, dones)\n",
    "\n",
    "    def __len__(self):\n",
    "        \"\"\"Return the current size of internal memory.\"\"\"\n",
    "        return len(self.memory)"
   ],
   "outputs": [],
   "metadata": {}
  },
  {
   "cell_type": "markdown",
   "source": [
    "### 3. Train the Agent with DQN:"
   ],
   "metadata": {}
  },
  {
   "cell_type": "code",
   "execution_count": 6,
   "source": [
    "def dqn(agent, n_episodes=2000, max_t=1000, eps_start=1.0, eps_end=0.01, eps_decay=0.995):\n",
    "    \"\"\"Deep Q-Learning.\n",
    "    \n",
    "    Params\n",
    "    ======\n",
    "        n_episodes (int): maximum number of training episodes\n",
    "        max_t (int): maximum number of timesteps per episode\n",
    "        eps_start (float): starting value of epsilon, for epsilon-greedy action selection\n",
    "        eps_end (float): minimum value of epsilon\n",
    "        eps_decay (float): multiplicative factor (per episode) for decreasing epsilon\n",
    "    \"\"\"\n",
    "    scores = []                        # list containing scores from each episode\n",
    "    scores_window = deque(maxlen=100)  # last 100 scores\n",
    "    eps = eps_start                    # initialize epsilon\n",
    "    for i_episode in range(1, n_episodes+1):\n",
    "        state = env.reset()\n",
    "        score = 0\n",
    "        for t in range(max_t):\n",
    "            action = agent.act(state, eps)\n",
    "            next_state, reward, done, _ = env.step(action)\n",
    "            agent.step(state, action, reward, next_state, done)\n",
    "            state = next_state\n",
    "            score += reward\n",
    "            if done:\n",
    "                break \n",
    "        scores_window.append(score)       # save most recent score\n",
    "        scores.append(score)              # save most recent score\n",
    "        eps = max(eps_end, eps_decay*eps) # decrease epsilon\n",
    "        print('\\rEpisode {}\\tAverage Score: {:.2f}'.format(i_episode, np.mean(scores_window)), end=\"\")\n",
    "        if i_episode % 100 == 0:\n",
    "            print('\\rEpisode {}\\tAverage Score: {:.2f}'.format(i_episode, np.mean(scores_window)))\n",
    "        if np.mean(scores_window)>=200.0:\n",
    "            print('\\nEnvironment solved in {:d} episodes!\\tAverage Score: {:.2f}'.format(i_episode-100, np.mean(scores_window)))\n",
    "            torch.save(agent.qnetwork_local.state_dict(), 'checkpoint.pth')\n",
    "            break\n",
    "    return scores\n"
   ],
   "outputs": [],
   "metadata": {}
  },
  {
   "cell_type": "code",
   "execution_count": 9,
   "source": [
    "agent = Agent(env.observation_space.shape[0], env.action_space.n, 0)\n",
    "old_param = torch.load('2action_checkpoint.pth')\n",
    "old_action_index = [0, 1]\n",
    "old_map_new = [1, 3]\n",
    "# surgery"
   ],
   "outputs": [],
   "metadata": {}
  },
  {
   "cell_type": "code",
   "execution_count": 10,
   "source": [
    "for name, g in agent.qnetwork_local.named_parameters():\n",
    "    print(name, g.shape, old_param[name].shape)\n",
    "    print(len(g.shape))"
   ],
   "outputs": [
    {
     "output_type": "stream",
     "name": "stdout",
     "text": [
      "fc1.weight torch.Size([64, 8]) torch.Size([64, 8])\n",
      "2\n",
      "fc1.bias torch.Size([64]) torch.Size([64])\n",
      "1\n",
      "fc2.weight torch.Size([64, 64]) torch.Size([64, 64])\n",
      "2\n",
      "fc2.bias torch.Size([64]) torch.Size([64])\n",
      "1\n",
      "fc3.weight torch.Size([4, 64]) torch.Size([2, 64])\n",
      "2\n",
      "fc3.bias torch.Size([4]) torch.Size([2])\n",
      "1\n"
     ]
    }
   ],
   "metadata": {}
  },
  {
   "cell_type": "code",
   "execution_count": 12,
   "source": [
    "for name, g in agent.qnetwork_local.named_parameters():\n",
    "    if g.shape == old_param[name].shape:\n",
    "        g.data = old_param[name].data\n",
    "    else:\n",
    "        new_g = torch.zeros_like(g)\n",
    "        if len(g.shape) == 1:\n",
    "            new_g[old_map_new] = old_param[name].data[old_action_index]\n",
    "        else:\n",
    "            new_g[old_map_new, :] = old_param[name].data[old_action_index, :]"
   ],
   "outputs": [],
   "metadata": {}
  },
  {
   "cell_type": "code",
   "execution_count": 13,
   "source": [
    "scores = dqn(agent)\n",
    "\n",
    "# plot the scores\n",
    "fig = plt.figure()\n",
    "ax = fig.add_subplot(111)\n",
    "plt.plot(np.arange(len(scores)), scores)\n",
    "plt.ylabel('Score')\n",
    "plt.xlabel('Episode #')\n",
    "plt.show()"
   ],
   "outputs": [
    {
     "output_type": "stream",
     "name": "stdout",
     "text": [
      "Episode 100\tAverage Score: -168.35\n",
      "Episode 200\tAverage Score: -97.46\n",
      "Episode 300\tAverage Score: -33.23\n",
      "Episode 400\tAverage Score: 9.46\n",
      "Episode 500\tAverage Score: 142.52\n",
      "Episode 600\tAverage Score: 195.64\n",
      "Episode 611\tAverage Score: 200.47\n",
      "Environment solved in 511 episodes!\tAverage Score: 200.47\n"
     ]
    },
    {
     "output_type": "display_data",
     "data": {
      "text/plain": [
       "<Figure size 432x288 with 1 Axes>"
      ],
      "image/svg+xml": "<?xml version=\"1.0\" encoding=\"utf-8\" standalone=\"no\"?>\n<!DOCTYPE svg PUBLIC \"-//W3C//DTD SVG 1.1//EN\"\n  \"http://www.w3.org/Graphics/SVG/1.1/DTD/svg11.dtd\">\n<!-- Created with matplotlib (https://matplotlib.org/) -->\n<svg height=\"262.19625pt\" version=\"1.1\" viewBox=\"0 0 397.345312 262.19625\" width=\"397.345312pt\" xmlns=\"http://www.w3.org/2000/svg\" xmlns:xlink=\"http://www.w3.org/1999/xlink\">\n <metadata>\n  <rdf:RDF xmlns:cc=\"http://creativecommons.org/ns#\" xmlns:dc=\"http://purl.org/dc/elements/1.1/\" xmlns:rdf=\"http://www.w3.org/1999/02/22-rdf-syntax-ns#\">\n   <cc:Work>\n    <dc:type rdf:resource=\"http://purl.org/dc/dcmitype/StillImage\"/>\n    <dc:date>2022-05-17T07:24:24.494402</dc:date>\n    <dc:format>image/svg+xml</dc:format>\n    <dc:creator>\n     <cc:Agent>\n      <dc:title>Matplotlib v3.3.4, https://matplotlib.org/</dc:title>\n     </cc:Agent>\n    </dc:creator>\n   </cc:Work>\n  </rdf:RDF>\n </metadata>\n <defs>\n  <style type=\"text/css\">*{stroke-linecap:butt;stroke-linejoin:round;}</style>\n </defs>\n <g id=\"figure_1\">\n  <g id=\"patch_1\">\n   <path d=\"M 0 262.19625 \nL 397.345312 262.19625 \nL 397.345312 0 \nL 0 0 \nz\n\" style=\"fill:none;\"/>\n  </g>\n  <g id=\"axes_1\">\n   <g id=\"patch_2\">\n    <path d=\"M 55.345313 224.64 \nL 390.145312 224.64 \nL 390.145312 7.2 \nL 55.345313 7.2 \nz\n\" style=\"fill:#ffffff;\"/>\n   </g>\n   <g id=\"matplotlib.axis_1\">\n    <g id=\"xtick_1\">\n     <g id=\"line2d_1\">\n      <defs>\n       <path d=\"M 0 0 \nL 0 3.5 \n\" id=\"m86be9b93f4\" style=\"stroke:#000000;stroke-width:0.8;\"/>\n      </defs>\n      <g>\n       <use style=\"stroke:#000000;stroke-width:0.8;\" x=\"70.563494\" xlink:href=\"#m86be9b93f4\" y=\"224.64\"/>\n      </g>\n     </g>\n     <g id=\"text_1\">\n      <!-- 0 -->\n      <g transform=\"translate(67.382244 239.238437)scale(0.1 -0.1)\">\n       <defs>\n        <path d=\"M 31.78125 66.40625 \nQ 24.171875 66.40625 20.328125 58.90625 \nQ 16.5 51.421875 16.5 36.375 \nQ 16.5 21.390625 20.328125 13.890625 \nQ 24.171875 6.390625 31.78125 6.390625 \nQ 39.453125 6.390625 43.28125 13.890625 \nQ 47.125 21.390625 47.125 36.375 \nQ 47.125 51.421875 43.28125 58.90625 \nQ 39.453125 66.40625 31.78125 66.40625 \nz\nM 31.78125 74.21875 \nQ 44.046875 74.21875 50.515625 64.515625 \nQ 56.984375 54.828125 56.984375 36.375 \nQ 56.984375 17.96875 50.515625 8.265625 \nQ 44.046875 -1.421875 31.78125 -1.421875 \nQ 19.53125 -1.421875 13.0625 8.265625 \nQ 6.59375 17.96875 6.59375 36.375 \nQ 6.59375 54.828125 13.0625 64.515625 \nQ 19.53125 74.21875 31.78125 74.21875 \nz\n\" id=\"DejaVuSans-48\"/>\n       </defs>\n       <use xlink:href=\"#DejaVuSans-48\"/>\n      </g>\n     </g>\n    </g>\n    <g id=\"xtick_2\">\n     <g id=\"line2d_2\">\n      <g>\n       <use style=\"stroke:#000000;stroke-width:0.8;\" x=\"120.459172\" xlink:href=\"#m86be9b93f4\" y=\"224.64\"/>\n      </g>\n     </g>\n     <g id=\"text_2\">\n      <!-- 100 -->\n      <g transform=\"translate(110.915422 239.238437)scale(0.1 -0.1)\">\n       <defs>\n        <path d=\"M 12.40625 8.296875 \nL 28.515625 8.296875 \nL 28.515625 63.921875 \nL 10.984375 60.40625 \nL 10.984375 69.390625 \nL 28.421875 72.90625 \nL 38.28125 72.90625 \nL 38.28125 8.296875 \nL 54.390625 8.296875 \nL 54.390625 0 \nL 12.40625 0 \nz\n\" id=\"DejaVuSans-49\"/>\n       </defs>\n       <use xlink:href=\"#DejaVuSans-49\"/>\n       <use x=\"63.623047\" xlink:href=\"#DejaVuSans-48\"/>\n       <use x=\"127.246094\" xlink:href=\"#DejaVuSans-48\"/>\n      </g>\n     </g>\n    </g>\n    <g id=\"xtick_3\">\n     <g id=\"line2d_3\">\n      <g>\n       <use style=\"stroke:#000000;stroke-width:0.8;\" x=\"170.354851\" xlink:href=\"#m86be9b93f4\" y=\"224.64\"/>\n      </g>\n     </g>\n     <g id=\"text_3\">\n      <!-- 200 -->\n      <g transform=\"translate(160.811101 239.238437)scale(0.1 -0.1)\">\n       <defs>\n        <path d=\"M 19.1875 8.296875 \nL 53.609375 8.296875 \nL 53.609375 0 \nL 7.328125 0 \nL 7.328125 8.296875 \nQ 12.9375 14.109375 22.625 23.890625 \nQ 32.328125 33.6875 34.8125 36.53125 \nQ 39.546875 41.84375 41.421875 45.53125 \nQ 43.3125 49.21875 43.3125 52.78125 \nQ 43.3125 58.59375 39.234375 62.25 \nQ 35.15625 65.921875 28.609375 65.921875 \nQ 23.96875 65.921875 18.8125 64.3125 \nQ 13.671875 62.703125 7.8125 59.421875 \nL 7.8125 69.390625 \nQ 13.765625 71.78125 18.9375 73 \nQ 24.125 74.21875 28.421875 74.21875 \nQ 39.75 74.21875 46.484375 68.546875 \nQ 53.21875 62.890625 53.21875 53.421875 \nQ 53.21875 48.921875 51.53125 44.890625 \nQ 49.859375 40.875 45.40625 35.40625 \nQ 44.1875 33.984375 37.640625 27.21875 \nQ 31.109375 20.453125 19.1875 8.296875 \nz\n\" id=\"DejaVuSans-50\"/>\n       </defs>\n       <use xlink:href=\"#DejaVuSans-50\"/>\n       <use x=\"63.623047\" xlink:href=\"#DejaVuSans-48\"/>\n       <use x=\"127.246094\" xlink:href=\"#DejaVuSans-48\"/>\n      </g>\n     </g>\n    </g>\n    <g id=\"xtick_4\">\n     <g id=\"line2d_4\">\n      <g>\n       <use style=\"stroke:#000000;stroke-width:0.8;\" x=\"220.250529\" xlink:href=\"#m86be9b93f4\" y=\"224.64\"/>\n      </g>\n     </g>\n     <g id=\"text_4\">\n      <!-- 300 -->\n      <g transform=\"translate(210.706779 239.238437)scale(0.1 -0.1)\">\n       <defs>\n        <path d=\"M 40.578125 39.3125 \nQ 47.65625 37.796875 51.625 33 \nQ 55.609375 28.21875 55.609375 21.1875 \nQ 55.609375 10.40625 48.1875 4.484375 \nQ 40.765625 -1.421875 27.09375 -1.421875 \nQ 22.515625 -1.421875 17.65625 -0.515625 \nQ 12.796875 0.390625 7.625 2.203125 \nL 7.625 11.71875 \nQ 11.71875 9.328125 16.59375 8.109375 \nQ 21.484375 6.890625 26.8125 6.890625 \nQ 36.078125 6.890625 40.9375 10.546875 \nQ 45.796875 14.203125 45.796875 21.1875 \nQ 45.796875 27.640625 41.28125 31.265625 \nQ 36.765625 34.90625 28.71875 34.90625 \nL 20.21875 34.90625 \nL 20.21875 43.015625 \nL 29.109375 43.015625 \nQ 36.375 43.015625 40.234375 45.921875 \nQ 44.09375 48.828125 44.09375 54.296875 \nQ 44.09375 59.90625 40.109375 62.90625 \nQ 36.140625 65.921875 28.71875 65.921875 \nQ 24.65625 65.921875 20.015625 65.03125 \nQ 15.375 64.15625 9.8125 62.3125 \nL 9.8125 71.09375 \nQ 15.4375 72.65625 20.34375 73.4375 \nQ 25.25 74.21875 29.59375 74.21875 \nQ 40.828125 74.21875 47.359375 69.109375 \nQ 53.90625 64.015625 53.90625 55.328125 \nQ 53.90625 49.265625 50.4375 45.09375 \nQ 46.96875 40.921875 40.578125 39.3125 \nz\n\" id=\"DejaVuSans-51\"/>\n       </defs>\n       <use xlink:href=\"#DejaVuSans-51\"/>\n       <use x=\"63.623047\" xlink:href=\"#DejaVuSans-48\"/>\n       <use x=\"127.246094\" xlink:href=\"#DejaVuSans-48\"/>\n      </g>\n     </g>\n    </g>\n    <g id=\"xtick_5\">\n     <g id=\"line2d_5\">\n      <g>\n       <use style=\"stroke:#000000;stroke-width:0.8;\" x=\"270.146207\" xlink:href=\"#m86be9b93f4\" y=\"224.64\"/>\n      </g>\n     </g>\n     <g id=\"text_5\">\n      <!-- 400 -->\n      <g transform=\"translate(260.602457 239.238437)scale(0.1 -0.1)\">\n       <defs>\n        <path d=\"M 37.796875 64.3125 \nL 12.890625 25.390625 \nL 37.796875 25.390625 \nz\nM 35.203125 72.90625 \nL 47.609375 72.90625 \nL 47.609375 25.390625 \nL 58.015625 25.390625 \nL 58.015625 17.1875 \nL 47.609375 17.1875 \nL 47.609375 0 \nL 37.796875 0 \nL 37.796875 17.1875 \nL 4.890625 17.1875 \nL 4.890625 26.703125 \nz\n\" id=\"DejaVuSans-52\"/>\n       </defs>\n       <use xlink:href=\"#DejaVuSans-52\"/>\n       <use x=\"63.623047\" xlink:href=\"#DejaVuSans-48\"/>\n       <use x=\"127.246094\" xlink:href=\"#DejaVuSans-48\"/>\n      </g>\n     </g>\n    </g>\n    <g id=\"xtick_6\">\n     <g id=\"line2d_6\">\n      <g>\n       <use style=\"stroke:#000000;stroke-width:0.8;\" x=\"320.041885\" xlink:href=\"#m86be9b93f4\" y=\"224.64\"/>\n      </g>\n     </g>\n     <g id=\"text_6\">\n      <!-- 500 -->\n      <g transform=\"translate(310.498135 239.238437)scale(0.1 -0.1)\">\n       <defs>\n        <path d=\"M 10.796875 72.90625 \nL 49.515625 72.90625 \nL 49.515625 64.59375 \nL 19.828125 64.59375 \nL 19.828125 46.734375 \nQ 21.96875 47.46875 24.109375 47.828125 \nQ 26.265625 48.1875 28.421875 48.1875 \nQ 40.625 48.1875 47.75 41.5 \nQ 54.890625 34.8125 54.890625 23.390625 \nQ 54.890625 11.625 47.5625 5.09375 \nQ 40.234375 -1.421875 26.90625 -1.421875 \nQ 22.3125 -1.421875 17.546875 -0.640625 \nQ 12.796875 0.140625 7.71875 1.703125 \nL 7.71875 11.625 \nQ 12.109375 9.234375 16.796875 8.0625 \nQ 21.484375 6.890625 26.703125 6.890625 \nQ 35.15625 6.890625 40.078125 11.328125 \nQ 45.015625 15.765625 45.015625 23.390625 \nQ 45.015625 31 40.078125 35.4375 \nQ 35.15625 39.890625 26.703125 39.890625 \nQ 22.75 39.890625 18.8125 39.015625 \nQ 14.890625 38.140625 10.796875 36.28125 \nz\n\" id=\"DejaVuSans-53\"/>\n       </defs>\n       <use xlink:href=\"#DejaVuSans-53\"/>\n       <use x=\"63.623047\" xlink:href=\"#DejaVuSans-48\"/>\n       <use x=\"127.246094\" xlink:href=\"#DejaVuSans-48\"/>\n      </g>\n     </g>\n    </g>\n    <g id=\"xtick_7\">\n     <g id=\"line2d_7\">\n      <g>\n       <use style=\"stroke:#000000;stroke-width:0.8;\" x=\"369.937563\" xlink:href=\"#m86be9b93f4\" y=\"224.64\"/>\n      </g>\n     </g>\n     <g id=\"text_7\">\n      <!-- 600 -->\n      <g transform=\"translate(360.393813 239.238437)scale(0.1 -0.1)\">\n       <defs>\n        <path d=\"M 33.015625 40.375 \nQ 26.375 40.375 22.484375 35.828125 \nQ 18.609375 31.296875 18.609375 23.390625 \nQ 18.609375 15.53125 22.484375 10.953125 \nQ 26.375 6.390625 33.015625 6.390625 \nQ 39.65625 6.390625 43.53125 10.953125 \nQ 47.40625 15.53125 47.40625 23.390625 \nQ 47.40625 31.296875 43.53125 35.828125 \nQ 39.65625 40.375 33.015625 40.375 \nz\nM 52.59375 71.296875 \nL 52.59375 62.3125 \nQ 48.875 64.0625 45.09375 64.984375 \nQ 41.3125 65.921875 37.59375 65.921875 \nQ 27.828125 65.921875 22.671875 59.328125 \nQ 17.53125 52.734375 16.796875 39.40625 \nQ 19.671875 43.65625 24.015625 45.921875 \nQ 28.375 48.1875 33.59375 48.1875 \nQ 44.578125 48.1875 50.953125 41.515625 \nQ 57.328125 34.859375 57.328125 23.390625 \nQ 57.328125 12.15625 50.6875 5.359375 \nQ 44.046875 -1.421875 33.015625 -1.421875 \nQ 20.359375 -1.421875 13.671875 8.265625 \nQ 6.984375 17.96875 6.984375 36.375 \nQ 6.984375 53.65625 15.1875 63.9375 \nQ 23.390625 74.21875 37.203125 74.21875 \nQ 40.921875 74.21875 44.703125 73.484375 \nQ 48.484375 72.75 52.59375 71.296875 \nz\n\" id=\"DejaVuSans-54\"/>\n       </defs>\n       <use xlink:href=\"#DejaVuSans-54\"/>\n       <use x=\"63.623047\" xlink:href=\"#DejaVuSans-48\"/>\n       <use x=\"127.246094\" xlink:href=\"#DejaVuSans-48\"/>\n      </g>\n     </g>\n    </g>\n    <g id=\"text_8\">\n     <!-- Episode # -->\n     <g transform=\"translate(197.328906 252.916562)scale(0.1 -0.1)\">\n      <defs>\n       <path d=\"M 9.8125 72.90625 \nL 55.90625 72.90625 \nL 55.90625 64.59375 \nL 19.671875 64.59375 \nL 19.671875 43.015625 \nL 54.390625 43.015625 \nL 54.390625 34.71875 \nL 19.671875 34.71875 \nL 19.671875 8.296875 \nL 56.78125 8.296875 \nL 56.78125 0 \nL 9.8125 0 \nz\n\" id=\"DejaVuSans-69\"/>\n       <path d=\"M 18.109375 8.203125 \nL 18.109375 -20.796875 \nL 9.078125 -20.796875 \nL 9.078125 54.6875 \nL 18.109375 54.6875 \nL 18.109375 46.390625 \nQ 20.953125 51.265625 25.265625 53.625 \nQ 29.59375 56 35.59375 56 \nQ 45.5625 56 51.78125 48.09375 \nQ 58.015625 40.1875 58.015625 27.296875 \nQ 58.015625 14.40625 51.78125 6.484375 \nQ 45.5625 -1.421875 35.59375 -1.421875 \nQ 29.59375 -1.421875 25.265625 0.953125 \nQ 20.953125 3.328125 18.109375 8.203125 \nz\nM 48.6875 27.296875 \nQ 48.6875 37.203125 44.609375 42.84375 \nQ 40.53125 48.484375 33.40625 48.484375 \nQ 26.265625 48.484375 22.1875 42.84375 \nQ 18.109375 37.203125 18.109375 27.296875 \nQ 18.109375 17.390625 22.1875 11.75 \nQ 26.265625 6.109375 33.40625 6.109375 \nQ 40.53125 6.109375 44.609375 11.75 \nQ 48.6875 17.390625 48.6875 27.296875 \nz\n\" id=\"DejaVuSans-112\"/>\n       <path d=\"M 9.421875 54.6875 \nL 18.40625 54.6875 \nL 18.40625 0 \nL 9.421875 0 \nz\nM 9.421875 75.984375 \nL 18.40625 75.984375 \nL 18.40625 64.59375 \nL 9.421875 64.59375 \nz\n\" id=\"DejaVuSans-105\"/>\n       <path d=\"M 44.28125 53.078125 \nL 44.28125 44.578125 \nQ 40.484375 46.53125 36.375 47.5 \nQ 32.28125 48.484375 27.875 48.484375 \nQ 21.1875 48.484375 17.84375 46.4375 \nQ 14.5 44.390625 14.5 40.28125 \nQ 14.5 37.15625 16.890625 35.375 \nQ 19.28125 33.59375 26.515625 31.984375 \nL 29.59375 31.296875 \nQ 39.15625 29.25 43.1875 25.515625 \nQ 47.21875 21.78125 47.21875 15.09375 \nQ 47.21875 7.46875 41.1875 3.015625 \nQ 35.15625 -1.421875 24.609375 -1.421875 \nQ 20.21875 -1.421875 15.453125 -0.5625 \nQ 10.6875 0.296875 5.421875 2 \nL 5.421875 11.28125 \nQ 10.40625 8.6875 15.234375 7.390625 \nQ 20.0625 6.109375 24.8125 6.109375 \nQ 31.15625 6.109375 34.5625 8.28125 \nQ 37.984375 10.453125 37.984375 14.40625 \nQ 37.984375 18.0625 35.515625 20.015625 \nQ 33.0625 21.96875 24.703125 23.78125 \nL 21.578125 24.515625 \nQ 13.234375 26.265625 9.515625 29.90625 \nQ 5.8125 33.546875 5.8125 39.890625 \nQ 5.8125 47.609375 11.28125 51.796875 \nQ 16.75 56 26.8125 56 \nQ 31.78125 56 36.171875 55.265625 \nQ 40.578125 54.546875 44.28125 53.078125 \nz\n\" id=\"DejaVuSans-115\"/>\n       <path d=\"M 30.609375 48.390625 \nQ 23.390625 48.390625 19.1875 42.75 \nQ 14.984375 37.109375 14.984375 27.296875 \nQ 14.984375 17.484375 19.15625 11.84375 \nQ 23.34375 6.203125 30.609375 6.203125 \nQ 37.796875 6.203125 41.984375 11.859375 \nQ 46.1875 17.53125 46.1875 27.296875 \nQ 46.1875 37.015625 41.984375 42.703125 \nQ 37.796875 48.390625 30.609375 48.390625 \nz\nM 30.609375 56 \nQ 42.328125 56 49.015625 48.375 \nQ 55.71875 40.765625 55.71875 27.296875 \nQ 55.71875 13.875 49.015625 6.21875 \nQ 42.328125 -1.421875 30.609375 -1.421875 \nQ 18.84375 -1.421875 12.171875 6.21875 \nQ 5.515625 13.875 5.515625 27.296875 \nQ 5.515625 40.765625 12.171875 48.375 \nQ 18.84375 56 30.609375 56 \nz\n\" id=\"DejaVuSans-111\"/>\n       <path d=\"M 45.40625 46.390625 \nL 45.40625 75.984375 \nL 54.390625 75.984375 \nL 54.390625 0 \nL 45.40625 0 \nL 45.40625 8.203125 \nQ 42.578125 3.328125 38.25 0.953125 \nQ 33.9375 -1.421875 27.875 -1.421875 \nQ 17.96875 -1.421875 11.734375 6.484375 \nQ 5.515625 14.40625 5.515625 27.296875 \nQ 5.515625 40.1875 11.734375 48.09375 \nQ 17.96875 56 27.875 56 \nQ 33.9375 56 38.25 53.625 \nQ 42.578125 51.265625 45.40625 46.390625 \nz\nM 14.796875 27.296875 \nQ 14.796875 17.390625 18.875 11.75 \nQ 22.953125 6.109375 30.078125 6.109375 \nQ 37.203125 6.109375 41.296875 11.75 \nQ 45.40625 17.390625 45.40625 27.296875 \nQ 45.40625 37.203125 41.296875 42.84375 \nQ 37.203125 48.484375 30.078125 48.484375 \nQ 22.953125 48.484375 18.875 42.84375 \nQ 14.796875 37.203125 14.796875 27.296875 \nz\n\" id=\"DejaVuSans-100\"/>\n       <path d=\"M 56.203125 29.59375 \nL 56.203125 25.203125 \nL 14.890625 25.203125 \nQ 15.484375 15.921875 20.484375 11.0625 \nQ 25.484375 6.203125 34.421875 6.203125 \nQ 39.59375 6.203125 44.453125 7.46875 \nQ 49.3125 8.734375 54.109375 11.28125 \nL 54.109375 2.78125 \nQ 49.265625 0.734375 44.1875 -0.34375 \nQ 39.109375 -1.421875 33.890625 -1.421875 \nQ 20.796875 -1.421875 13.15625 6.1875 \nQ 5.515625 13.8125 5.515625 26.8125 \nQ 5.515625 40.234375 12.765625 48.109375 \nQ 20.015625 56 32.328125 56 \nQ 43.359375 56 49.78125 48.890625 \nQ 56.203125 41.796875 56.203125 29.59375 \nz\nM 47.21875 32.234375 \nQ 47.125 39.59375 43.09375 43.984375 \nQ 39.0625 48.390625 32.421875 48.390625 \nQ 24.90625 48.390625 20.390625 44.140625 \nQ 15.875 39.890625 15.1875 32.171875 \nz\n\" id=\"DejaVuSans-101\"/>\n       <path id=\"DejaVuSans-32\"/>\n       <path d=\"M 51.125 44 \nL 36.921875 44 \nL 32.8125 27.6875 \nL 47.125 27.6875 \nz\nM 43.796875 71.78125 \nL 38.71875 51.515625 \nL 52.984375 51.515625 \nL 58.109375 71.78125 \nL 65.921875 71.78125 \nL 60.890625 51.515625 \nL 76.125 51.515625 \nL 76.125 44 \nL 58.984375 44 \nL 54.984375 27.6875 \nL 70.515625 27.6875 \nL 70.515625 20.21875 \nL 53.078125 20.21875 \nL 48 0 \nL 40.1875 0 \nL 45.21875 20.21875 \nL 30.90625 20.21875 \nL 25.875 0 \nL 18.015625 0 \nL 23.09375 20.21875 \nL 7.71875 20.21875 \nL 7.71875 27.6875 \nL 24.90625 27.6875 \nL 29 44 \nL 13.28125 44 \nL 13.28125 51.515625 \nL 30.90625 51.515625 \nL 35.890625 71.78125 \nz\n\" id=\"DejaVuSans-35\"/>\n      </defs>\n      <use xlink:href=\"#DejaVuSans-69\"/>\n      <use x=\"63.183594\" xlink:href=\"#DejaVuSans-112\"/>\n      <use x=\"126.660156\" xlink:href=\"#DejaVuSans-105\"/>\n      <use x=\"154.443359\" xlink:href=\"#DejaVuSans-115\"/>\n      <use x=\"206.542969\" xlink:href=\"#DejaVuSans-111\"/>\n      <use x=\"267.724609\" xlink:href=\"#DejaVuSans-100\"/>\n      <use x=\"331.201172\" xlink:href=\"#DejaVuSans-101\"/>\n      <use x=\"392.724609\" xlink:href=\"#DejaVuSans-32\"/>\n      <use x=\"424.511719\" xlink:href=\"#DejaVuSans-35\"/>\n     </g>\n    </g>\n   </g>\n   <g id=\"matplotlib.axis_2\">\n    <g id=\"ytick_1\">\n     <g id=\"line2d_8\">\n      <defs>\n       <path d=\"M 0 0 \nL -3.5 0 \n\" id=\"m5ebc6b389e\" style=\"stroke:#000000;stroke-width:0.8;\"/>\n      </defs>\n      <g>\n       <use style=\"stroke:#000000;stroke-width:0.8;\" x=\"55.345313\" xlink:href=\"#m5ebc6b389e\" y=\"223.14621\"/>\n      </g>\n     </g>\n     <g id=\"text_9\">\n      <!-- −600 -->\n      <g transform=\"translate(20.878125 226.945429)scale(0.1 -0.1)\">\n       <defs>\n        <path d=\"M 10.59375 35.5 \nL 73.1875 35.5 \nL 73.1875 27.203125 \nL 10.59375 27.203125 \nz\n\" id=\"DejaVuSans-8722\"/>\n       </defs>\n       <use xlink:href=\"#DejaVuSans-8722\"/>\n       <use x=\"83.789062\" xlink:href=\"#DejaVuSans-54\"/>\n       <use x=\"147.412109\" xlink:href=\"#DejaVuSans-48\"/>\n       <use x=\"211.035156\" xlink:href=\"#DejaVuSans-48\"/>\n      </g>\n     </g>\n    </g>\n    <g id=\"ytick_2\">\n     <g id=\"line2d_9\">\n      <g>\n       <use style=\"stroke:#000000;stroke-width:0.8;\" x=\"55.345313\" xlink:href=\"#m5ebc6b389e\" y=\"177.64371\"/>\n      </g>\n     </g>\n     <g id=\"text_10\">\n      <!-- −400 -->\n      <g transform=\"translate(20.878125 181.442929)scale(0.1 -0.1)\">\n       <use xlink:href=\"#DejaVuSans-8722\"/>\n       <use x=\"83.789062\" xlink:href=\"#DejaVuSans-52\"/>\n       <use x=\"147.412109\" xlink:href=\"#DejaVuSans-48\"/>\n       <use x=\"211.035156\" xlink:href=\"#DejaVuSans-48\"/>\n      </g>\n     </g>\n    </g>\n    <g id=\"ytick_3\">\n     <g id=\"line2d_10\">\n      <g>\n       <use style=\"stroke:#000000;stroke-width:0.8;\" x=\"55.345313\" xlink:href=\"#m5ebc6b389e\" y=\"132.14121\"/>\n      </g>\n     </g>\n     <g id=\"text_11\">\n      <!-- −200 -->\n      <g transform=\"translate(20.878125 135.940429)scale(0.1 -0.1)\">\n       <use xlink:href=\"#DejaVuSans-8722\"/>\n       <use x=\"83.789062\" xlink:href=\"#DejaVuSans-50\"/>\n       <use x=\"147.412109\" xlink:href=\"#DejaVuSans-48\"/>\n       <use x=\"211.035156\" xlink:href=\"#DejaVuSans-48\"/>\n      </g>\n     </g>\n    </g>\n    <g id=\"ytick_4\">\n     <g id=\"line2d_11\">\n      <g>\n       <use style=\"stroke:#000000;stroke-width:0.8;\" x=\"55.345313\" xlink:href=\"#m5ebc6b389e\" y=\"86.63871\"/>\n      </g>\n     </g>\n     <g id=\"text_12\">\n      <!-- 0 -->\n      <g transform=\"translate(41.982813 90.437929)scale(0.1 -0.1)\">\n       <use xlink:href=\"#DejaVuSans-48\"/>\n      </g>\n     </g>\n    </g>\n    <g id=\"ytick_5\">\n     <g id=\"line2d_12\">\n      <g>\n       <use style=\"stroke:#000000;stroke-width:0.8;\" x=\"55.345313\" xlink:href=\"#m5ebc6b389e\" y=\"41.13621\"/>\n      </g>\n     </g>\n     <g id=\"text_13\">\n      <!-- 200 -->\n      <g transform=\"translate(29.257813 44.935428)scale(0.1 -0.1)\">\n       <use xlink:href=\"#DejaVuSans-50\"/>\n       <use x=\"63.623047\" xlink:href=\"#DejaVuSans-48\"/>\n       <use x=\"127.246094\" xlink:href=\"#DejaVuSans-48\"/>\n      </g>\n     </g>\n    </g>\n    <g id=\"text_14\">\n     <!-- Score -->\n     <g transform=\"translate(14.798438 129.922344)rotate(-90)scale(0.1 -0.1)\">\n      <defs>\n       <path d=\"M 53.515625 70.515625 \nL 53.515625 60.890625 \nQ 47.90625 63.578125 42.921875 64.890625 \nQ 37.9375 66.21875 33.296875 66.21875 \nQ 25.25 66.21875 20.875 63.09375 \nQ 16.5 59.96875 16.5 54.203125 \nQ 16.5 49.359375 19.40625 46.890625 \nQ 22.3125 44.4375 30.421875 42.921875 \nL 36.375 41.703125 \nQ 47.40625 39.59375 52.65625 34.296875 \nQ 57.90625 29 57.90625 20.125 \nQ 57.90625 9.515625 50.796875 4.046875 \nQ 43.703125 -1.421875 29.984375 -1.421875 \nQ 24.8125 -1.421875 18.96875 -0.25 \nQ 13.140625 0.921875 6.890625 3.21875 \nL 6.890625 13.375 \nQ 12.890625 10.015625 18.65625 8.296875 \nQ 24.421875 6.59375 29.984375 6.59375 \nQ 38.421875 6.59375 43.015625 9.90625 \nQ 47.609375 13.234375 47.609375 19.390625 \nQ 47.609375 24.75 44.3125 27.78125 \nQ 41.015625 30.8125 33.5 32.328125 \nL 27.484375 33.5 \nQ 16.453125 35.6875 11.515625 40.375 \nQ 6.59375 45.0625 6.59375 53.421875 \nQ 6.59375 63.09375 13.40625 68.65625 \nQ 20.21875 74.21875 32.171875 74.21875 \nQ 37.3125 74.21875 42.625 73.28125 \nQ 47.953125 72.359375 53.515625 70.515625 \nz\n\" id=\"DejaVuSans-83\"/>\n       <path d=\"M 48.78125 52.59375 \nL 48.78125 44.1875 \nQ 44.96875 46.296875 41.140625 47.34375 \nQ 37.3125 48.390625 33.40625 48.390625 \nQ 24.65625 48.390625 19.8125 42.84375 \nQ 14.984375 37.3125 14.984375 27.296875 \nQ 14.984375 17.28125 19.8125 11.734375 \nQ 24.65625 6.203125 33.40625 6.203125 \nQ 37.3125 6.203125 41.140625 7.25 \nQ 44.96875 8.296875 48.78125 10.40625 \nL 48.78125 2.09375 \nQ 45.015625 0.34375 40.984375 -0.53125 \nQ 36.96875 -1.421875 32.421875 -1.421875 \nQ 20.0625 -1.421875 12.78125 6.34375 \nQ 5.515625 14.109375 5.515625 27.296875 \nQ 5.515625 40.671875 12.859375 48.328125 \nQ 20.21875 56 33.015625 56 \nQ 37.15625 56 41.109375 55.140625 \nQ 45.0625 54.296875 48.78125 52.59375 \nz\n\" id=\"DejaVuSans-99\"/>\n       <path d=\"M 41.109375 46.296875 \nQ 39.59375 47.171875 37.8125 47.578125 \nQ 36.03125 48 33.890625 48 \nQ 26.265625 48 22.1875 43.046875 \nQ 18.109375 38.09375 18.109375 28.8125 \nL 18.109375 0 \nL 9.078125 0 \nL 9.078125 54.6875 \nL 18.109375 54.6875 \nL 18.109375 46.1875 \nQ 20.953125 51.171875 25.484375 53.578125 \nQ 30.03125 56 36.53125 56 \nQ 37.453125 56 38.578125 55.875 \nQ 39.703125 55.765625 41.0625 55.515625 \nz\n\" id=\"DejaVuSans-114\"/>\n      </defs>\n      <use xlink:href=\"#DejaVuSans-83\"/>\n      <use x=\"63.476562\" xlink:href=\"#DejaVuSans-99\"/>\n      <use x=\"118.457031\" xlink:href=\"#DejaVuSans-111\"/>\n      <use x=\"179.638672\" xlink:href=\"#DejaVuSans-114\"/>\n      <use x=\"218.501953\" xlink:href=\"#DejaVuSans-101\"/>\n     </g>\n    </g>\n   </g>\n   <g id=\"line2d_13\">\n    <path clip-path=\"url(#pa8af2f40cc)\" d=\"M 70.563494 150.521337 \nL 71.062451 138.221983 \nL 71.561408 102.151495 \nL 72.060365 115.318076 \nL 72.559321 111.601227 \nL 73.058278 106.934384 \nL 73.557235 103.920521 \nL 74.056192 120.8269 \nL 74.555149 108.050308 \nL 75.054105 176.592209 \nL 75.553062 94.0008 \nL 76.052019 135.438236 \nL 76.550976 146.260737 \nL 77.049932 127.241153 \nL 77.548889 113.275491 \nL 78.047846 117.589809 \nL 78.546803 156.605502 \nL 79.04576 115.387276 \nL 79.544716 178.943721 \nL 80.043673 101.293155 \nL 80.54263 111.606527 \nL 81.041587 109.005363 \nL 81.540543 147.022541 \nL 82.0395 106.579666 \nL 82.538457 87.034613 \nL 83.037414 147.540867 \nL 83.536371 103.712174 \nL 84.035327 112.823934 \nL 84.534284 114.847474 \nL 85.033241 106.018081 \nL 85.532198 116.877994 \nL 86.031155 117.972534 \nL 86.530111 114.690512 \nL 87.029068 120.656444 \nL 87.528025 113.311238 \nL 88.026982 130.963394 \nL 88.525938 109.819384 \nL 89.024895 123.815238 \nL 89.523852 214.756364 \nL 90.022809 106.867847 \nL 90.521766 109.560084 \nL 91.020722 79.488491 \nL 91.519679 135.076582 \nL 92.018636 110.306225 \nL 92.517593 114.355117 \nL 93.016549 108.144567 \nL 93.515506 145.53936 \nL 94.014463 91.033306 \nL 94.51342 105.468445 \nL 95.012377 99.903444 \nL 95.511333 104.183471 \nL 96.01029 187.787365 \nL 96.509247 99.132999 \nL 97.008204 92.223201 \nL 97.50716 165.851446 \nL 98.006117 154.0003 \nL 98.505074 103.86382 \nL 99.004031 145.311975 \nL 99.502988 158.574242 \nL 100.001944 146.012428 \nL 100.500901 91.685707 \nL 100.999858 108.00456 \nL 101.498815 96.593334 \nL 101.997772 106.82406 \nL 102.496728 103.048663 \nL 102.995685 125.15467 \nL 103.494642 132.023039 \nL 103.993599 114.442445 \nL 104.492555 206.041258 \nL 104.991512 163.952545 \nL 105.490469 102.849409 \nL 105.989426 188.051698 \nL 106.488383 98.885922 \nL 106.987339 151.835822 \nL 107.486296 142.964034 \nL 107.985253 203.390977 \nL 108.48421 196.103103 \nL 108.983166 151.976011 \nL 109.482123 159.009406 \nL 109.98108 131.403552 \nL 110.480037 113.26207 \nL 110.978994 136.888671 \nL 111.47795 124.990539 \nL 111.976907 95.56085 \nL 112.475864 110.319315 \nL 112.974821 102.7888 \nL 113.473777 113.961177 \nL 113.972734 114.455925 \nL 114.471691 124.449755 \nL 114.970648 95.687604 \nL 115.469605 114.085654 \nL 115.968561 180.530659 \nL 116.467518 102.145936 \nL 116.966475 99.333774 \nL 117.465432 145.317198 \nL 117.964389 101.775929 \nL 118.463345 117.427716 \nL 118.962302 121.359819 \nL 119.461259 110.674304 \nL 119.960216 102.908317 \nL 120.958129 115.536045 \nL 121.457086 125.549116 \nL 121.956043 142.337974 \nL 122.455 117.921236 \nL 122.953956 108.051013 \nL 123.452913 112.389466 \nL 123.95187 164.185767 \nL 124.450827 114.188516 \nL 124.949783 90.444488 \nL 125.44874 132.283933 \nL 125.947697 127.647327 \nL 126.446654 92.525532 \nL 126.945611 159.315964 \nL 127.444567 134.808135 \nL 127.943524 123.662228 \nL 128.442481 141.923123 \nL 128.941438 122.190362 \nL 129.440394 95.909131 \nL 129.939351 107.89472 \nL 130.438308 97.089638 \nL 130.937265 117.580866 \nL 131.436222 122.412064 \nL 131.935178 94.34672 \nL 132.434135 125.742044 \nL 132.933092 100.60978 \nL 133.432049 109.308717 \nL 133.931005 120.227633 \nL 134.429962 147.038346 \nL 134.928919 133.208405 \nL 135.427876 139.018329 \nL 135.926833 85.613417 \nL 136.425789 157.78322 \nL 136.924746 96.491933 \nL 137.423703 159.781765 \nL 137.92266 128.091639 \nL 138.421617 105.550891 \nL 138.920573 107.500835 \nL 139.41953 92.294853 \nL 139.918487 117.778093 \nL 140.417444 104.75833 \nL 140.9164 70.864014 \nL 141.415357 106.529555 \nL 141.914314 68.306921 \nL 142.413271 101.444816 \nL 142.912228 113.719863 \nL 143.411184 137.199171 \nL 143.910141 90.404856 \nL 144.409098 97.567322 \nL 144.908055 122.346867 \nL 145.407011 98.126456 \nL 145.905968 120.184607 \nL 146.903882 98.003309 \nL 147.402839 115.91068 \nL 147.901795 155.355893 \nL 148.400752 84.162542 \nL 148.899709 117.266858 \nL 149.398666 84.848524 \nL 149.897622 89.585024 \nL 150.396579 102.091024 \nL 150.895536 100.639349 \nL 151.394493 109.233811 \nL 151.89345 101.461134 \nL 152.392406 101.414419 \nL 152.891363 117.674432 \nL 153.39032 89.045182 \nL 153.889277 94.791449 \nL 154.388234 96.671853 \nL 154.88719 106.082162 \nL 155.386147 134.931743 \nL 155.885104 116.850395 \nL 156.384061 68.073956 \nL 156.883017 111.619776 \nL 157.381974 130.968301 \nL 157.880931 89.080174 \nL 158.379888 112.30129 \nL 158.878845 101.587311 \nL 159.377801 119.630994 \nL 159.876758 143.205172 \nL 160.375715 91.712726 \nL 160.874672 92.929042 \nL 161.373628 107.182947 \nL 161.872585 80.150548 \nL 162.371542 65.322702 \nL 162.870499 68.321307 \nL 163.369456 73.799685 \nL 163.868412 104.80833 \nL 164.367369 65.382794 \nL 164.866326 142.782468 \nL 165.365283 88.374287 \nL 165.864239 87.552462 \nL 166.363196 106.724263 \nL 166.862153 64.724373 \nL 167.36111 111.515797 \nL 167.860067 102.176248 \nL 168.359023 99.558783 \nL 168.85798 81.907055 \nL 169.356937 90.503952 \nL 169.855894 127.793099 \nL 170.354851 75.333453 \nL 170.853807 61.339847 \nL 171.352764 102.125472 \nL 171.851721 106.414093 \nL 172.350678 85.434403 \nL 172.849634 90.365994 \nL 173.348591 115.210667 \nL 174.346505 74.138644 \nL 174.845462 68.041298 \nL 175.344418 102.991237 \nL 175.843375 90.987046 \nL 176.342332 92.999317 \nL 176.841289 77.469976 \nL 177.340245 75.898575 \nL 177.839202 68.144354 \nL 178.338159 68.466415 \nL 178.837116 98.450709 \nL 179.336073 89.18452 \nL 179.835029 85.043209 \nL 180.333986 98.092779 \nL 180.832943 95.858341 \nL 181.3319 103.295859 \nL 181.830856 83.617637 \nL 182.329813 70.453277 \nL 182.82877 86.110796 \nL 183.327727 88.012713 \nL 183.826684 91.123588 \nL 184.32564 96.972701 \nL 184.824597 88.668244 \nL 185.323554 95.425502 \nL 185.822511 97.33847 \nL 186.321467 88.673196 \nL 186.820424 88.714856 \nL 187.319381 99.179302 \nL 187.818338 105.09293 \nL 188.317295 137.524005 \nL 188.816251 84.123527 \nL 189.315208 122.318751 \nL 189.814165 99.84982 \nL 190.313122 145.453448 \nL 190.812079 103.613902 \nL 191.311035 102.359269 \nL 191.809992 93.296309 \nL 192.308949 109.6452 \nL 192.807906 90.945041 \nL 193.306862 94.970721 \nL 193.805819 105.991396 \nL 194.803733 76.068886 \nL 195.30269 108.444997 \nL 195.801646 115.787832 \nL 196.300603 102.910826 \nL 196.79956 74.911241 \nL 197.298517 91.621565 \nL 197.797473 99.083698 \nL 198.29643 77.623738 \nL 198.795387 111.731958 \nL 199.294344 104.652478 \nL 199.793301 106.811567 \nL 200.292257 96.024436 \nL 200.791214 109.802588 \nL 201.290171 102.524742 \nL 201.789128 82.860733 \nL 202.288084 101.409026 \nL 202.787041 107.165809 \nL 203.285998 91.36305 \nL 203.784955 81.093884 \nL 204.283912 94.050598 \nL 204.782868 117.215364 \nL 205.281825 110.47198 \nL 205.780782 75.058142 \nL 206.279739 97.546531 \nL 207.277652 91.074462 \nL 207.776609 95.096424 \nL 208.275566 86.63128 \nL 208.774523 107.010237 \nL 209.273479 86.941008 \nL 209.772436 92.189036 \nL 210.271393 105.18798 \nL 211.269307 77.798873 \nL 211.768263 90.864587 \nL 212.26722 95.214797 \nL 212.766177 94.475054 \nL 213.265134 101.689204 \nL 213.76409 88.220099 \nL 214.263047 99.780468 \nL 214.762004 98.722688 \nL 215.260961 96.353672 \nL 215.759918 83.425013 \nL 216.258874 90.841892 \nL 216.757831 101.528837 \nL 217.256788 103.805817 \nL 217.755745 82.614901 \nL 218.254701 74.667847 \nL 218.753658 89.220685 \nL 219.252615 85.8856 \nL 219.751572 99.564505 \nL 220.250529 105.600572 \nL 221.248442 79.412472 \nL 221.747399 87.379257 \nL 222.246356 80.640918 \nL 222.745312 94.608272 \nL 223.743226 102.35708 \nL 224.242183 76.117698 \nL 224.74114 160.375927 \nL 225.240096 97.124011 \nL 225.739053 92.751738 \nL 226.23801 96.217026 \nL 226.736967 87.932994 \nL 227.235924 61.018315 \nL 227.73488 170.36508 \nL 228.233837 97.153695 \nL 228.732794 97.122427 \nL 229.231751 75.120224 \nL 229.730707 80.794228 \nL 230.229664 105.244006 \nL 230.728621 81.326107 \nL 231.227578 112.420206 \nL 231.726535 84.374338 \nL 232.225491 135.162917 \nL 232.724448 94.027202 \nL 233.223405 85.834517 \nL 233.722362 68.852118 \nL 234.720275 96.748167 \nL 235.219232 101.442083 \nL 235.718189 74.294265 \nL 236.217146 97.727138 \nL 236.716102 95.94454 \nL 237.215059 61.09171 \nL 237.714016 116.049981 \nL 238.212973 99.898284 \nL 239.210886 89.477042 \nL 239.709843 73.71058 \nL 240.2088 41.638716 \nL 240.707757 80.902512 \nL 241.206713 20.429703 \nL 241.70567 98.172973 \nL 242.204627 93.266737 \nL 242.703584 31.169839 \nL 243.202541 80.372209 \nL 243.701497 96.221713 \nL 244.200454 81.156486 \nL 244.699411 89.764725 \nL 245.198368 81.835569 \nL 245.697324 57.205961 \nL 246.196281 89.684695 \nL 246.695238 73.027233 \nL 247.194195 87.510913 \nL 247.693152 92.684261 \nL 248.192108 75.073371 \nL 248.691065 25.477176 \nL 249.190022 92.479999 \nL 249.688979 61.727971 \nL 250.187935 93.754975 \nL 250.686892 77.888915 \nL 251.185849 90.906708 \nL 251.684806 87.614686 \nL 252.183763 93.346713 \nL 252.682719 95.76289 \nL 253.181676 96.003947 \nL 253.680633 95.479576 \nL 254.678546 85.700551 \nL 255.177503 94.232608 \nL 255.67646 89.015967 \nL 256.175417 96.058698 \nL 257.17333 59.756766 \nL 257.672287 85.018806 \nL 258.171244 33.006628 \nL 258.670201 25.070975 \nL 259.169158 68.669483 \nL 259.668114 35.613615 \nL 260.167071 97.319908 \nL 260.666028 99.085723 \nL 261.164985 100.156052 \nL 261.663941 91.311513 \nL 262.162898 85.309273 \nL 262.661855 73.605889 \nL 263.160812 79.979619 \nL 263.659769 88.213666 \nL 264.158725 38.848329 \nL 264.657682 86.611281 \nL 265.156639 43.910211 \nL 265.655596 89.475977 \nL 266.154552 90.959163 \nL 266.653509 90.347892 \nL 267.152466 83.585188 \nL 267.651423 89.46957 \nL 268.15038 92.093136 \nL 268.649336 91.018916 \nL 269.148293 42.211411 \nL 269.64725 89.716457 \nL 270.146207 78.203323 \nL 270.645163 88.557694 \nL 271.14412 61.404512 \nL 271.643077 100.272276 \nL 272.142034 49.480003 \nL 272.640991 79.176067 \nL 273.139947 55.649502 \nL 273.638904 52.692124 \nL 274.636818 39.352644 \nL 275.135774 63.281025 \nL 275.634731 48.808433 \nL 276.133688 88.895572 \nL 276.632645 32.103274 \nL 277.131602 43.887391 \nL 277.630558 47.155896 \nL 278.628472 86.943759 \nL 279.127429 50.443761 \nL 279.626386 33.710676 \nL 280.125342 80.974142 \nL 280.624299 36.045722 \nL 281.123256 51.077542 \nL 281.622213 38.913917 \nL 282.121169 91.702686 \nL 282.620126 18.846786 \nL 283.61804 150.909473 \nL 284.116997 42.356544 \nL 284.615953 92.673226 \nL 285.11491 42.347749 \nL 285.613867 45.617472 \nL 286.112824 81.607019 \nL 286.61178 42.439561 \nL 287.110737 58.91112 \nL 287.609694 42.037525 \nL 288.108651 39.572742 \nL 288.607608 45.508738 \nL 289.106564 26.392362 \nL 290.104478 88.034075 \nL 290.603435 49.411862 \nL 291.102391 87.598465 \nL 291.601348 60.829802 \nL 292.100305 49.752805 \nL 292.599262 83.655505 \nL 293.098219 86.64386 \nL 293.597175 57.801357 \nL 294.096132 40.600654 \nL 294.595089 27.889089 \nL 295.094046 77.070902 \nL 295.593003 40.682783 \nL 296.091959 79.400542 \nL 296.590916 82.987906 \nL 297.089873 22.44316 \nL 297.58883 43.916413 \nL 298.087786 39.027987 \nL 298.586743 31.070254 \nL 299.0857 101.637877 \nL 299.584657 44.310264 \nL 300.083614 48.97237 \nL 300.58257 42.020486 \nL 301.081527 40.713348 \nL 301.580484 35.7943 \nL 302.079441 54.560008 \nL 302.578397 48.220051 \nL 303.077354 45.165321 \nL 303.576311 68.759539 \nL 304.075268 31.850143 \nL 304.574225 82.717948 \nL 305.073181 40.247179 \nL 305.572138 21.250832 \nL 306.071095 64.095716 \nL 306.570052 47.174992 \nL 307.069008 37.887957 \nL 307.567965 34.939298 \nL 308.066922 39.788254 \nL 308.565879 51.929836 \nL 309.064836 46.384384 \nL 309.563792 93.08661 \nL 310.062749 37.968939 \nL 310.561706 40.743318 \nL 311.060663 37.91601 \nL 311.55962 44.415064 \nL 312.058576 40.206624 \nL 312.557533 45.09032 \nL 313.05649 59.491427 \nL 313.555447 63.824672 \nL 314.55336 38.79358 \nL 315.052317 45.630346 \nL 315.551274 43.491192 \nL 316.050231 32.578012 \nL 316.549187 65.882396 \nL 317.048144 33.315421 \nL 317.547101 44.543549 \nL 318.545014 26.98863 \nL 319.043971 58.239008 \nL 319.542928 27.163433 \nL 320.540842 49.388096 \nL 321.039798 35.182623 \nL 321.538755 58.621663 \nL 322.536669 40.285176 \nL 323.035625 45.957883 \nL 323.534582 43.740536 \nL 324.033539 30.108376 \nL 325.031453 46.847316 \nL 325.530409 32.328839 \nL 326.528323 53.622647 \nL 327.02728 37.548485 \nL 327.526236 37.996865 \nL 328.025193 41.213917 \nL 328.52415 39.072956 \nL 329.023107 35.459465 \nL 329.522064 34.625419 \nL 330.02102 25.750597 \nL 330.519977 41.071232 \nL 331.517891 34.391992 \nL 332.016848 38.750698 \nL 332.515804 39.529039 \nL 333.014761 39.581422 \nL 333.513718 47.331422 \nL 334.012675 39.998195 \nL 334.511631 40.405106 \nL 335.010588 92.335477 \nL 335.509545 42.524891 \nL 336.008502 44.137133 \nL 336.507459 35.44136 \nL 337.006415 40.38494 \nL 337.505372 33.280384 \nL 338.004329 52.854938 \nL 338.503286 36.841305 \nL 339.002242 37.771339 \nL 339.501199 43.992528 \nL 340.000156 69.759418 \nL 340.499113 34.531651 \nL 340.99807 32.819322 \nL 341.497026 26.931955 \nL 341.995983 27.138767 \nL 342.49494 43.190402 \nL 342.993897 31.208604 \nL 343.492853 48.038847 \nL 343.99181 39.542696 \nL 344.490767 45.43527 \nL 344.989724 42.741503 \nL 345.488681 46.681305 \nL 345.987637 52.683265 \nL 346.486594 45.086129 \nL 346.985551 55.091224 \nL 347.484508 34.566153 \nL 347.983465 52.905352 \nL 348.482421 40.528899 \nL 348.981378 40.819826 \nL 349.480335 42.403201 \nL 349.979292 33.649213 \nL 350.478248 29.037171 \nL 350.977205 38.846153 \nL 351.476162 41.072584 \nL 351.975119 38.743398 \nL 352.474076 45.24906 \nL 352.973032 46.601305 \nL 353.471989 46.76626 \nL 353.970946 40.214486 \nL 354.469903 64.788981 \nL 354.968859 35.956042 \nL 355.467816 42.500629 \nL 355.966773 42.201412 \nL 356.46573 36.176218 \nL 356.964687 48.734688 \nL 357.463643 48.25148 \nL 357.9626 26.455759 \nL 358.461557 34.188228 \nL 358.960514 31.019544 \nL 359.45947 47.907378 \nL 359.958427 45.433989 \nL 360.457384 33.811215 \nL 360.956341 40.739513 \nL 361.455298 38.550255 \nL 361.954254 44.738456 \nL 362.453211 39.878745 \nL 362.952168 41.893145 \nL 363.451125 33.647426 \nL 363.950082 109.024646 \nL 364.449038 51.905401 \nL 364.947995 27.694138 \nL 365.446952 42.85453 \nL 365.945909 29.347856 \nL 366.444865 51.091776 \nL 366.943822 32.789398 \nL 367.442779 34.406898 \nL 367.941736 38.251159 \nL 368.440693 48.74436 \nL 368.939649 49.507576 \nL 369.438606 33.462203 \nL 369.937563 37.451094 \nL 370.935476 18.235429 \nL 371.434433 43.6981 \nL 371.93339 40.762043 \nL 372.432347 39.132052 \nL 372.931304 40.187641 \nL 373.43026 33.737764 \nL 373.929217 17.083636 \nL 374.428174 33.758807 \nL 374.927131 34.104763 \nL 374.927131 34.104763 \n\" style=\"fill:none;stroke:#1f77b4;stroke-linecap:square;stroke-width:1.5;\"/>\n   </g>\n   <g id=\"patch_3\">\n    <path d=\"M 55.345313 224.64 \nL 55.345313 7.2 \n\" style=\"fill:none;stroke:#000000;stroke-linecap:square;stroke-linejoin:miter;stroke-width:0.8;\"/>\n   </g>\n   <g id=\"patch_4\">\n    <path d=\"M 390.145312 224.64 \nL 390.145312 7.2 \n\" style=\"fill:none;stroke:#000000;stroke-linecap:square;stroke-linejoin:miter;stroke-width:0.8;\"/>\n   </g>\n   <g id=\"patch_5\">\n    <path d=\"M 55.345313 224.64 \nL 390.145312 224.64 \n\" style=\"fill:none;stroke:#000000;stroke-linecap:square;stroke-linejoin:miter;stroke-width:0.8;\"/>\n   </g>\n   <g id=\"patch_6\">\n    <path d=\"M 55.345313 7.2 \nL 390.145312 7.2 \n\" style=\"fill:none;stroke:#000000;stroke-linecap:square;stroke-linejoin:miter;stroke-width:0.8;\"/>\n   </g>\n  </g>\n </g>\n <defs>\n  <clipPath id=\"pa8af2f40cc\">\n   <rect height=\"217.44\" width=\"334.8\" x=\"55.345313\" y=\"7.2\"/>\n  </clipPath>\n </defs>\n</svg>\n",
      "image/png": "[encoded data removed]"
     },
     "metadata": {
      "needs_background": "light"
     }
    }
   ],
   "metadata": {}
  },
  {
   "cell_type": "code",
   "execution_count": 14,
   "source": [
    "np.savetxt('surgery.np',scores)"
   ],
   "outputs": [],
   "metadata": {}
  },
  {
   "cell_type": "markdown",
   "source": [
    "### 4. Watch a Smart Agent!"
   ],
   "metadata": {}
  },
  {
   "cell_type": "code",
   "execution_count": 11,
   "source": [
    "# load the weights from file\n",
    "agent.qnetwork_local.load_state_dict(torch.load('checkpoint.pth'))\n",
    "\n",
    "for i in range(3):\n",
    "    state = env.reset()\n",
    "    for j in range(200):\n",
    "        action = agent.act(state)\n",
    "        env.render()\n",
    "        state, reward, done, _ = env.step(action)\n",
    "        if done:\n",
    "            break\n",
    "\n",
    "env.close()"
   ],
   "outputs": [],
   "metadata": {}
  },
  {
   "cell_type": "code",
   "execution_count": null,
   "source": [],
   "outputs": [],
   "metadata": {}
  }
 ],
 "metadata": {
  "kernelspec": {
   "name": "python3",
   "display_name": "Python 3.6.13 64-bit ('tftorch': conda)"
  },
  "language_info": {
   "codemirror_mode": {
    "name": "ipython",
    "version": 3
   },
   "file_extension": ".py",
   "mimetype": "text/x-python",
   "name": "python",
   "nbconvert_exporter": "python",
   "pygments_lexer": "ipython3",
   "version": "3.6.13"
  },
  "interpreter": {
   "hash": "3242c50314a9a68f934114b03bfda27d4d4439c8399dcbb46cdc3239617c61c1"
  }
 },
 "nbformat": 4,
 "nbformat_minor": 2
}