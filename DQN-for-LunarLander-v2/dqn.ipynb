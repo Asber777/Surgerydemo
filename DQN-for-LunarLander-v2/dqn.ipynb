{
 "cells": [
  {
   "cell_type": "markdown",
   "source": [
    "# Deep Q-Network (DQN)\n",
    "---\n",
    "This notebook contains an implementation of a DQN Agent that solves OpenAI Gym's LunarLander-v2 environment.\n"
   ],
   "metadata": {}
  },
  {
   "cell_type": "markdown",
   "source": [
    "### 1. Import Necessary Packages:"
   ],
   "metadata": {}
  },
  {
   "cell_type": "code",
   "execution_count": 1,
   "source": [
    "import gym\n",
    "import random\n",
    "import torch\n",
    "import numpy as np\n",
    "from collections import namedtuple, deque\n",
    "import matplotlib.pyplot as plt\n",
    "%matplotlib inline\n",
    "\n",
    "# pytorch imports\n",
    "import torch\n",
    "import torch.nn as nn\n",
    "import torch.nn.functional as F\n",
    "import torch.optim as optim"
   ],
   "outputs": [],
   "metadata": {}
  },
  {
   "cell_type": "markdown",
   "source": [
    "### 2. Instantiate the Environment and Agent"
   ],
   "metadata": {}
  },
  {
   "cell_type": "code",
   "execution_count": 2,
   "source": [
    "env = gym.make('LunarLander-v2')\n",
    "env.seed(0)\n",
    "print('State shape: ', env.observation_space.shape)\n",
    "print('Number of Actions: ', env.action_space.n)"
   ],
   "outputs": [
    {
     "output_type": "stream",
     "name": "stdout",
     "text": [
      "State shape:  (8,)\n",
      "Number of Actions:  4\n"
     ]
    }
   ],
   "metadata": {}
  },
  {
   "cell_type": "markdown",
   "source": [
    "#### Set up the QNetwork:\n",
    "\n",
    "This neural network is going to consist of three sets of fully connected layers (hidden layers have 64 nodes) with a relu activation function applied between three layers."
   ],
   "metadata": {}
  },
  {
   "cell_type": "code",
   "execution_count": 3,
   "source": [
    "class QNetwork(nn.Module):\n",
    "    \"\"\"Actor (Policy) Model.\"\"\"\n",
    "\n",
    "    def __init__(self, state_size, action_size, seed, fc1_units=64, fc2_units=64):\n",
    "        \"\"\"Initialize parameters and build model.\n",
    "        Params\n",
    "        ======\n",
    "            state_size (int): Dimension of each state\n",
    "            action_size (int): Dimension of each action\n",
    "            seed (int): Random seed\n",
    "            fc1_units (int): Number of nodes in first hidden layer\n",
    "            fc2_units (int): Number of nodes in second hidden layer\n",
    "        \"\"\"\n",
    "        super(QNetwork, self).__init__()\n",
    "        self.seed = torch.manual_seed(seed)\n",
    "        self.fc1 = nn.Linear(state_size, fc1_units)\n",
    "        self.fc2 = nn.Linear(fc1_units, fc2_units)\n",
    "        self.fc3 = nn.Linear(fc2_units, action_size)\n",
    "\n",
    "    def forward(self, state):\n",
    "        \"\"\"Build a network that maps state -> action values.\"\"\"\n",
    "        x = F.relu(self.fc1(state))\n",
    "        x = F.relu(self.fc2(x))\n",
    "        return self.fc3(x)"
   ],
   "outputs": [],
   "metadata": {}
  },
  {
   "cell_type": "markdown",
   "source": [
    "#### Set up the Agent:"
   ],
   "metadata": {}
  },
  {
   "cell_type": "code",
   "execution_count": 4,
   "source": [
    "# Define the DQN hyperparameters\n",
    "\n",
    "BUFFER_SIZE = int(1e5)  # replay buffer size\n",
    "BATCH_SIZE = 64         # minibatch size\n",
    "GAMMA = 0.99            # discount factor\n",
    "TAU = 1e-3              # for soft update of target parameters\n",
    "LR = 5e-4               # learning rate \n",
    "UPDATE_EVERY = 4        # how often to update the network\n",
    "\n",
    "# Use GPU is possible else use CPU\n",
    "device = torch.device(\"cuda:0\" if torch.cuda.is_available() else \"cpu\")\n",
    "\n",
    "class Agent():\n",
    "    \"\"\"Interacts with and learns from the environment.\"\"\"\n",
    "\n",
    "    def __init__(self, state_size, action_size, seed):\n",
    "        \"\"\"Initialize an Agent object.\n",
    "        \n",
    "        Params\n",
    "        ======\n",
    "            state_size (int): dimension of each state\n",
    "            action_size (int): dimension of each action\n",
    "            seed (int): random seed\n",
    "        \"\"\"\n",
    "        self.state_size = state_size\n",
    "        self.action_size = action_size\n",
    "        self.seed = random.seed(seed)\n",
    "\n",
    "        # Q-Network\n",
    "        self.qnetwork_local = QNetwork(state_size, action_size, seed).to(device)\n",
    "        self.qnetwork_target = QNetwork(state_size, action_size, seed).to(device)\n",
    "        self.optimizer = optim.Adam(self.qnetwork_local.parameters(), lr=LR)\n",
    "\n",
    "        # Replay memory\n",
    "        self.memory = ReplayBuffer(action_size, BUFFER_SIZE, BATCH_SIZE, seed)\n",
    "        # Initialize time step (for updating every UPDATE_EVERY steps)\n",
    "        self.t_step = 0\n",
    "    \n",
    "    def step(self, state, action, reward, next_state, done):\n",
    "        # Save experience in replay memory\n",
    "        self.memory.add(state, action, reward, next_state, done)\n",
    "        \n",
    "        # Learn every UPDATE_EVERY time steps.\n",
    "        self.t_step = (self.t_step + 1) % UPDATE_EVERY\n",
    "        if self.t_step == 0:\n",
    "            # If enough samples are available in memory, get random subset and learn\n",
    "            if len(self.memory) > BATCH_SIZE:\n",
    "                experiences = self.memory.sample()\n",
    "                self.learn(experiences, GAMMA)\n",
    "\n",
    "    def act(self, state, eps=0.):\n",
    "        \"\"\"Returns actions for given state as per current policy.\n",
    "        \n",
    "        Params\n",
    "        ======\n",
    "            state (array_like): current state\n",
    "            eps (float): epsilon, for epsilon-greedy action selection\n",
    "        \"\"\"\n",
    "        state = torch.from_numpy(state).float().unsqueeze(0).to(device)\n",
    "        self.qnetwork_local.eval()\n",
    "        with torch.no_grad():\n",
    "            action_values = self.qnetwork_local(state)\n",
    "        self.qnetwork_local.train()\n",
    "\n",
    "        # Epsilon-greedy action selection\n",
    "        if random.random() > eps:\n",
    "            return np.argmax(action_values.cpu().data.numpy())\n",
    "        else:\n",
    "            return random.choice(np.arange(self.action_size))\n",
    "\n",
    "    def learn(self, experiences, gamma):\n",
    "        \"\"\"Update value parameters using given batch of experience tuples.\n",
    "\n",
    "        Params\n",
    "        ======\n",
    "            experiences (Tuple[torch.Tensor]): tuple of (s, a, r, s', done) tuples \n",
    "            gamma (float): discount factor\n",
    "        \"\"\"\n",
    "        states, actions, rewards, next_states, dones = experiences\n",
    "\n",
    "        # Get max predicted Q values (for next states) from target model\n",
    "        Q_targets_next = self.qnetwork_target(next_states).detach().max(1)[0].unsqueeze(1)\n",
    "        # Compute Q targets for current states \n",
    "        Q_targets = rewards + (gamma * Q_targets_next * (1 - dones))\n",
    "\n",
    "        # Get expected Q values from local model\n",
    "        Q_expected = self.qnetwork_local(states).gather(1, actions)\n",
    "\n",
    "        # Compute loss\n",
    "        loss = F.mse_loss(Q_expected, Q_targets)\n",
    "        # Minimize the loss\n",
    "        self.optimizer.zero_grad()\n",
    "        loss.backward()\n",
    "        self.optimizer.step()\n",
    "\n",
    "        # ------------------- update target network ------------------- #\n",
    "        self.soft_update(self.qnetwork_local, self.qnetwork_target, TAU)                     \n",
    "\n",
    "    def soft_update(self, local_model, target_model, tau):\n",
    "        \"\"\"Soft update model parameters.\n",
    "        θ_target = τ*θ_local + (1 - τ)*θ_target\n",
    "\n",
    "        Params\n",
    "        ======\n",
    "            local_model (PyTorch model): weights will be copied from\n",
    "            target_model (PyTorch model): weights will be copied to\n",
    "            tau (float): interpolation parameter \n",
    "        \"\"\"\n",
    "        for target_param, local_param in zip(target_model.parameters(), local_model.parameters()):\n",
    "            target_param.data.copy_(tau*local_param.data + (1.0-tau)*target_param.data)"
   ],
   "outputs": [],
   "metadata": {}
  },
  {
   "cell_type": "code",
   "execution_count": 5,
   "source": [
    "class ReplayBuffer:\n",
    "    \"\"\"Fixed-size buffer to store experience tuples.\"\"\"\n",
    "\n",
    "    def __init__(self, action_size, buffer_size, batch_size, seed):\n",
    "        \"\"\"Initialize a ReplayBuffer object.\n",
    "\n",
    "        Params\n",
    "        ======\n",
    "            action_size (int): dimension of each action\n",
    "            buffer_size (int): maximum size of buffer\n",
    "            batch_size (int): size of each training batch\n",
    "            seed (int): random seed\n",
    "        \"\"\"\n",
    "        self.action_size = action_size\n",
    "        self.memory = deque(maxlen=buffer_size)  \n",
    "        self.batch_size = batch_size\n",
    "        self.experience = namedtuple(\"Experience\", field_names=[\"state\", \"action\", \"reward\", \"next_state\", \"done\"])\n",
    "        self.seed = random.seed(seed)\n",
    "    \n",
    "    def add(self, state, action, reward, next_state, done):\n",
    "        \"\"\"Add a new experience to memory.\"\"\"\n",
    "        e = self.experience(state, action, reward, next_state, done)\n",
    "        self.memory.append(e)\n",
    "    \n",
    "    def sample(self):\n",
    "        \"\"\"Randomly sample a batch of experiences from memory.\"\"\"\n",
    "        experiences = random.sample(self.memory, k=self.batch_size)\n",
    "\n",
    "        states = torch.from_numpy(np.vstack([e.state for e in experiences if e is not None])).float().to(device)\n",
    "        actions = torch.from_numpy(np.vstack([e.action for e in experiences if e is not None])).long().to(device)\n",
    "        rewards = torch.from_numpy(np.vstack([e.reward for e in experiences if e is not None])).float().to(device)\n",
    "        next_states = torch.from_numpy(np.vstack([e.next_state for e in experiences if e is not None])).float().to(device)\n",
    "        dones = torch.from_numpy(np.vstack([e.done for e in experiences if e is not None]).astype(np.uint8)).float().to(device)\n",
    "  \n",
    "        return (states, actions, rewards, next_states, dones)\n",
    "\n",
    "    def __len__(self):\n",
    "        \"\"\"Return the current size of internal memory.\"\"\"\n",
    "        return len(self.memory)"
   ],
   "outputs": [],
   "metadata": {}
  },
  {
   "cell_type": "markdown",
   "source": [
    "### 3. Train the Agent with DQN:"
   ],
   "metadata": {}
  },
  {
   "cell_type": "code",
   "execution_count": 6,
   "source": [
    "def dqn(agent, n_episodes=2000, max_t=1000, eps_start=1.0, eps_end=0.01, eps_decay=0.995):\n",
    "    \"\"\"Deep Q-Learning.\n",
    "    \n",
    "    Params\n",
    "    ======\n",
    "        n_episodes (int): maximum number of training episodes\n",
    "        max_t (int): maximum number of timesteps per episode\n",
    "        eps_start (float): starting value of epsilon, for epsilon-greedy action selection\n",
    "        eps_end (float): minimum value of epsilon\n",
    "        eps_decay (float): multiplicative factor (per episode) for decreasing epsilon\n",
    "    \"\"\"\n",
    "    scores = []                        # list containing scores from each episode\n",
    "    scores_window = deque(maxlen=100)  # last 100 scores\n",
    "    eps = eps_start                    # initialize epsilon\n",
    "    for i_episode in range(1, n_episodes+1):\n",
    "        state = env.reset()\n",
    "        score = 0\n",
    "        for t in range(max_t):\n",
    "            action = agent.act(state, eps)\n",
    "            next_state, reward, done, _ = env.step(action)\n",
    "            agent.step(state, action, reward, next_state, done)\n",
    "            state = next_state\n",
    "            score += reward\n",
    "            if done:\n",
    "                break \n",
    "        scores_window.append(score)       # save most recent score\n",
    "        scores.append(score)              # save most recent score\n",
    "        eps = max(eps_end, eps_decay*eps) # decrease epsilon\n",
    "        print('\\rEpisode {}\\tAverage Score: {:.2f}'.format(i_episode, np.mean(scores_window)), end=\"\")\n",
    "        if i_episode % 100 == 0:\n",
    "            print('\\rEpisode {}\\tAverage Score: {:.2f}'.format(i_episode, np.mean(scores_window)))\n",
    "        if np.mean(scores_window)>=200.0:\n",
    "            print('\\nEnvironment solved in {:d} episodes!\\tAverage Score: {:.2f}'.format(i_episode-100, np.mean(scores_window)))\n",
    "            torch.save(agent.qnetwork_local.state_dict(), 'checkpoint.pth')\n",
    "            break\n",
    "    return scores\n",
    "\n",
    "agent = Agent(env.observation_space.shape[0], env.action_space.n, 0)\n",
    "scores = dqn(agent)\n",
    "\n",
    "# plot the scores\n",
    "fig = plt.figure()\n",
    "ax = fig.add_subplot(111)\n",
    "plt.plot(np.arange(len(scores)), scores)\n",
    "plt.ylabel('Score')\n",
    "plt.xlabel('Episode #')\n",
    "plt.show()"
   ],
   "outputs": [
    {
     "output_type": "stream",
     "name": "stdout",
     "text": [
      "Episode 100\tAverage Score: -185.86\n",
      "Episode 200\tAverage Score: -125.91\n",
      "Episode 300\tAverage Score: -30.94\n",
      "Episode 400\tAverage Score: -37.53\n",
      "Episode 500\tAverage Score: -2.33\n",
      "Episode 600\tAverage Score: 63.98\n",
      "Episode 700\tAverage Score: 23.16\n",
      "Episode 800\tAverage Score: 18.35\n",
      "Episode 900\tAverage Score: 59.88\n",
      "Episode 1000\tAverage Score: 96.17\n",
      "Episode 1072\tAverage Score: 75.25"
     ]
    }
   ],
   "metadata": {}
  },
  {
   "cell_type": "markdown",
   "source": [
    "### 4. Watch a Smart Agent!"
   ],
   "metadata": {}
  },
  {
   "cell_type": "code",
   "execution_count": 12,
   "source": [
    "print(len(scores))\n",
    "# plot the scores\n",
    "fig = plt.figure()\n",
    "ax = fig.add_subplot(111)\n",
    "plt.plot(np.arange(len(scores)), scores)\n",
    "plt.ylabel('Score')\n",
    "plt.xlabel('Episode #')\n",
    "plt.show()"
   ],
   "outputs": [
    {
     "output_type": "stream",
     "name": "stdout",
     "text": [
      "1198\n"
     ]
    },
    {
     "output_type": "display_data",
     "data": {
      "text/plain": [
       "<Figure size 432x288 with 1 Axes>"
      ],
      "image/svg+xml": "<?xml version=\"1.0\" encoding=\"utf-8\" standalone=\"no\"?>\n<!DOCTYPE svg PUBLIC \"-//W3C//DTD SVG 1.1//EN\"\n  \"http://www.w3.org/Graphics/SVG/1.1/DTD/svg11.dtd\">\n<!-- Created with matplotlib (https://matplotlib.org/) -->\n<svg height=\"262.19625pt\" version=\"1.1\" viewBox=\"0 0 397.345312 262.19625\" width=\"397.345312pt\" xmlns=\"http://www.w3.org/2000/svg\" xmlns:xlink=\"http://www.w3.org/1999/xlink\">\n <metadata>\n  <rdf:RDF xmlns:cc=\"http://creativecommons.org/ns#\" xmlns:dc=\"http://purl.org/dc/elements/1.1/\" xmlns:rdf=\"http://www.w3.org/1999/02/22-rdf-syntax-ns#\">\n   <cc:Work>\n    <dc:type rdf:resource=\"http://purl.org/dc/dcmitype/StillImage\"/>\n    <dc:date>2022-05-18T06:07:27.375543</dc:date>\n    <dc:format>image/svg+xml</dc:format>\n    <dc:creator>\n     <cc:Agent>\n      <dc:title>Matplotlib v3.3.4, https://matplotlib.org/</dc:title>\n     </cc:Agent>\n    </dc:creator>\n   </cc:Work>\n  </rdf:RDF>\n </metadata>\n <defs>\n  <style type=\"text/css\">*{stroke-linecap:butt;stroke-linejoin:round;}</style>\n </defs>\n <g id=\"figure_1\">\n  <g id=\"patch_1\">\n   <path d=\"M 0 262.19625 \nL 397.345312 262.19625 \nL 397.345312 0 \nL 0 0 \nz\n\" style=\"fill:none;\"/>\n  </g>\n  <g id=\"axes_1\">\n   <g id=\"patch_2\">\n    <path d=\"M 55.345313 224.64 \nL 390.145312 224.64 \nL 390.145312 7.2 \nL 55.345313 7.2 \nz\n\" style=\"fill:#ffffff;\"/>\n   </g>\n   <g id=\"matplotlib.axis_1\">\n    <g id=\"xtick_1\">\n     <g id=\"line2d_1\">\n      <defs>\n       <path d=\"M 0 0 \nL 0 3.5 \n\" id=\"m4d9439f646\" style=\"stroke:#000000;stroke-width:0.8;\"/>\n      </defs>\n      <g>\n       <use style=\"stroke:#000000;stroke-width:0.8;\" x=\"70.563494\" xlink:href=\"#m4d9439f646\" y=\"224.64\"/>\n      </g>\n     </g>\n     <g id=\"text_1\">\n      <!-- 0 -->\n      <g transform=\"translate(67.382244 239.238437)scale(0.1 -0.1)\">\n       <defs>\n        <path d=\"M 31.78125 66.40625 \nQ 24.171875 66.40625 20.328125 58.90625 \nQ 16.5 51.421875 16.5 36.375 \nQ 16.5 21.390625 20.328125 13.890625 \nQ 24.171875 6.390625 31.78125 6.390625 \nQ 39.453125 6.390625 43.28125 13.890625 \nQ 47.125 21.390625 47.125 36.375 \nQ 47.125 51.421875 43.28125 58.90625 \nQ 39.453125 66.40625 31.78125 66.40625 \nz\nM 31.78125 74.21875 \nQ 44.046875 74.21875 50.515625 64.515625 \nQ 56.984375 54.828125 56.984375 36.375 \nQ 56.984375 17.96875 50.515625 8.265625 \nQ 44.046875 -1.421875 31.78125 -1.421875 \nQ 19.53125 -1.421875 13.0625 8.265625 \nQ 6.59375 17.96875 6.59375 36.375 \nQ 6.59375 54.828125 13.0625 64.515625 \nQ 19.53125 74.21875 31.78125 74.21875 \nz\n\" id=\"DejaVuSans-48\"/>\n       </defs>\n       <use xlink:href=\"#DejaVuSans-48\"/>\n      </g>\n     </g>\n    </g>\n    <g id=\"xtick_2\">\n     <g id=\"line2d_2\">\n      <g>\n       <use style=\"stroke:#000000;stroke-width:0.8;\" x=\"121.417903\" xlink:href=\"#m4d9439f646\" y=\"224.64\"/>\n      </g>\n     </g>\n     <g id=\"text_2\">\n      <!-- 200 -->\n      <g transform=\"translate(111.874153 239.238437)scale(0.1 -0.1)\">\n       <defs>\n        <path d=\"M 19.1875 8.296875 \nL 53.609375 8.296875 \nL 53.609375 0 \nL 7.328125 0 \nL 7.328125 8.296875 \nQ 12.9375 14.109375 22.625 23.890625 \nQ 32.328125 33.6875 34.8125 36.53125 \nQ 39.546875 41.84375 41.421875 45.53125 \nQ 43.3125 49.21875 43.3125 52.78125 \nQ 43.3125 58.59375 39.234375 62.25 \nQ 35.15625 65.921875 28.609375 65.921875 \nQ 23.96875 65.921875 18.8125 64.3125 \nQ 13.671875 62.703125 7.8125 59.421875 \nL 7.8125 69.390625 \nQ 13.765625 71.78125 18.9375 73 \nQ 24.125 74.21875 28.421875 74.21875 \nQ 39.75 74.21875 46.484375 68.546875 \nQ 53.21875 62.890625 53.21875 53.421875 \nQ 53.21875 48.921875 51.53125 44.890625 \nQ 49.859375 40.875 45.40625 35.40625 \nQ 44.1875 33.984375 37.640625 27.21875 \nQ 31.109375 20.453125 19.1875 8.296875 \nz\n\" id=\"DejaVuSans-50\"/>\n       </defs>\n       <use xlink:href=\"#DejaVuSans-50\"/>\n       <use x=\"63.623047\" xlink:href=\"#DejaVuSans-48\"/>\n       <use x=\"127.246094\" xlink:href=\"#DejaVuSans-48\"/>\n      </g>\n     </g>\n    </g>\n    <g id=\"xtick_3\">\n     <g id=\"line2d_3\">\n      <g>\n       <use style=\"stroke:#000000;stroke-width:0.8;\" x=\"172.272312\" xlink:href=\"#m4d9439f646\" y=\"224.64\"/>\n      </g>\n     </g>\n     <g id=\"text_3\">\n      <!-- 400 -->\n      <g transform=\"translate(162.728562 239.238437)scale(0.1 -0.1)\">\n       <defs>\n        <path d=\"M 37.796875 64.3125 \nL 12.890625 25.390625 \nL 37.796875 25.390625 \nz\nM 35.203125 72.90625 \nL 47.609375 72.90625 \nL 47.609375 25.390625 \nL 58.015625 25.390625 \nL 58.015625 17.1875 \nL 47.609375 17.1875 \nL 47.609375 0 \nL 37.796875 0 \nL 37.796875 17.1875 \nL 4.890625 17.1875 \nL 4.890625 26.703125 \nz\n\" id=\"DejaVuSans-52\"/>\n       </defs>\n       <use xlink:href=\"#DejaVuSans-52\"/>\n       <use x=\"63.623047\" xlink:href=\"#DejaVuSans-48\"/>\n       <use x=\"127.246094\" xlink:href=\"#DejaVuSans-48\"/>\n      </g>\n     </g>\n    </g>\n    <g id=\"xtick_4\">\n     <g id=\"line2d_4\">\n      <g>\n       <use style=\"stroke:#000000;stroke-width:0.8;\" x=\"223.126721\" xlink:href=\"#m4d9439f646\" y=\"224.64\"/>\n      </g>\n     </g>\n     <g id=\"text_4\">\n      <!-- 600 -->\n      <g transform=\"translate(213.582971 239.238437)scale(0.1 -0.1)\">\n       <defs>\n        <path d=\"M 33.015625 40.375 \nQ 26.375 40.375 22.484375 35.828125 \nQ 18.609375 31.296875 18.609375 23.390625 \nQ 18.609375 15.53125 22.484375 10.953125 \nQ 26.375 6.390625 33.015625 6.390625 \nQ 39.65625 6.390625 43.53125 10.953125 \nQ 47.40625 15.53125 47.40625 23.390625 \nQ 47.40625 31.296875 43.53125 35.828125 \nQ 39.65625 40.375 33.015625 40.375 \nz\nM 52.59375 71.296875 \nL 52.59375 62.3125 \nQ 48.875 64.0625 45.09375 64.984375 \nQ 41.3125 65.921875 37.59375 65.921875 \nQ 27.828125 65.921875 22.671875 59.328125 \nQ 17.53125 52.734375 16.796875 39.40625 \nQ 19.671875 43.65625 24.015625 45.921875 \nQ 28.375 48.1875 33.59375 48.1875 \nQ 44.578125 48.1875 50.953125 41.515625 \nQ 57.328125 34.859375 57.328125 23.390625 \nQ 57.328125 12.15625 50.6875 5.359375 \nQ 44.046875 -1.421875 33.015625 -1.421875 \nQ 20.359375 -1.421875 13.671875 8.265625 \nQ 6.984375 17.96875 6.984375 36.375 \nQ 6.984375 53.65625 15.1875 63.9375 \nQ 23.390625 74.21875 37.203125 74.21875 \nQ 40.921875 74.21875 44.703125 73.484375 \nQ 48.484375 72.75 52.59375 71.296875 \nz\n\" id=\"DejaVuSans-54\"/>\n       </defs>\n       <use xlink:href=\"#DejaVuSans-54\"/>\n       <use x=\"63.623047\" xlink:href=\"#DejaVuSans-48\"/>\n       <use x=\"127.246094\" xlink:href=\"#DejaVuSans-48\"/>\n      </g>\n     </g>\n    </g>\n    <g id=\"xtick_5\">\n     <g id=\"line2d_5\">\n      <g>\n       <use style=\"stroke:#000000;stroke-width:0.8;\" x=\"273.981129\" xlink:href=\"#m4d9439f646\" y=\"224.64\"/>\n      </g>\n     </g>\n     <g id=\"text_5\">\n      <!-- 800 -->\n      <g transform=\"translate(264.437379 239.238437)scale(0.1 -0.1)\">\n       <defs>\n        <path d=\"M 31.78125 34.625 \nQ 24.75 34.625 20.71875 30.859375 \nQ 16.703125 27.09375 16.703125 20.515625 \nQ 16.703125 13.921875 20.71875 10.15625 \nQ 24.75 6.390625 31.78125 6.390625 \nQ 38.8125 6.390625 42.859375 10.171875 \nQ 46.921875 13.96875 46.921875 20.515625 \nQ 46.921875 27.09375 42.890625 30.859375 \nQ 38.875 34.625 31.78125 34.625 \nz\nM 21.921875 38.8125 \nQ 15.578125 40.375 12.03125 44.71875 \nQ 8.5 49.078125 8.5 55.328125 \nQ 8.5 64.0625 14.71875 69.140625 \nQ 20.953125 74.21875 31.78125 74.21875 \nQ 42.671875 74.21875 48.875 69.140625 \nQ 55.078125 64.0625 55.078125 55.328125 \nQ 55.078125 49.078125 51.53125 44.71875 \nQ 48 40.375 41.703125 38.8125 \nQ 48.828125 37.15625 52.796875 32.3125 \nQ 56.78125 27.484375 56.78125 20.515625 \nQ 56.78125 9.90625 50.3125 4.234375 \nQ 43.84375 -1.421875 31.78125 -1.421875 \nQ 19.734375 -1.421875 13.25 4.234375 \nQ 6.78125 9.90625 6.78125 20.515625 \nQ 6.78125 27.484375 10.78125 32.3125 \nQ 14.796875 37.15625 21.921875 38.8125 \nz\nM 18.3125 54.390625 \nQ 18.3125 48.734375 21.84375 45.5625 \nQ 25.390625 42.390625 31.78125 42.390625 \nQ 38.140625 42.390625 41.71875 45.5625 \nQ 45.3125 48.734375 45.3125 54.390625 \nQ 45.3125 60.0625 41.71875 63.234375 \nQ 38.140625 66.40625 31.78125 66.40625 \nQ 25.390625 66.40625 21.84375 63.234375 \nQ 18.3125 60.0625 18.3125 54.390625 \nz\n\" id=\"DejaVuSans-56\"/>\n       </defs>\n       <use xlink:href=\"#DejaVuSans-56\"/>\n       <use x=\"63.623047\" xlink:href=\"#DejaVuSans-48\"/>\n       <use x=\"127.246094\" xlink:href=\"#DejaVuSans-48\"/>\n      </g>\n     </g>\n    </g>\n    <g id=\"xtick_6\">\n     <g id=\"line2d_6\">\n      <g>\n       <use style=\"stroke:#000000;stroke-width:0.8;\" x=\"324.835538\" xlink:href=\"#m4d9439f646\" y=\"224.64\"/>\n      </g>\n     </g>\n     <g id=\"text_6\">\n      <!-- 1000 -->\n      <g transform=\"translate(312.110538 239.238437)scale(0.1 -0.1)\">\n       <defs>\n        <path d=\"M 12.40625 8.296875 \nL 28.515625 8.296875 \nL 28.515625 63.921875 \nL 10.984375 60.40625 \nL 10.984375 69.390625 \nL 28.421875 72.90625 \nL 38.28125 72.90625 \nL 38.28125 8.296875 \nL 54.390625 8.296875 \nL 54.390625 0 \nL 12.40625 0 \nz\n\" id=\"DejaVuSans-49\"/>\n       </defs>\n       <use xlink:href=\"#DejaVuSans-49\"/>\n       <use x=\"63.623047\" xlink:href=\"#DejaVuSans-48\"/>\n       <use x=\"127.246094\" xlink:href=\"#DejaVuSans-48\"/>\n       <use x=\"190.869141\" xlink:href=\"#DejaVuSans-48\"/>\n      </g>\n     </g>\n    </g>\n    <g id=\"xtick_7\">\n     <g id=\"line2d_7\">\n      <g>\n       <use style=\"stroke:#000000;stroke-width:0.8;\" x=\"375.689947\" xlink:href=\"#m4d9439f646\" y=\"224.64\"/>\n      </g>\n     </g>\n     <g id=\"text_7\">\n      <!-- 1200 -->\n      <g transform=\"translate(362.964947 239.238437)scale(0.1 -0.1)\">\n       <use xlink:href=\"#DejaVuSans-49\"/>\n       <use x=\"63.623047\" xlink:href=\"#DejaVuSans-50\"/>\n       <use x=\"127.246094\" xlink:href=\"#DejaVuSans-48\"/>\n       <use x=\"190.869141\" xlink:href=\"#DejaVuSans-48\"/>\n      </g>\n     </g>\n    </g>\n    <g id=\"text_8\">\n     <!-- Episode # -->\n     <g transform=\"translate(197.328906 252.916562)scale(0.1 -0.1)\">\n      <defs>\n       <path d=\"M 9.8125 72.90625 \nL 55.90625 72.90625 \nL 55.90625 64.59375 \nL 19.671875 64.59375 \nL 19.671875 43.015625 \nL 54.390625 43.015625 \nL 54.390625 34.71875 \nL 19.671875 34.71875 \nL 19.671875 8.296875 \nL 56.78125 8.296875 \nL 56.78125 0 \nL 9.8125 0 \nz\n\" id=\"DejaVuSans-69\"/>\n       <path d=\"M 18.109375 8.203125 \nL 18.109375 -20.796875 \nL 9.078125 -20.796875 \nL 9.078125 54.6875 \nL 18.109375 54.6875 \nL 18.109375 46.390625 \nQ 20.953125 51.265625 25.265625 53.625 \nQ 29.59375 56 35.59375 56 \nQ 45.5625 56 51.78125 48.09375 \nQ 58.015625 40.1875 58.015625 27.296875 \nQ 58.015625 14.40625 51.78125 6.484375 \nQ 45.5625 -1.421875 35.59375 -1.421875 \nQ 29.59375 -1.421875 25.265625 0.953125 \nQ 20.953125 3.328125 18.109375 8.203125 \nz\nM 48.6875 27.296875 \nQ 48.6875 37.203125 44.609375 42.84375 \nQ 40.53125 48.484375 33.40625 48.484375 \nQ 26.265625 48.484375 22.1875 42.84375 \nQ 18.109375 37.203125 18.109375 27.296875 \nQ 18.109375 17.390625 22.1875 11.75 \nQ 26.265625 6.109375 33.40625 6.109375 \nQ 40.53125 6.109375 44.609375 11.75 \nQ 48.6875 17.390625 48.6875 27.296875 \nz\n\" id=\"DejaVuSans-112\"/>\n       <path d=\"M 9.421875 54.6875 \nL 18.40625 54.6875 \nL 18.40625 0 \nL 9.421875 0 \nz\nM 9.421875 75.984375 \nL 18.40625 75.984375 \nL 18.40625 64.59375 \nL 9.421875 64.59375 \nz\n\" id=\"DejaVuSans-105\"/>\n       <path d=\"M 44.28125 53.078125 \nL 44.28125 44.578125 \nQ 40.484375 46.53125 36.375 47.5 \nQ 32.28125 48.484375 27.875 48.484375 \nQ 21.1875 48.484375 17.84375 46.4375 \nQ 14.5 44.390625 14.5 40.28125 \nQ 14.5 37.15625 16.890625 35.375 \nQ 19.28125 33.59375 26.515625 31.984375 \nL 29.59375 31.296875 \nQ 39.15625 29.25 43.1875 25.515625 \nQ 47.21875 21.78125 47.21875 15.09375 \nQ 47.21875 7.46875 41.1875 3.015625 \nQ 35.15625 -1.421875 24.609375 -1.421875 \nQ 20.21875 -1.421875 15.453125 -0.5625 \nQ 10.6875 0.296875 5.421875 2 \nL 5.421875 11.28125 \nQ 10.40625 8.6875 15.234375 7.390625 \nQ 20.0625 6.109375 24.8125 6.109375 \nQ 31.15625 6.109375 34.5625 8.28125 \nQ 37.984375 10.453125 37.984375 14.40625 \nQ 37.984375 18.0625 35.515625 20.015625 \nQ 33.0625 21.96875 24.703125 23.78125 \nL 21.578125 24.515625 \nQ 13.234375 26.265625 9.515625 29.90625 \nQ 5.8125 33.546875 5.8125 39.890625 \nQ 5.8125 47.609375 11.28125 51.796875 \nQ 16.75 56 26.8125 56 \nQ 31.78125 56 36.171875 55.265625 \nQ 40.578125 54.546875 44.28125 53.078125 \nz\n\" id=\"DejaVuSans-115\"/>\n       <path d=\"M 30.609375 48.390625 \nQ 23.390625 48.390625 19.1875 42.75 \nQ 14.984375 37.109375 14.984375 27.296875 \nQ 14.984375 17.484375 19.15625 11.84375 \nQ 23.34375 6.203125 30.609375 6.203125 \nQ 37.796875 6.203125 41.984375 11.859375 \nQ 46.1875 17.53125 46.1875 27.296875 \nQ 46.1875 37.015625 41.984375 42.703125 \nQ 37.796875 48.390625 30.609375 48.390625 \nz\nM 30.609375 56 \nQ 42.328125 56 49.015625 48.375 \nQ 55.71875 40.765625 55.71875 27.296875 \nQ 55.71875 13.875 49.015625 6.21875 \nQ 42.328125 -1.421875 30.609375 -1.421875 \nQ 18.84375 -1.421875 12.171875 6.21875 \nQ 5.515625 13.875 5.515625 27.296875 \nQ 5.515625 40.765625 12.171875 48.375 \nQ 18.84375 56 30.609375 56 \nz\n\" id=\"DejaVuSans-111\"/>\n       <path d=\"M 45.40625 46.390625 \nL 45.40625 75.984375 \nL 54.390625 75.984375 \nL 54.390625 0 \nL 45.40625 0 \nL 45.40625 8.203125 \nQ 42.578125 3.328125 38.25 0.953125 \nQ 33.9375 -1.421875 27.875 -1.421875 \nQ 17.96875 -1.421875 11.734375 6.484375 \nQ 5.515625 14.40625 5.515625 27.296875 \nQ 5.515625 40.1875 11.734375 48.09375 \nQ 17.96875 56 27.875 56 \nQ 33.9375 56 38.25 53.625 \nQ 42.578125 51.265625 45.40625 46.390625 \nz\nM 14.796875 27.296875 \nQ 14.796875 17.390625 18.875 11.75 \nQ 22.953125 6.109375 30.078125 6.109375 \nQ 37.203125 6.109375 41.296875 11.75 \nQ 45.40625 17.390625 45.40625 27.296875 \nQ 45.40625 37.203125 41.296875 42.84375 \nQ 37.203125 48.484375 30.078125 48.484375 \nQ 22.953125 48.484375 18.875 42.84375 \nQ 14.796875 37.203125 14.796875 27.296875 \nz\n\" id=\"DejaVuSans-100\"/>\n       <path d=\"M 56.203125 29.59375 \nL 56.203125 25.203125 \nL 14.890625 25.203125 \nQ 15.484375 15.921875 20.484375 11.0625 \nQ 25.484375 6.203125 34.421875 6.203125 \nQ 39.59375 6.203125 44.453125 7.46875 \nQ 49.3125 8.734375 54.109375 11.28125 \nL 54.109375 2.78125 \nQ 49.265625 0.734375 44.1875 -0.34375 \nQ 39.109375 -1.421875 33.890625 -1.421875 \nQ 20.796875 -1.421875 13.15625 6.1875 \nQ 5.515625 13.8125 5.515625 26.8125 \nQ 5.515625 40.234375 12.765625 48.109375 \nQ 20.015625 56 32.328125 56 \nQ 43.359375 56 49.78125 48.890625 \nQ 56.203125 41.796875 56.203125 29.59375 \nz\nM 47.21875 32.234375 \nQ 47.125 39.59375 43.09375 43.984375 \nQ 39.0625 48.390625 32.421875 48.390625 \nQ 24.90625 48.390625 20.390625 44.140625 \nQ 15.875 39.890625 15.1875 32.171875 \nz\n\" id=\"DejaVuSans-101\"/>\n       <path id=\"DejaVuSans-32\"/>\n       <path d=\"M 51.125 44 \nL 36.921875 44 \nL 32.8125 27.6875 \nL 47.125 27.6875 \nz\nM 43.796875 71.78125 \nL 38.71875 51.515625 \nL 52.984375 51.515625 \nL 58.109375 71.78125 \nL 65.921875 71.78125 \nL 60.890625 51.515625 \nL 76.125 51.515625 \nL 76.125 44 \nL 58.984375 44 \nL 54.984375 27.6875 \nL 70.515625 27.6875 \nL 70.515625 20.21875 \nL 53.078125 20.21875 \nL 48 0 \nL 40.1875 0 \nL 45.21875 20.21875 \nL 30.90625 20.21875 \nL 25.875 0 \nL 18.015625 0 \nL 23.09375 20.21875 \nL 7.71875 20.21875 \nL 7.71875 27.6875 \nL 24.90625 27.6875 \nL 29 44 \nL 13.28125 44 \nL 13.28125 51.515625 \nL 30.90625 51.515625 \nL 35.890625 71.78125 \nz\n\" id=\"DejaVuSans-35\"/>\n      </defs>\n      <use xlink:href=\"#DejaVuSans-69\"/>\n      <use x=\"63.183594\" xlink:href=\"#DejaVuSans-112\"/>\n      <use x=\"126.660156\" xlink:href=\"#DejaVuSans-105\"/>\n      <use x=\"154.443359\" xlink:href=\"#DejaVuSans-115\"/>\n      <use x=\"206.542969\" xlink:href=\"#DejaVuSans-111\"/>\n      <use x=\"267.724609\" xlink:href=\"#DejaVuSans-100\"/>\n      <use x=\"331.201172\" xlink:href=\"#DejaVuSans-101\"/>\n      <use x=\"392.724609\" xlink:href=\"#DejaVuSans-32\"/>\n      <use x=\"424.511719\" xlink:href=\"#DejaVuSans-35\"/>\n     </g>\n    </g>\n   </g>\n   <g id=\"matplotlib.axis_2\">\n    <g id=\"ytick_1\">\n     <g id=\"line2d_8\">\n      <defs>\n       <path d=\"M 0 0 \nL -3.5 0 \n\" id=\"m952a01f00c\" style=\"stroke:#000000;stroke-width:0.8;\"/>\n      </defs>\n      <g>\n       <use style=\"stroke:#000000;stroke-width:0.8;\" x=\"55.345313\" xlink:href=\"#m952a01f00c\" y=\"180.621814\"/>\n      </g>\n     </g>\n     <g id=\"text_9\">\n      <!-- −400 -->\n      <g transform=\"translate(20.878125 184.421033)scale(0.1 -0.1)\">\n       <defs>\n        <path d=\"M 10.59375 35.5 \nL 73.1875 35.5 \nL 73.1875 27.203125 \nL 10.59375 27.203125 \nz\n\" id=\"DejaVuSans-8722\"/>\n       </defs>\n       <use xlink:href=\"#DejaVuSans-8722\"/>\n       <use x=\"83.789062\" xlink:href=\"#DejaVuSans-52\"/>\n       <use x=\"147.412109\" xlink:href=\"#DejaVuSans-48\"/>\n       <use x=\"211.035156\" xlink:href=\"#DejaVuSans-48\"/>\n      </g>\n     </g>\n    </g>\n    <g id=\"ytick_2\">\n     <g id=\"line2d_9\">\n      <g>\n       <use style=\"stroke:#000000;stroke-width:0.8;\" x=\"55.345313\" xlink:href=\"#m952a01f00c\" y=\"133.01219\"/>\n      </g>\n     </g>\n     <g id=\"text_10\">\n      <!-- −200 -->\n      <g transform=\"translate(20.878125 136.811409)scale(0.1 -0.1)\">\n       <use xlink:href=\"#DejaVuSans-8722\"/>\n       <use x=\"83.789062\" xlink:href=\"#DejaVuSans-50\"/>\n       <use x=\"147.412109\" xlink:href=\"#DejaVuSans-48\"/>\n       <use x=\"211.035156\" xlink:href=\"#DejaVuSans-48\"/>\n      </g>\n     </g>\n    </g>\n    <g id=\"ytick_3\">\n     <g id=\"line2d_10\">\n      <g>\n       <use style=\"stroke:#000000;stroke-width:0.8;\" x=\"55.345313\" xlink:href=\"#m952a01f00c\" y=\"85.402566\"/>\n      </g>\n     </g>\n     <g id=\"text_11\">\n      <!-- 0 -->\n      <g transform=\"translate(41.982813 89.201784)scale(0.1 -0.1)\">\n       <use xlink:href=\"#DejaVuSans-48\"/>\n      </g>\n     </g>\n    </g>\n    <g id=\"ytick_4\">\n     <g id=\"line2d_11\">\n      <g>\n       <use style=\"stroke:#000000;stroke-width:0.8;\" x=\"55.345313\" xlink:href=\"#m952a01f00c\" y=\"37.792941\"/>\n      </g>\n     </g>\n     <g id=\"text_12\">\n      <!-- 200 -->\n      <g transform=\"translate(29.257813 41.59216)scale(0.1 -0.1)\">\n       <use xlink:href=\"#DejaVuSans-50\"/>\n       <use x=\"63.623047\" xlink:href=\"#DejaVuSans-48\"/>\n       <use x=\"127.246094\" xlink:href=\"#DejaVuSans-48\"/>\n      </g>\n     </g>\n    </g>\n    <g id=\"text_13\">\n     <!-- Score -->\n     <g transform=\"translate(14.798438 129.922344)rotate(-90)scale(0.1 -0.1)\">\n      <defs>\n       <path d=\"M 53.515625 70.515625 \nL 53.515625 60.890625 \nQ 47.90625 63.578125 42.921875 64.890625 \nQ 37.9375 66.21875 33.296875 66.21875 \nQ 25.25 66.21875 20.875 63.09375 \nQ 16.5 59.96875 16.5 54.203125 \nQ 16.5 49.359375 19.40625 46.890625 \nQ 22.3125 44.4375 30.421875 42.921875 \nL 36.375 41.703125 \nQ 47.40625 39.59375 52.65625 34.296875 \nQ 57.90625 29 57.90625 20.125 \nQ 57.90625 9.515625 50.796875 4.046875 \nQ 43.703125 -1.421875 29.984375 -1.421875 \nQ 24.8125 -1.421875 18.96875 -0.25 \nQ 13.140625 0.921875 6.890625 3.21875 \nL 6.890625 13.375 \nQ 12.890625 10.015625 18.65625 8.296875 \nQ 24.421875 6.59375 29.984375 6.59375 \nQ 38.421875 6.59375 43.015625 9.90625 \nQ 47.609375 13.234375 47.609375 19.390625 \nQ 47.609375 24.75 44.3125 27.78125 \nQ 41.015625 30.8125 33.5 32.328125 \nL 27.484375 33.5 \nQ 16.453125 35.6875 11.515625 40.375 \nQ 6.59375 45.0625 6.59375 53.421875 \nQ 6.59375 63.09375 13.40625 68.65625 \nQ 20.21875 74.21875 32.171875 74.21875 \nQ 37.3125 74.21875 42.625 73.28125 \nQ 47.953125 72.359375 53.515625 70.515625 \nz\n\" id=\"DejaVuSans-83\"/>\n       <path d=\"M 48.78125 52.59375 \nL 48.78125 44.1875 \nQ 44.96875 46.296875 41.140625 47.34375 \nQ 37.3125 48.390625 33.40625 48.390625 \nQ 24.65625 48.390625 19.8125 42.84375 \nQ 14.984375 37.3125 14.984375 27.296875 \nQ 14.984375 17.28125 19.8125 11.734375 \nQ 24.65625 6.203125 33.40625 6.203125 \nQ 37.3125 6.203125 41.140625 7.25 \nQ 44.96875 8.296875 48.78125 10.40625 \nL 48.78125 2.09375 \nQ 45.015625 0.34375 40.984375 -0.53125 \nQ 36.96875 -1.421875 32.421875 -1.421875 \nQ 20.0625 -1.421875 12.78125 6.34375 \nQ 5.515625 14.109375 5.515625 27.296875 \nQ 5.515625 40.671875 12.859375 48.328125 \nQ 20.21875 56 33.015625 56 \nQ 37.15625 56 41.109375 55.140625 \nQ 45.0625 54.296875 48.78125 52.59375 \nz\n\" id=\"DejaVuSans-99\"/>\n       <path d=\"M 41.109375 46.296875 \nQ 39.59375 47.171875 37.8125 47.578125 \nQ 36.03125 48 33.890625 48 \nQ 26.265625 48 22.1875 43.046875 \nQ 18.109375 38.09375 18.109375 28.8125 \nL 18.109375 0 \nL 9.078125 0 \nL 9.078125 54.6875 \nL 18.109375 54.6875 \nL 18.109375 46.1875 \nQ 20.953125 51.171875 25.484375 53.578125 \nQ 30.03125 56 36.53125 56 \nQ 37.453125 56 38.578125 55.875 \nQ 39.703125 55.765625 41.0625 55.515625 \nz\n\" id=\"DejaVuSans-114\"/>\n      </defs>\n      <use xlink:href=\"#DejaVuSans-83\"/>\n      <use x=\"63.476562\" xlink:href=\"#DejaVuSans-99\"/>\n      <use x=\"118.457031\" xlink:href=\"#DejaVuSans-111\"/>\n      <use x=\"179.638672\" xlink:href=\"#DejaVuSans-114\"/>\n      <use x=\"218.501953\" xlink:href=\"#DejaVuSans-101\"/>\n     </g>\n    </g>\n   </g>\n   <g id=\"line2d_12\">\n    <path clip-path=\"url(#p422c0ddf0b)\" d=\"M 70.563494 152.243462 \nL 70.817766 139.374551 \nL 71.072038 101.633715 \nL 71.32631 115.410012 \nL 72.089127 103.484661 \nL 72.343399 121.173938 \nL 72.597671 107.80569 \nL 72.851943 179.521621 \nL 73.106215 93.105578 \nL 73.614759 168.70257 \nL 73.869031 137.186257 \nL 74.377575 119.876766 \nL 74.631847 75.755918 \nL 74.886119 108.768139 \nL 75.140391 119.551735 \nL 75.394663 109.685512 \nL 75.648935 130.767389 \nL 75.903207 99.585441 \nL 76.157479 120.911122 \nL 76.411751 166.605599 \nL 76.666023 190.083553 \nL 76.920295 102.832674 \nL 77.174567 171.577081 \nL 77.428839 114.029853 \nL 77.683112 90.813505 \nL 77.937384 107.137508 \nL 78.191656 149.713702 \nL 78.445928 141.135537 \nL 78.7002 108.278638 \nL 78.954472 133.557795 \nL 79.208744 97.279689 \nL 79.463016 184.473889 \nL 79.717288 152.353306 \nL 79.97156 140.234311 \nL 80.225832 160.039362 \nL 80.734376 107.335422 \nL 80.988648 161.201281 \nL 81.24292 119.368475 \nL 81.497192 214.756364 \nL 81.751464 132.788194 \nL 82.005736 156.06458 \nL 82.260008 107.009519 \nL 82.51428 97.388496 \nL 82.768552 132.710444 \nL 83.022824 148.414697 \nL 83.277097 152.106472 \nL 83.531369 134.098049 \nL 83.785641 99.143569 \nL 84.039913 116.295038 \nL 84.294185 150.811684 \nL 84.548457 153.44338 \nL 84.802729 106.609514 \nL 85.057001 170.526763 \nL 85.311273 148.297867 \nL 85.565545 150.971654 \nL 85.819817 155.7348 \nL 86.074089 171.361761 \nL 86.328361 171.129 \nL 86.582633 156.538022 \nL 86.836905 86.233412 \nL 87.345449 139.298874 \nL 87.599721 141.184426 \nL 87.853993 107.922635 \nL 88.108265 172.068379 \nL 88.362537 197.50139 \nL 88.616809 110.644096 \nL 88.871081 127.017827 \nL 89.125354 91.153099 \nL 89.379626 91.367511 \nL 89.633898 159.935782 \nL 89.88817 90.092094 \nL 90.142442 130.130576 \nL 90.396714 105.511813 \nL 90.650986 94.360399 \nL 90.905258 132.151679 \nL 91.15953 128.901164 \nL 91.413802 106.353128 \nL 91.668074 147.199783 \nL 92.176618 101.615009 \nL 92.43089 106.309999 \nL 92.685162 145.595406 \nL 92.939434 98.813707 \nL 93.193706 128.215789 \nL 93.70225 143.134652 \nL 93.956522 107.021453 \nL 94.210794 133.430237 \nL 94.465066 139.67167 \nL 94.719338 91.918228 \nL 94.973611 132.785183 \nL 95.482155 116.031157 \nL 95.736427 132.06525 \nL 95.990699 115.188974 \nL 96.244971 84.145548 \nL 96.499243 133.211128 \nL 97.007787 109.478713 \nL 97.262059 151.502652 \nL 97.516331 117.131175 \nL 97.770603 127.164837 \nL 98.024875 112.796238 \nL 98.279147 121.690955 \nL 98.533419 108.111312 \nL 98.787691 109.548893 \nL 99.041963 109.793489 \nL 99.296235 134.285884 \nL 99.550507 116.08434 \nL 99.804779 139.526285 \nL 100.059051 109.833746 \nL 100.313323 117.350284 \nL 100.567595 133.869973 \nL 100.821868 114.156203 \nL 101.07614 111.360681 \nL 101.330412 125.038407 \nL 101.584684 121.492333 \nL 101.838956 120.380331 \nL 102.3475 108.633866 \nL 102.601772 110.287924 \nL 102.856044 82.987769 \nL 103.364588 127.019962 \nL 103.61886 129.66383 \nL 103.873132 115.480965 \nL 104.381676 107.724395 \nL 104.635948 147.469636 \nL 104.89022 147.223521 \nL 105.144492 120.005925 \nL 105.398764 145.220328 \nL 105.653036 125.559165 \nL 105.907308 118.221477 \nL 106.16158 123.855402 \nL 106.415852 105.427083 \nL 106.670125 129.28377 \nL 106.924397 82.369323 \nL 107.178669 112.37461 \nL 107.432941 117.137882 \nL 107.687213 109.025871 \nL 107.941485 122.215587 \nL 108.450029 105.769168 \nL 108.704301 118.314264 \nL 108.958573 105.164877 \nL 109.212845 122.680372 \nL 109.467117 125.216722 \nL 109.721389 120.870317 \nL 109.975661 120.491757 \nL 110.229933 124.656448 \nL 110.738477 88.205059 \nL 110.992749 106.337576 \nL 111.247021 163.044113 \nL 111.501293 87.318094 \nL 111.755565 134.946441 \nL 112.009837 145.289521 \nL 112.264109 116.090232 \nL 112.518382 120.569002 \nL 112.772654 108.498135 \nL 113.026926 147.389688 \nL 113.281198 106.365104 \nL 113.53547 122.335094 \nL 113.789742 117.666182 \nL 114.044014 99.372435 \nL 114.298286 121.492723 \nL 114.552558 100.1655 \nL 114.80683 102.888259 \nL 115.061102 97.659329 \nL 115.315374 102.843302 \nL 115.569646 111.441112 \nL 115.823918 109.562437 \nL 116.07819 117.261999 \nL 116.332462 102.202725 \nL 116.586734 99.978438 \nL 117.095278 102.693089 \nL 117.34955 108.806885 \nL 117.603822 108.329526 \nL 117.858094 91.420212 \nL 118.112366 166.685185 \nL 118.366639 111.716265 \nL 118.620911 90.639683 \nL 118.875183 153.697924 \nL 119.129455 87.383572 \nL 119.383727 95.184762 \nL 119.637999 96.173599 \nL 119.892271 81.775571 \nL 120.146543 124.100918 \nL 120.400815 105.51077 \nL 120.655087 126.160991 \nL 121.417903 78.403585 \nL 121.672175 70.623014 \nL 122.180719 136.39623 \nL 122.689263 104.687825 \nL 122.943535 123.986306 \nL 123.197807 112.215248 \nL 123.452079 131.284318 \nL 123.706351 98.717815 \nL 124.214896 82.051949 \nL 124.469168 65.486869 \nL 124.977712 121.244561 \nL 125.740528 46.170652 \nL 125.9948 103.239547 \nL 126.249072 113.851019 \nL 126.503344 119.512269 \nL 126.757616 102.969995 \nL 127.26616 94.394899 \nL 127.520432 51.588609 \nL 128.028976 114.035398 \nL 128.283248 92.172062 \nL 128.53752 87.68069 \nL 128.791792 103.169255 \nL 129.046064 72.136817 \nL 129.554608 137.385786 \nL 129.808881 67.134255 \nL 130.063153 98.628242 \nL 130.317425 74.153775 \nL 130.571697 68.427894 \nL 130.825969 104.714376 \nL 131.334513 80.528846 \nL 131.588785 103.735448 \nL 132.097329 95.690209 \nL 132.351601 57.502799 \nL 132.860145 90.890628 \nL 133.114417 74.669733 \nL 133.368689 98.287332 \nL 133.622961 107.390652 \nL 133.877233 95.286252 \nL 134.131505 92.753605 \nL 134.385777 84.058084 \nL 134.640049 79.308113 \nL 134.894321 102.220283 \nL 135.148593 57.974638 \nL 135.402865 84.702064 \nL 135.657138 75.388679 \nL 135.91141 82.922453 \nL 136.165682 103.882591 \nL 136.419954 94.957601 \nL 136.674226 91.974781 \nL 136.928498 82.1311 \nL 137.18277 80.127943 \nL 137.437042 84.596807 \nL 137.691314 93.908785 \nL 137.945586 83.537053 \nL 138.199858 88.614831 \nL 138.45413 82.328842 \nL 138.708402 69.214324 \nL 138.962674 95.816267 \nL 139.216946 105.993393 \nL 139.471218 87.998512 \nL 139.72549 85.392839 \nL 139.979762 73.523501 \nL 140.488306 127.37624 \nL 140.742578 103.873834 \nL 140.99685 91.046913 \nL 141.251122 97.465734 \nL 141.759667 77.077686 \nL 142.013939 90.8691 \nL 142.268211 77.847226 \nL 142.522483 91.778237 \nL 142.776755 91.488269 \nL 143.031027 86.953731 \nL 143.285299 87.488628 \nL 143.539571 87.718597 \nL 143.793843 90.035854 \nL 144.048115 142.669474 \nL 144.302387 101.747635 \nL 144.556659 101.257628 \nL 144.810931 106.19294 \nL 145.065203 52.817845 \nL 145.319475 45.248622 \nL 145.573747 120.40986 \nL 145.828019 102.041751 \nL 146.082291 113.807931 \nL 146.336563 88.746307 \nL 146.590835 106.902473 \nL 146.845107 95.842159 \nL 147.099379 97.2391 \nL 147.353652 95.422783 \nL 147.607924 97.692089 \nL 147.862196 109.487056 \nL 148.116468 157.517172 \nL 148.37074 141.940174 \nL 148.625012 115.525914 \nL 148.879284 67.611368 \nL 149.133556 120.126068 \nL 149.387828 110.128965 \nL 149.6421 70.877264 \nL 149.896372 131.84218 \nL 150.150644 95.594285 \nL 150.404916 98.668912 \nL 150.659188 81.79276 \nL 150.91346 90.241804 \nL 151.167732 108.861475 \nL 151.422004 75.608717 \nL 151.676276 105.699024 \nL 151.930548 67.092885 \nL 152.18482 109.044639 \nL 152.439092 96.716208 \nL 152.693364 102.507337 \nL 152.947636 90.181544 \nL 153.201909 117.440399 \nL 153.456181 93.347318 \nL 153.710453 88.1358 \nL 153.964725 87.056948 \nL 154.218997 67.348599 \nL 154.473269 93.52381 \nL 154.727541 104.702935 \nL 154.981813 130.633258 \nL 155.236085 104.038604 \nL 155.744629 90.44699 \nL 155.998901 92.02092 \nL 156.253173 97.337311 \nL 156.507445 99.35348 \nL 156.761717 74.127248 \nL 157.015989 87.377099 \nL 157.270261 75.255286 \nL 157.524533 90.642289 \nL 157.778805 74.838695 \nL 158.033077 93.129566 \nL 158.287349 83.846199 \nL 158.795893 107.032527 \nL 159.050166 100.779981 \nL 159.304438 103.271673 \nL 159.55871 91.31173 \nL 159.812982 90.644945 \nL 160.067254 88.327829 \nL 160.321526 99.203225 \nL 160.83007 77.725358 \nL 161.084342 96.348498 \nL 161.338614 96.512422 \nL 161.592886 93.80518 \nL 161.847158 97.834069 \nL 162.10143 84.312852 \nL 162.355702 95.057129 \nL 162.609974 97.243717 \nL 162.864246 98.192994 \nL 163.118518 88.032561 \nL 163.37279 101.814416 \nL 163.627062 94.406149 \nL 163.881334 90.578305 \nL 164.135606 99.270279 \nL 164.389878 71.749127 \nL 164.644151 102.842516 \nL 165.152695 93.633442 \nL 165.406967 63.246514 \nL 165.661239 98.573101 \nL 165.915511 94.859173 \nL 166.169783 79.773483 \nL 166.932599 99.450416 \nL 167.186871 89.748731 \nL 167.441143 98.247987 \nL 167.695415 95.17209 \nL 167.949687 97.104997 \nL 168.203959 89.369862 \nL 168.458231 94.356023 \nL 168.712503 108.930538 \nL 168.966775 84.175526 \nL 169.221047 96.820189 \nL 169.475319 63.869299 \nL 169.729591 94.480383 \nL 169.983863 90.844572 \nL 170.238135 132.177186 \nL 170.492408 89.460225 \nL 170.74668 93.074294 \nL 171.000952 67.086166 \nL 171.255224 87.419909 \nL 171.509496 66.273713 \nL 171.763768 77.904897 \nL 172.01804 80.50073 \nL 172.272312 97.973825 \nL 172.526584 94.77988 \nL 172.780856 102.892059 \nL 173.035128 98.021439 \nL 173.2894 96.025524 \nL 173.543672 125.802172 \nL 173.797944 91.077256 \nL 174.052216 98.206449 \nL 174.306488 76.525784 \nL 174.56076 100.991292 \nL 174.815032 43.212906 \nL 175.069304 93.45568 \nL 175.323576 96.895918 \nL 175.577848 87.186634 \nL 175.83212 95.292732 \nL 176.086392 95.093171 \nL 176.340665 82.245788 \nL 176.594937 110.247175 \nL 177.103481 51.691481 \nL 177.357753 91.670906 \nL 177.612025 101.667059 \nL 177.866297 61.22836 \nL 178.120569 94.373368 \nL 178.374841 56.484896 \nL 178.629113 39.874438 \nL 178.883385 105.030758 \nL 179.137657 79.157813 \nL 179.391929 68.656692 \nL 179.646201 97.200133 \nL 179.900473 97.91995 \nL 180.154745 60.100526 \nL 180.409017 42.934573 \nL 180.663289 97.826558 \nL 180.917561 45.550954 \nL 181.171833 28.919408 \nL 181.426105 101.799495 \nL 181.680377 93.09902 \nL 181.934649 101.882169 \nL 182.188922 100.396556 \nL 182.443194 43.735486 \nL 182.697466 47.298134 \nL 182.951738 94.652841 \nL 183.20601 102.14486 \nL 183.460282 58.357446 \nL 183.968826 128.183685 \nL 184.223098 92.578695 \nL 184.47737 92.35933 \nL 184.731642 108.171715 \nL 184.985914 48.429293 \nL 185.240186 99.364895 \nL 185.494458 96.625899 \nL 185.74873 97.171463 \nL 186.003002 101.498658 \nL 186.257274 103.449604 \nL 186.511546 106.829917 \nL 186.765818 39.773664 \nL 187.02009 97.966966 \nL 187.274362 99.646671 \nL 187.528634 98.722797 \nL 187.782906 103.259101 \nL 188.037179 64.359905 \nL 188.291451 101.878432 \nL 188.545723 101.218212 \nL 188.799995 50.194651 \nL 189.054267 98.711838 \nL 189.308539 54.339842 \nL 189.562811 93.723893 \nL 189.817083 90.584672 \nL 190.071355 47.17037 \nL 190.325627 106.245482 \nL 190.579899 88.371264 \nL 190.834171 98.69446 \nL 191.088443 98.359547 \nL 191.342715 44.923897 \nL 191.596987 105.773743 \nL 191.851259 97.29587 \nL 192.105531 83.945087 \nL 192.359803 92.788619 \nL 192.614075 89.105274 \nL 192.868347 103.645911 \nL 193.122619 50.28888 \nL 193.376891 99.718242 \nL 193.631163 43.335475 \nL 194.139708 94.490954 \nL 194.39398 94.220478 \nL 194.648252 44.47651 \nL 194.902524 102.971014 \nL 195.156796 86.782291 \nL 195.411068 110.044321 \nL 195.66534 99.750796 \nL 195.919612 94.515572 \nL 196.428156 76.792675 \nL 196.682428 87.014798 \nL 196.9367 90.231162 \nL 197.190972 95.574566 \nL 197.445244 120.178978 \nL 197.699516 90.595455 \nL 197.953788 117.075505 \nL 198.20806 86.481009 \nL 198.462332 96.921706 \nL 198.716604 43.190306 \nL 198.970876 102.765647 \nL 199.225148 48.450766 \nL 199.47942 100.612079 \nL 199.733693 48.490328 \nL 199.987965 89.024967 \nL 200.242237 25.589492 \nL 200.496509 72.06964 \nL 200.750781 71.106538 \nL 201.005053 82.330638 \nL 201.259325 43.620487 \nL 201.513597 52.438099 \nL 201.767869 88.331137 \nL 202.022141 41.440195 \nL 202.276413 102.774633 \nL 202.530685 87.391171 \nL 202.784957 93.869143 \nL 203.039229 92.568872 \nL 203.293501 41.152356 \nL 203.547773 39.855406 \nL 203.802045 107.096614 \nL 204.310589 44.792179 \nL 204.564861 103.871693 \nL 204.819133 98.769014 \nL 205.327678 84.653029 \nL 205.58195 43.550802 \nL 205.836222 53.844001 \nL 206.090494 91.652148 \nL 206.344766 95.669135 \nL 206.599038 104.041123 \nL 206.85331 44.955035 \nL 207.107582 89.356739 \nL 207.361854 85.968034 \nL 207.616126 94.501958 \nL 208.12467 54.437824 \nL 208.378942 95.086166 \nL 208.633214 90.316881 \nL 208.887486 98.238882 \nL 209.141758 68.918582 \nL 209.39603 63.240362 \nL 209.650302 51.223661 \nL 209.904574 27.74288 \nL 210.158846 102.213243 \nL 210.413118 87.196486 \nL 210.66739 44.626336 \nL 210.921662 36.522253 \nL 211.175935 56.503887 \nL 211.430207 91.429262 \nL 211.684479 82.944122 \nL 211.938751 42.650667 \nL 212.193023 80.200379 \nL 212.447295 55.977547 \nL 212.701567 83.09292 \nL 212.955839 94.454255 \nL 213.464383 28.132622 \nL 213.718655 54.717548 \nL 213.972927 58.321878 \nL 214.227199 85.416947 \nL 214.481471 81.140936 \nL 214.735743 103.336771 \nL 214.990015 54.054569 \nL 215.244287 101.490075 \nL 215.498559 31.311291 \nL 215.752831 91.568656 \nL 216.007103 85.242097 \nL 216.261375 81.733499 \nL 216.515647 31.531451 \nL 216.769919 94.651162 \nL 217.024192 39.06707 \nL 217.278464 37.371083 \nL 217.532736 80.087914 \nL 217.787008 43.01359 \nL 218.04128 29.851503 \nL 218.295552 74.049135 \nL 218.549824 51.765262 \nL 218.804096 62.184644 \nL 219.058368 36.373733 \nL 219.31264 52.985686 \nL 219.566912 30.193732 \nL 219.821184 32.231235 \nL 220.075456 50.095942 \nL 220.329728 80.539624 \nL 220.584 97.111027 \nL 220.838272 33.517152 \nL 221.092544 35.27963 \nL 221.346816 104.070648 \nL 221.601088 88.69863 \nL 221.85536 89.37968 \nL 222.109632 99.231858 \nL 222.363904 88.323908 \nL 222.618176 52.188827 \nL 222.872449 38.637347 \nL 223.126721 99.612984 \nL 223.380993 94.567125 \nL 223.635265 80.540946 \nL 223.889537 114.19551 \nL 224.143809 92.211063 \nL 224.398081 48.428578 \nL 224.652353 105.04084 \nL 224.906625 38.859329 \nL 225.160897 93.490772 \nL 225.415169 56.312567 \nL 225.669441 99.873703 \nL 225.923713 99.537377 \nL 226.177985 65.923618 \nL 226.686529 59.431408 \nL 226.940801 46.004307 \nL 227.195073 80.161755 \nL 227.449345 98.283603 \nL 227.703617 89.852189 \nL 227.957889 94.896264 \nL 228.212161 91.000349 \nL 228.720706 44.342553 \nL 228.974978 77.369402 \nL 229.22925 58.72112 \nL 229.483522 91.792532 \nL 229.737794 85.508957 \nL 229.992066 48.519023 \nL 230.246338 97.772259 \nL 230.50061 43.719046 \nL 230.754882 47.204298 \nL 231.009154 79.293474 \nL 231.263426 87.448909 \nL 231.517698 58.409754 \nL 231.77197 59.687197 \nL 232.026242 99.812396 \nL 232.280514 87.937761 \nL 232.534786 85.776275 \nL 232.789058 49.168524 \nL 233.04333 51.144118 \nL 233.297602 73.372348 \nL 233.551874 61.016796 \nL 233.806146 91.893987 \nL 234.060418 90.623748 \nL 234.31469 92.857056 \nL 234.568963 64.356698 \nL 234.823235 88.463048 \nL 235.077507 56.529689 \nL 235.331779 98.862555 \nL 235.586051 103.653932 \nL 236.094595 91.382005 \nL 236.348867 56.68502 \nL 236.603139 91.348547 \nL 236.857411 48.447289 \nL 237.111683 94.31653 \nL 237.365955 56.495284 \nL 237.620227 79.535898 \nL 237.874499 52.585882 \nL 238.128771 61.66901 \nL 238.383043 115.049297 \nL 238.637315 90.994998 \nL 238.891587 100.94984 \nL 239.145859 92.619899 \nL 239.400131 95.468118 \nL 239.654403 93.040568 \nL 239.908675 92.267546 \nL 240.162947 88.680174 \nL 240.41722 86.818033 \nL 240.925764 91.619359 \nL 241.180036 52.67756 \nL 241.942852 107.999321 \nL 242.197124 92.195423 \nL 242.451396 91.83486 \nL 242.705668 100.152098 \nL 242.95994 49.138055 \nL 243.214212 52.985685 \nL 243.468484 93.428537 \nL 243.722756 48.191954 \nL 243.977028 89.387007 \nL 244.2313 49.528347 \nL 244.485572 93.054324 \nL 244.994116 98.316449 \nL 245.248388 49.523397 \nL 245.50266 89.559787 \nL 246.011205 24.710384 \nL 246.265477 83.551918 \nL 246.774021 106.404859 \nL 247.028293 106.53102 \nL 247.282565 112.494731 \nL 247.536837 89.97484 \nL 247.791109 88.98269 \nL 248.045381 96.133394 \nL 248.553925 86.910579 \nL 248.808197 77.283487 \nL 249.062469 98.53983 \nL 249.571013 71.787475 \nL 249.825285 98.515785 \nL 250.079557 57.663564 \nL 250.333829 102.936185 \nL 250.588101 47.664908 \nL 250.842373 83.71045 \nL 251.096645 94.800246 \nL 251.350917 93.56914 \nL 251.605189 94.219035 \nL 251.859462 88.852049 \nL 252.113734 39.143699 \nL 252.368006 56.809499 \nL 252.622278 99.136706 \nL 252.87655 28.751011 \nL 253.385094 89.394531 \nL 253.639366 50.374303 \nL 253.893638 94.51386 \nL 254.14791 34.946109 \nL 254.402182 101.106954 \nL 254.656454 97.37267 \nL 254.910726 53.126737 \nL 255.164998 94.90524 \nL 255.41927 112.440293 \nL 255.673542 161.888287 \nL 255.927814 98.926924 \nL 256.182086 94.361572 \nL 256.436358 97.690134 \nL 256.69063 36.289001 \nL 256.944902 185.283105 \nL 257.199174 96.530045 \nL 257.453446 103.955377 \nL 257.707719 100.400194 \nL 257.961991 48.049036 \nL 258.470535 57.469718 \nL 258.724807 103.253204 \nL 258.979079 92.473938 \nL 259.233351 46.722275 \nL 259.487623 87.461145 \nL 259.741895 98.593381 \nL 259.996167 39.041519 \nL 260.250439 85.993255 \nL 260.504711 42.904257 \nL 260.758983 90.419718 \nL 261.013255 59.160262 \nL 261.267527 98.622924 \nL 261.521799 44.75013 \nL 261.776071 103.046763 \nL 262.030343 52.34685 \nL 262.284615 95.33708 \nL 262.538887 85.820596 \nL 262.793159 92.665167 \nL 263.047431 38.751496 \nL 263.301703 94.192303 \nL 263.555976 95.530997 \nL 263.810248 103.415887 \nL 264.06452 42.335964 \nL 264.318792 48.336817 \nL 264.573064 103.654188 \nL 264.827336 100.471697 \nL 265.081608 39.530211 \nL 265.33588 93.597168 \nL 265.590152 43.518528 \nL 265.844424 93.235195 \nL 266.098696 91.915781 \nL 266.352968 88.106474 \nL 266.60724 95.417175 \nL 266.861512 96.566559 \nL 267.370056 86.327612 \nL 267.624328 92.943067 \nL 267.8786 52.705454 \nL 268.132872 91.951284 \nL 268.387144 81.598602 \nL 268.895688 102.318518 \nL 269.14996 56.504022 \nL 269.404233 98.405515 \nL 269.658505 46.235503 \nL 270.167049 98.240496 \nL 270.421321 54.345762 \nL 270.675593 52.446509 \nL 270.929865 77.222379 \nL 271.438409 98.416837 \nL 271.692681 95.41835 \nL 271.946953 99.557966 \nL 272.201225 92.7117 \nL 272.455497 47.632499 \nL 272.709769 95.698396 \nL 272.964041 90.674326 \nL 273.218313 73.388189 \nL 273.472585 90.065475 \nL 273.726857 69.784269 \nL 273.981129 100.27595 \nL 274.235401 51.36 \nL 274.489673 65.079389 \nL 274.743945 104.182628 \nL 274.998217 107.749376 \nL 275.25249 86.039223 \nL 275.506762 95.946222 \nL 275.761034 45.629257 \nL 276.015306 101.133404 \nL 276.269578 86.136601 \nL 276.52385 46.564659 \nL 276.778122 62.899338 \nL 277.032394 71.817581 \nL 277.286666 127.649811 \nL 277.79521 56.401297 \nL 278.049482 97.07676 \nL 278.303754 64.719785 \nL 278.558026 95.666862 \nL 278.812298 100.298915 \nL 279.06657 41.538179 \nL 279.320842 86.632378 \nL 279.575114 40.895564 \nL 279.829386 50.73437 \nL 280.083658 74.901575 \nL 280.33793 51.058078 \nL 280.592202 108.296515 \nL 280.846474 96.32438 \nL 281.100747 43.552952 \nL 281.355019 92.947415 \nL 281.609291 98.042482 \nL 281.863563 47.531963 \nL 282.117835 61.118894 \nL 282.372107 27.573157 \nL 282.626379 104.904282 \nL 282.880651 84.40047 \nL 283.134923 96.686913 \nL 283.389195 30.677643 \nL 283.643467 28.572748 \nL 283.897739 86.003142 \nL 284.152011 84.311169 \nL 284.406283 40.449359 \nL 284.660555 93.238227 \nL 284.914827 95.496804 \nL 285.169099 39.360019 \nL 285.423371 54.848199 \nL 285.677643 42.18243 \nL 285.931915 88.760001 \nL 286.186187 39.097365 \nL 286.440459 101.232128 \nL 286.694732 98.357637 \nL 286.949004 27.918774 \nL 287.203276 44.003708 \nL 287.457548 44.781865 \nL 287.71182 87.435237 \nL 287.966092 57.78949 \nL 288.220364 55.375298 \nL 288.474636 81.528358 \nL 288.728908 39.367572 \nL 288.98318 74.104925 \nL 289.237452 91.528431 \nL 289.491724 36.068596 \nL 289.745996 102.953575 \nL 290.000268 59.271338 \nL 290.25454 90.556601 \nL 290.508812 56.147186 \nL 290.763084 55.094428 \nL 291.271628 95.847533 \nL 291.5259 75.865881 \nL 291.780172 45.523798 \nL 292.034444 55.070869 \nL 292.288716 55.261094 \nL 292.542989 92.841181 \nL 292.797261 48.076945 \nL 293.051533 55.601605 \nL 293.305805 95.941351 \nL 293.560077 51.173231 \nL 293.814349 35.636728 \nL 294.322893 53.071195 \nL 294.577165 94.434948 \nL 294.831437 95.222038 \nL 295.085709 93.932116 \nL 295.339981 46.815536 \nL 295.594253 134.000098 \nL 295.848525 36.809515 \nL 296.611341 62.596733 \nL 296.865613 98.562574 \nL 297.119885 38.342812 \nL 297.628429 98.437097 \nL 297.882701 90.613439 \nL 298.391246 103.522923 \nL 298.645518 27.91899 \nL 298.89979 132.002371 \nL 299.154062 29.388756 \nL 299.662606 87.49108 \nL 299.916878 29.236401 \nL 300.17115 78.359455 \nL 300.425422 95.72145 \nL 300.679694 95.882064 \nL 300.933966 46.349943 \nL 301.188238 47.563746 \nL 301.44251 138.811608 \nL 301.696782 42.150149 \nL 301.951054 23.627365 \nL 302.205326 108.250627 \nL 302.459598 60.254731 \nL 302.71387 35.659444 \nL 302.968142 42.933708 \nL 303.222414 63.454232 \nL 303.476686 32.073303 \nL 303.730958 43.607779 \nL 303.98523 48.449822 \nL 304.748047 23.324032 \nL 305.002319 79.966213 \nL 305.256591 96.831134 \nL 305.510863 37.35591 \nL 305.765135 36.854218 \nL 306.273679 51.225068 \nL 306.527951 47.683141 \nL 306.782223 99.001799 \nL 307.036495 56.586766 \nL 307.290767 36.35735 \nL 307.545039 94.418629 \nL 307.799311 38.523145 \nL 308.053583 51.902343 \nL 308.307855 102.298229 \nL 308.562127 94.930157 \nL 308.816399 44.603249 \nL 309.070671 48.506352 \nL 309.324943 45.492479 \nL 309.579215 48.241986 \nL 309.833487 39.853537 \nL 310.08776 85.979958 \nL 310.342032 40.509786 \nL 310.596304 107.126187 \nL 310.850576 57.714972 \nL 311.104848 61.619042 \nL 311.35912 49.61984 \nL 311.613392 55.239729 \nL 312.121936 92.878223 \nL 312.376208 51.402296 \nL 312.63048 29.778851 \nL 312.884752 97.132772 \nL 313.139024 101.028674 \nL 313.393296 39.675926 \nL 313.647568 43.510847 \nL 313.90184 35.230225 \nL 314.156112 99.87103 \nL 314.410384 37.322821 \nL 314.664656 32.52689 \nL 314.918928 45.572011 \nL 315.1732 92.031795 \nL 315.427472 47.226692 \nL 315.681744 59.378062 \nL 315.936017 81.313154 \nL 316.444561 33.437575 \nL 316.698833 51.360439 \nL 316.953105 41.911259 \nL 317.207377 47.133887 \nL 317.461649 33.211524 \nL 317.715921 97.396018 \nL 317.970193 47.631901 \nL 318.224465 98.884292 \nL 318.478737 38.220464 \nL 318.733009 96.781279 \nL 318.987281 86.734969 \nL 319.241553 47.457689 \nL 319.495825 64.130408 \nL 319.750097 91.702193 \nL 320.004369 53.501473 \nL 320.258641 45.105581 \nL 320.512913 111.724964 \nL 320.767185 84.950076 \nL 321.021457 37.507476 \nL 321.275729 104.138412 \nL 321.530001 49.983454 \nL 321.784274 44.850067 \nL 322.038546 36.858977 \nL 322.292818 103.604807 \nL 322.801362 52.459485 \nL 323.055634 43.944031 \nL 323.309906 98.129968 \nL 323.564178 95.496329 \nL 323.81845 96.06411 \nL 324.072722 90.03065 \nL 324.326994 52.013544 \nL 324.581266 66.687934 \nL 324.835538 53.409162 \nL 325.08981 97.245274 \nL 325.344082 34.133915 \nL 325.598354 92.955326 \nL 325.852626 88.693948 \nL 326.106898 92.058039 \nL 326.36117 98.024673 \nL 326.615442 110.303211 \nL 326.869714 49.75577 \nL 327.123986 45.283869 \nL 327.378259 49.779411 \nL 327.632531 105.537072 \nL 327.886803 85.866674 \nL 328.141075 55.183392 \nL 328.395347 95.976748 \nL 328.649619 79.390037 \nL 328.903891 96.172518 \nL 329.158163 84.445211 \nL 329.412435 94.898902 \nL 329.666707 35.342469 \nL 329.920979 37.898131 \nL 330.175251 84.230964 \nL 330.429523 35.64357 \nL 330.683795 43.836609 \nL 330.938067 25.374641 \nL 331.192339 100.60198 \nL 331.446611 48.366429 \nL 331.700883 103.065856 \nL 331.955155 62.756066 \nL 332.209427 57.211055 \nL 332.463699 56.567913 \nL 332.717971 93.63423 \nL 332.972243 96.072621 \nL 333.226516 96.701743 \nL 333.480788 87.097945 \nL 333.73506 87.772622 \nL 333.989332 77.249245 \nL 334.243604 49.274135 \nL 334.497876 68.6046 \nL 334.752148 58.604358 \nL 335.00642 91.105724 \nL 335.260692 46.046446 \nL 335.514964 58.858344 \nL 335.769236 93.671723 \nL 336.023508 97.058585 \nL 336.27778 34.067567 \nL 336.786324 89.830131 \nL 337.040596 42.233063 \nL 337.294868 38.25487 \nL 337.54914 53.280386 \nL 337.803412 46.142521 \nL 338.057684 92.971675 \nL 338.311956 25.904052 \nL 338.566228 72.596058 \nL 338.8205 86.380913 \nL 339.074773 44.38937 \nL 339.329045 38.525644 \nL 339.583317 96.324297 \nL 339.837589 90.204494 \nL 340.091861 40.448677 \nL 340.346133 23.164122 \nL 340.600405 49.820498 \nL 340.854677 42.349327 \nL 341.108949 31.358422 \nL 341.363221 45.713508 \nL 341.617493 38.646844 \nL 341.871765 77.52176 \nL 342.126037 23.941508 \nL 342.380309 53.390524 \nL 342.634581 33.725208 \nL 342.888853 66.071199 \nL 343.143125 51.715873 \nL 343.397397 86.969647 \nL 343.651669 106.232361 \nL 343.905941 38.795656 \nL 344.160213 83.57436 \nL 344.668757 37.17047 \nL 344.92303 71.309541 \nL 345.431574 42.9543 \nL 345.685846 38.309238 \nL 346.19439 57.847504 \nL 346.448662 35.636634 \nL 346.702934 58.371968 \nL 346.957206 34.113454 \nL 347.211478 55.073655 \nL 347.46575 26.323681 \nL 347.720022 34.50593 \nL 347.974294 27.932523 \nL 348.228566 54.281901 \nL 348.482838 43.697508 \nL 348.73711 96.407466 \nL 348.991382 74.009366 \nL 349.245654 39.482402 \nL 349.499926 67.68707 \nL 350.00847 22.148434 \nL 351.025559 43.816065 \nL 351.279831 28.409177 \nL 351.534103 30.052201 \nL 351.788375 41.02523 \nL 352.042647 22.670832 \nL 352.296919 45.12146 \nL 352.551191 36.550333 \nL 353.059735 49.473082 \nL 353.314007 29.374307 \nL 353.568279 79.57017 \nL 353.822551 37.568247 \nL 354.076823 26.95121 \nL 354.331095 38.73808 \nL 354.585367 88.894496 \nL 354.839639 55.23825 \nL 355.348183 27.239817 \nL 355.602455 46.992232 \nL 355.856727 29.436145 \nL 356.110999 21.693055 \nL 356.365271 27.722156 \nL 356.619544 22.526656 \nL 356.873816 48.282468 \nL 357.38236 57.650183 \nL 357.636632 51.376198 \nL 358.145176 30.22504 \nL 358.399448 30.546092 \nL 358.65372 90.055229 \nL 358.907992 41.342816 \nL 359.162264 25.214993 \nL 359.416536 49.557826 \nL 359.670808 17.083636 \nL 359.92508 28.094384 \nL 360.433624 32.286788 \nL 360.942168 30.170772 \nL 361.19644 54.25934 \nL 361.450712 90.635033 \nL 361.704984 29.708839 \nL 361.959256 25.413662 \nL 362.213528 45.686425 \nL 362.467801 34.983612 \nL 362.722073 29.333474 \nL 362.976345 32.043153 \nL 363.230617 30.37223 \nL 363.484889 35.594213 \nL 363.739161 37.677375 \nL 364.247705 17.313171 \nL 364.501977 34.431245 \nL 364.756249 38.590806 \nL 365.010521 47.737847 \nL 365.264793 23.751574 \nL 365.519065 50.395424 \nL 365.773337 25.17092 \nL 366.027609 32.018835 \nL 366.281881 35.312181 \nL 366.536153 52.159113 \nL 366.790425 31.528394 \nL 367.044697 36.705912 \nL 367.298969 38.27648 \nL 367.553241 45.71288 \nL 367.807513 34.34947 \nL 368.061786 89.368768 \nL 368.824602 19.078577 \nL 369.078874 53.707946 \nL 369.333146 20.943778 \nL 369.587418 21.689639 \nL 369.84169 23.794877 \nL 370.095962 22.20879 \nL 370.350234 82.043719 \nL 370.858778 24.716578 \nL 371.11305 37.740737 \nL 371.367322 44.926625 \nL 371.621594 28.952816 \nL 371.875866 27.321311 \nL 372.38441 18.352408 \nL 372.892954 41.105088 \nL 373.147226 25.488228 \nL 373.401498 21.113882 \nL 373.65577 31.802584 \nL 373.910043 32.732705 \nL 374.164315 18.282104 \nL 374.418587 28.219232 \nL 374.672859 31.175513 \nL 374.927131 20.34503 \nL 374.927131 20.34503 \n\" style=\"fill:none;stroke:#1f77b4;stroke-linecap:square;stroke-width:1.5;\"/>\n   </g>\n   <g id=\"patch_3\">\n    <path d=\"M 55.345313 224.64 \nL 55.345313 7.2 \n\" style=\"fill:none;stroke:#000000;stroke-linecap:square;stroke-linejoin:miter;stroke-width:0.8;\"/>\n   </g>\n   <g id=\"patch_4\">\n    <path d=\"M 390.145312 224.64 \nL 390.145312 7.2 \n\" style=\"fill:none;stroke:#000000;stroke-linecap:square;stroke-linejoin:miter;stroke-width:0.8;\"/>\n   </g>\n   <g id=\"patch_5\">\n    <path d=\"M 55.345313 224.64 \nL 390.145312 224.64 \n\" style=\"fill:none;stroke:#000000;stroke-linecap:square;stroke-linejoin:miter;stroke-width:0.8;\"/>\n   </g>\n   <g id=\"patch_6\">\n    <path d=\"M 55.345313 7.2 \nL 390.145312 7.2 \n\" style=\"fill:none;stroke:#000000;stroke-linecap:square;stroke-linejoin:miter;stroke-width:0.8;\"/>\n   </g>\n  </g>\n </g>\n <defs>\n  <clipPath id=\"p422c0ddf0b\">\n   <rect height=\"217.44\" width=\"334.8\" x=\"55.345313\" y=\"7.2\"/>\n  </clipPath>\n </defs>\n</svg>\n",
      "image/png": "[encoded data removed]"
     },
     "metadata": {
      "needs_background": "light"
     }
    }
   ],
   "metadata": {}
  },
  {
   "cell_type": "code",
   "execution_count": 11,
   "source": [
    "# load the weights from file\n",
    "agent.qnetwork_local.load_state_dict(torch.load('checkpoint.pth'))\n",
    "\n",
    "for i in range(3):\n",
    "    state = env.reset()\n",
    "    for j in range(200):\n",
    "        action = agent.act(state)\n",
    "        env.render()\n",
    "        state, reward, done, _ = env.step(action)\n",
    "        if done:\n",
    "            break\n",
    "\n",
    "env.close()"
   ],
   "outputs": [],
   "metadata": {}
  },
  {
   "cell_type": "code",
   "execution_count": null,
   "source": [],
   "outputs": [],
   "metadata": {}
  }
 ],
 "metadata": {
  "kernelspec": {
   "name": "python3",
   "display_name": "Python 3.6.13 64-bit ('tftorch': conda)"
  },
  "language_info": {
   "codemirror_mode": {
    "name": "ipython",
    "version": 3
   },
   "file_extension": ".py",
   "mimetype": "text/x-python",
   "name": "python",
   "nbconvert_exporter": "python",
   "pygments_lexer": "ipython3",
   "version": "3.6.13"
  },
  "interpreter": {
   "hash": "3242c50314a9a68f934114b03bfda27d4d4439c8399dcbb46cdc3239617c61c1"
  }
 },
 "nbformat": 4,
 "nbformat_minor": 2
}