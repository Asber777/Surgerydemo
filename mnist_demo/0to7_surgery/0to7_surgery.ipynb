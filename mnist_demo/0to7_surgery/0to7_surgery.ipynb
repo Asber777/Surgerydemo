{
 "cells": [
  {
   "cell_type": "code",
   "execution_count": 1,
   "source": [
    "# 开始训练0-3的mnist模型\n",
    "import torch \n",
    "import torchvision\n",
    "from torchvision.datasets import mnist # 获取数据集和数据预处理\n",
    "import matplotlib.pyplot as plt\n",
    "from torch.utils.data import Subset\n",
    "from torch.utils.data import DataLoader\n",
    "\n",
    "data_tf = torchvision.transforms.Compose(\n",
    "    [\n",
    "        torchvision.transforms.ToTensor(),\n",
    "        torchvision.transforms.Normalize([0.5],[0.5])\n",
    "    ]\n",
    ")\n",
    "data_path = '/home/.faa/data'\n",
    "batch_size = 256\n",
    "# 获取数据集\n",
    "train_data = mnist.MNIST(data_path,train=True,transform=data_tf,download=True)\n",
    "test_data = mnist.MNIST(data_path,train=False,transform=data_tf,download=True)\n",
    "train_index = torch.zeros_like(train_data.targets)\n",
    "test_index = torch.zeros_like(test_data.targets)\n",
    "for i in range(8):\n",
    "    train_index |= train_data.targets == i\n",
    "    test_index |= test_data.targets == i\n",
    "train_loader_0to7 = DataLoader(Subset(train_data, torch.nonzero(train_index).reshape(-1)), batch_size=batch_size, shuffle=True)\n",
    "test_loader_0to7 = DataLoader(Subset(test_data, torch.nonzero(test_index).reshape(-1)), batch_size=batch_size, shuffle=True)"
   ],
   "outputs": [],
   "metadata": {}
  },
  {
   "cell_type": "code",
   "execution_count": 2,
   "source": [
    "train_index = torch.zeros_like(train_data.targets)\n",
    "test_index = torch.zeros_like(test_data.targets)\n",
    "for i in range(4):\n",
    "    train_index |= train_data.targets == i\n",
    "    test_index |= test_data.targets == i\n",
    "train_loader_0to3 = DataLoader(Subset(train_data, torch.nonzero(train_index).reshape(-1)), batch_size=batch_size, shuffle=True)\n",
    "test_loader_0to3 = DataLoader(Subset(test_data, torch.nonzero(test_index).reshape(-1)), batch_size=batch_size, shuffle=True)"
   ],
   "outputs": [],
   "metadata": {}
  },
  {
   "cell_type": "code",
   "execution_count": 3,
   "source": [
    "import torch.nn as nn\n",
    "import torch.nn.functional as F\n",
    "import torch.optim as optim\n",
    "\n",
    "class CNN(nn.Module):\n",
    "    def __init__(self, output_channel, hidden1, hidden2, mlp_hidden):\n",
    "        super(CNN,self).__init__()\n",
    "        self.view_input_dim=4*4*hidden2\n",
    "        self.conv1=nn.Conv2d(1,hidden1,5,1)\n",
    "        self.conv2=nn.Conv2d(hidden1,hidden2,5,1)\n",
    "        self.fc1=nn.Linear(self.view_input_dim,mlp_hidden)\n",
    "        self.fc2=nn.Linear(mlp_hidden,output_channel)\n",
    "\n",
    "    def forward(self,x):\n",
    "        x=F.relu(self.conv1(x))\n",
    "        x=F.max_pool2d(x,2,2)\n",
    "        x=F.relu(self.conv2(x))\n",
    "        x=F.max_pool2d(x,2,2)\n",
    "        x=x.view(-1,self.view_input_dim)\n",
    "        x=F.relu(self.fc1(x))\n",
    "        x=self.fc2(x)\n",
    "        return F.log_softmax(x,dim=1)   "
   ],
   "outputs": [],
   "metadata": {}
  },
  {
   "cell_type": "code",
   "execution_count": 26,
   "source": [
    "lr=0.005#学习率\n",
    "momentum=0.5\n",
    "torch.cuda.set_device(0)\n",
    "device=torch.device(\"cuda\" if torch.cuda.is_available() else \"cpu\" )\n",
    "model=CNN(8, 40, 100, 800).to(device)\n",
    "optimizer=optim.SGD(model.parameters(),lr=lr,momentum=momentum, weight_decay=0.01)"
   ],
   "outputs": [],
   "metadata": {}
  },
  {
   "cell_type": "code",
   "execution_count": 10,
   "source": [
    "old = torch.load('0to3/0-3_cnn.ckpt')"
   ],
   "outputs": [],
   "metadata": {}
  },
  {
   "cell_type": "code",
   "execution_count": 11,
   "source": [
    "for name, g in model.named_parameters():\n",
    "    print(name, g.shape, old[name].shape)"
   ],
   "outputs": [
    {
     "output_type": "stream",
     "name": "stdout",
     "text": [
      "conv1.weight torch.Size([40, 1, 5, 5]) torch.Size([20, 1, 5, 5])\n",
      "conv1.bias torch.Size([40]) torch.Size([20])\n",
      "conv2.weight torch.Size([100, 40, 5, 5]) torch.Size([50, 20, 5, 5])\n",
      "conv2.bias torch.Size([100]) torch.Size([50])\n",
      "fc1.weight torch.Size([800, 1600]) torch.Size([500, 800])\n",
      "fc1.bias torch.Size([800]) torch.Size([500])\n",
      "fc2.weight torch.Size([8, 800]) torch.Size([4, 500])\n",
      "fc2.bias torch.Size([8]) torch.Size([4])\n"
     ]
    }
   ],
   "metadata": {}
  },
  {
   "cell_type": "code",
   "execution_count": 28,
   "source": [
    "import re\n",
    "for i, (name, g) in enumerate(model.named_parameters()):\n",
    "    old_g = old[name].data\n",
    "    opname, wname = name.split('.')\n",
    "    if re.match('weight', wname):\n",
    "        if re.match('conv*', opname):\n",
    "            new_g = g.data\n",
    "        else: # fc\n",
    "            new_g = torch.zeros_like(g)\n",
    "        outd, ind = old_g.shape[0], old_g.shape[1]\n",
    "        new_g[:outd, :ind] = old_g\n",
    "    elif re.match('bias', wname):\n",
    "        new_g = torch.zeros_like(g)\n",
    "        new_g[:old_g.shape[0]] = old_g\n",
    "    g.data = new_g"
   ],
   "outputs": [],
   "metadata": {}
  },
  {
   "cell_type": "code",
   "execution_count": 29,
   "source": [
    "model.eval()\n",
    "correct=0\n",
    "num = 0\n",
    "with torch.no_grad():\n",
    "    for _,(t_data,t_target) in enumerate(test_loader_0to3):\n",
    "        t_data,t_target=t_data.to(device),t_target.to(device)\n",
    "        pred=model(t_data)\n",
    "        pred_class=pred.argmax(dim=1)\n",
    "        correct+=pred_class.eq(t_target.view_as(pred_class)).sum().item()\n",
    "        num += len(t_target)\n",
    "acc=correct/num\n",
    "print(\"accuracy:{}\".format(acc))"
   ],
   "outputs": [
    {
     "output_type": "stream",
     "name": "stdout",
     "text": [
      "accuracy:0.9778686552802501\n"
     ]
    }
   ],
   "metadata": {}
  },
  {
   "cell_type": "code",
   "execution_count": 30,
   "source": [
    "model.eval()\n",
    "correct=0\n",
    "num = 0\n",
    "with torch.no_grad():\n",
    "    for _,(t_data,t_target) in enumerate(test_loader_0to7):\n",
    "        t_data,t_target=t_data.to(device),t_target.to(device)\n",
    "        pred=model(t_data)\n",
    "        pred_class=pred.argmax(dim=1)\n",
    "        correct+=pred_class.eq(t_target.view_as(pred_class)).sum().item()\n",
    "        num += len(t_target)\n",
    "acc=correct/num\n",
    "print(\"accuracy:{}\".format(acc))"
   ],
   "outputs": [
    {
     "output_type": "stream",
     "name": "stdout",
     "text": [
      "accuracy:0.5070475240114756\n"
     ]
    }
   ],
   "metadata": {}
  },
  {
   "cell_type": "code",
   "execution_count": 31,
   "source": [
    "num_epochs=5\n",
    "losses=[]\n",
    "acces=[]\n",
    "step = 0\n",
    "def loop(model,device,train_loader,test_loader, optimizer):\n",
    "    global step, losses, acces\n",
    "    model.train()\n",
    "    for _,(t_data,t_target) in enumerate(train_loader):\n",
    "        t_data,t_target=t_data.to(device),t_target.to(device)\n",
    "        pred=model(t_data)\n",
    "        loss=F.nll_loss(pred,t_target)\n",
    "        optimizer.zero_grad()#将上一步的梯度清0\n",
    "        loss.backward()#重新计算梯度\n",
    "        optimizer.step()#更新参数\n",
    "        losses.append(loss.detach())\n",
    "        step += 1\n",
    "        if step % 50==0:\n",
    "            model.eval()\n",
    "            correct=0\n",
    "            num = 0\n",
    "            with torch.no_grad():\n",
    "                for _,(t_data,t_target) in enumerate(test_loader):\n",
    "                    t_data,t_target=t_data.to(device),t_target.to(device)\n",
    "                    pred=model(t_data)\n",
    "                    pred_class=pred.argmax(dim=1)\n",
    "                    correct+=pred_class.eq(t_target.view_as(pred_class)).sum().item()\n",
    "                    num += len(t_target)\n",
    "            acc=correct/num\n",
    "            print(\"step:{},accuracy:{}\".format(step, acc))\n",
    "            acces.append(acc)\n",
    "            model.train()\n",
    "    \n",
    "for epoch in range(num_epochs):\n",
    "    loop(model,device,train_loader_0to7, test_loader_0to7, optimizer)"
   ],
   "outputs": [
    {
     "output_type": "stream",
     "name": "stdout",
     "text": [
      "step:50,accuracy:0.8318573032306349\n",
      "step:100,accuracy:0.8934763627292005\n",
      "step:150,accuracy:0.9170512660596233\n",
      "step:200,accuracy:0.9297742297617563\n",
      "step:250,accuracy:0.9391293501309717\n",
      "step:300,accuracy:0.9439940127229637\n",
      "step:350,accuracy:0.9503554945740302\n",
      "step:400,accuracy:0.9549706872895098\n",
      "step:450,accuracy:0.9577148559311464\n",
      "step:500,accuracy:0.9592116751902208\n",
      "step:550,accuracy:0.9619558438318573\n",
      "step:600,accuracy:0.9637021329674442\n",
      "step:650,accuracy:0.9651989522265186\n",
      "step:700,accuracy:0.9663215666708245\n",
      "step:750,accuracy:0.9673194461768742\n",
      "step:800,accuracy:0.9669452413621056\n",
      "step:850,accuracy:0.9691904702507173\n",
      "step:900,accuracy:0.9694399401272297\n"
     ]
    }
   ],
   "metadata": {}
  },
  {
   "cell_type": "code",
   "execution_count": 32,
   "source": [
    "torch.save(model.state_dict(), '0-7_cnn.ckpt')\n",
    "import numpy as np\n",
    "np.savetxt(\"losses_0to7_surgery\", losses)\n",
    "np.savetxt(\"acces_0to7_surgery\", acces)"
   ],
   "outputs": [],
   "metadata": {}
  },
  {
   "cell_type": "code",
   "execution_count": null,
   "source": [
    "torch.save(model.state_dict(), '0-7_cnn_surgery.ckpt')"
   ],
   "outputs": [],
   "metadata": {}
  },
  {
   "cell_type": "code",
   "execution_count": null,
   "source": [],
   "outputs": [],
   "metadata": {}
  }
 ],
 "metadata": {
  "orig_nbformat": 4,
  "language_info": {
   "name": "python",
   "version": "3.6.13",
   "mimetype": "text/x-python",
   "codemirror_mode": {
    "name": "ipython",
    "version": 3
   },
   "pygments_lexer": "ipython3",
   "nbconvert_exporter": "python",
   "file_extension": ".py"
  },
  "kernelspec": {
   "name": "python3",
   "display_name": "Python 3.6.13 64-bit ('tftorch': conda)"
  },
  "interpreter": {
   "hash": "3242c50314a9a68f934114b03bfda27d4d4439c8399dcbb46cdc3239617c61c1"
  }
 },
 "nbformat": 4,
 "nbformat_minor": 2
}